{
 "cells": [
  {
   "cell_type": "code",
   "execution_count": 20,
   "id": "ace780dc",
   "metadata": {
    "scrolled": true
   },
   "outputs": [],
   "source": [
    "import numpy as np\n",
    "import pandas as pd\n",
    "import matplotlib.pyplot as plt\n",
    "from sklearn.cluster import KMeans \n",
    "import plotly.graph_objects as go\n",
    "from sklearn import preprocessing\n",
    "from sklearn.metrics import silhouette_score\n",
    "from sklearn.cluster import AgglomerativeClustering\n",
    "from sklearn.cluster import DBSCAN\n",
    "import time\n",
    "import seaborn as sns"
   ]
  },
  {
   "cell_type": "code",
   "execution_count": 21,
   "id": "216e6688",
   "metadata": {
    "scrolled": true
   },
   "outputs": [
    {
     "data": {
      "text/html": [
       "<div>\n",
       "<style scoped>\n",
       "    .dataframe tbody tr th:only-of-type {\n",
       "        vertical-align: middle;\n",
       "    }\n",
       "\n",
       "    .dataframe tbody tr th {\n",
       "        vertical-align: top;\n",
       "    }\n",
       "\n",
       "    .dataframe thead th {\n",
       "        text-align: right;\n",
       "    }\n",
       "</style>\n",
       "<table border=\"1\" class=\"dataframe\">\n",
       "  <thead>\n",
       "    <tr style=\"text-align: right;\">\n",
       "      <th></th>\n",
       "      <th>Area</th>\n",
       "      <th>Perimeter</th>\n",
       "      <th>Compactness</th>\n",
       "      <th>KernelLength</th>\n",
       "      <th>KernelWidth</th>\n",
       "      <th>AsymCoeff</th>\n",
       "      <th>KernelGrov_Length</th>\n",
       "      <th>Class</th>\n",
       "    </tr>\n",
       "  </thead>\n",
       "  <tbody>\n",
       "    <tr>\n",
       "      <th>0</th>\n",
       "      <td>15.26</td>\n",
       "      <td>14.84</td>\n",
       "      <td>0.8710</td>\n",
       "      <td>5.763</td>\n",
       "      <td>3.312</td>\n",
       "      <td>2.221</td>\n",
       "      <td>5.220</td>\n",
       "      <td>1</td>\n",
       "    </tr>\n",
       "    <tr>\n",
       "      <th>1</th>\n",
       "      <td>14.88</td>\n",
       "      <td>14.57</td>\n",
       "      <td>0.8811</td>\n",
       "      <td>5.554</td>\n",
       "      <td>3.333</td>\n",
       "      <td>1.018</td>\n",
       "      <td>4.956</td>\n",
       "      <td>1</td>\n",
       "    </tr>\n",
       "    <tr>\n",
       "      <th>2</th>\n",
       "      <td>14.29</td>\n",
       "      <td>14.09</td>\n",
       "      <td>0.9050</td>\n",
       "      <td>5.291</td>\n",
       "      <td>3.337</td>\n",
       "      <td>2.699</td>\n",
       "      <td>4.825</td>\n",
       "      <td>1</td>\n",
       "    </tr>\n",
       "    <tr>\n",
       "      <th>3</th>\n",
       "      <td>13.84</td>\n",
       "      <td>13.94</td>\n",
       "      <td>0.8955</td>\n",
       "      <td>5.324</td>\n",
       "      <td>3.379</td>\n",
       "      <td>2.259</td>\n",
       "      <td>4.805</td>\n",
       "      <td>1</td>\n",
       "    </tr>\n",
       "    <tr>\n",
       "      <th>4</th>\n",
       "      <td>16.14</td>\n",
       "      <td>14.99</td>\n",
       "      <td>0.9034</td>\n",
       "      <td>5.658</td>\n",
       "      <td>3.562</td>\n",
       "      <td>1.355</td>\n",
       "      <td>5.175</td>\n",
       "      <td>1</td>\n",
       "    </tr>\n",
       "    <tr>\n",
       "      <th>...</th>\n",
       "      <td>...</td>\n",
       "      <td>...</td>\n",
       "      <td>...</td>\n",
       "      <td>...</td>\n",
       "      <td>...</td>\n",
       "      <td>...</td>\n",
       "      <td>...</td>\n",
       "      <td>...</td>\n",
       "    </tr>\n",
       "    <tr>\n",
       "      <th>205</th>\n",
       "      <td>12.19</td>\n",
       "      <td>13.20</td>\n",
       "      <td>0.8783</td>\n",
       "      <td>5.137</td>\n",
       "      <td>2.981</td>\n",
       "      <td>3.631</td>\n",
       "      <td>4.870</td>\n",
       "      <td>3</td>\n",
       "    </tr>\n",
       "    <tr>\n",
       "      <th>206</th>\n",
       "      <td>11.23</td>\n",
       "      <td>12.88</td>\n",
       "      <td>0.8511</td>\n",
       "      <td>5.140</td>\n",
       "      <td>2.795</td>\n",
       "      <td>4.325</td>\n",
       "      <td>5.003</td>\n",
       "      <td>3</td>\n",
       "    </tr>\n",
       "    <tr>\n",
       "      <th>207</th>\n",
       "      <td>13.20</td>\n",
       "      <td>13.66</td>\n",
       "      <td>0.8883</td>\n",
       "      <td>5.236</td>\n",
       "      <td>3.232</td>\n",
       "      <td>8.315</td>\n",
       "      <td>5.056</td>\n",
       "      <td>3</td>\n",
       "    </tr>\n",
       "    <tr>\n",
       "      <th>208</th>\n",
       "      <td>11.84</td>\n",
       "      <td>13.21</td>\n",
       "      <td>0.8521</td>\n",
       "      <td>5.175</td>\n",
       "      <td>2.836</td>\n",
       "      <td>3.598</td>\n",
       "      <td>5.044</td>\n",
       "      <td>3</td>\n",
       "    </tr>\n",
       "    <tr>\n",
       "      <th>209</th>\n",
       "      <td>12.30</td>\n",
       "      <td>13.34</td>\n",
       "      <td>0.8684</td>\n",
       "      <td>5.243</td>\n",
       "      <td>2.974</td>\n",
       "      <td>5.637</td>\n",
       "      <td>5.063</td>\n",
       "      <td>3</td>\n",
       "    </tr>\n",
       "  </tbody>\n",
       "</table>\n",
       "<p>210 rows × 8 columns</p>\n",
       "</div>"
      ],
      "text/plain": [
       "      Area  Perimeter  Compactness  KernelLength  KernelWidth  AsymCoeff  \\\n",
       "0    15.26      14.84       0.8710         5.763        3.312      2.221   \n",
       "1    14.88      14.57       0.8811         5.554        3.333      1.018   \n",
       "2    14.29      14.09       0.9050         5.291        3.337      2.699   \n",
       "3    13.84      13.94       0.8955         5.324        3.379      2.259   \n",
       "4    16.14      14.99       0.9034         5.658        3.562      1.355   \n",
       "..     ...        ...          ...           ...          ...        ...   \n",
       "205  12.19      13.20       0.8783         5.137        2.981      3.631   \n",
       "206  11.23      12.88       0.8511         5.140        2.795      4.325   \n",
       "207  13.20      13.66       0.8883         5.236        3.232      8.315   \n",
       "208  11.84      13.21       0.8521         5.175        2.836      3.598   \n",
       "209  12.30      13.34       0.8684         5.243        2.974      5.637   \n",
       "\n",
       "     KernelGrov_Length  Class  \n",
       "0                5.220      1  \n",
       "1                4.956      1  \n",
       "2                4.825      1  \n",
       "3                4.805      1  \n",
       "4                5.175      1  \n",
       "..                 ...    ...  \n",
       "205              4.870      3  \n",
       "206              5.003      3  \n",
       "207              5.056      3  \n",
       "208              5.044      3  \n",
       "209              5.063      3  \n",
       "\n",
       "[210 rows x 8 columns]"
      ]
     },
     "execution_count": 21,
     "metadata": {},
     "output_type": "execute_result"
    }
   ],
   "source": [
    "data = pd.read_csv('seeds.csv')\n",
    "data"
   ]
  },
  {
   "cell_type": "code",
   "execution_count": 22,
   "id": "d0fd134e",
   "metadata": {},
   "outputs": [
    {
     "data": {
      "text/html": [
       "<div>\n",
       "<style scoped>\n",
       "    .dataframe tbody tr th:only-of-type {\n",
       "        vertical-align: middle;\n",
       "    }\n",
       "\n",
       "    .dataframe tbody tr th {\n",
       "        vertical-align: top;\n",
       "    }\n",
       "\n",
       "    .dataframe thead th {\n",
       "        text-align: right;\n",
       "    }\n",
       "</style>\n",
       "<table border=\"1\" class=\"dataframe\">\n",
       "  <thead>\n",
       "    <tr style=\"text-align: right;\">\n",
       "      <th></th>\n",
       "      <th>Area</th>\n",
       "      <th>Perimeter</th>\n",
       "      <th>Compactness</th>\n",
       "      <th>KernelLength</th>\n",
       "      <th>KernelWidth</th>\n",
       "      <th>AsymCoeff</th>\n",
       "      <th>KernelGrov_Length</th>\n",
       "    </tr>\n",
       "  </thead>\n",
       "  <tbody>\n",
       "    <tr>\n",
       "      <th>0</th>\n",
       "      <td>0.440982</td>\n",
       "      <td>0.502066</td>\n",
       "      <td>0.570780</td>\n",
       "      <td>0.486486</td>\n",
       "      <td>0.486101</td>\n",
       "      <td>0.189302</td>\n",
       "      <td>0.345150</td>\n",
       "    </tr>\n",
       "    <tr>\n",
       "      <th>1</th>\n",
       "      <td>0.405099</td>\n",
       "      <td>0.446281</td>\n",
       "      <td>0.662432</td>\n",
       "      <td>0.368806</td>\n",
       "      <td>0.501069</td>\n",
       "      <td>0.032883</td>\n",
       "      <td>0.215165</td>\n",
       "    </tr>\n",
       "    <tr>\n",
       "      <th>2</th>\n",
       "      <td>0.349386</td>\n",
       "      <td>0.347107</td>\n",
       "      <td>0.879310</td>\n",
       "      <td>0.220721</td>\n",
       "      <td>0.503920</td>\n",
       "      <td>0.251453</td>\n",
       "      <td>0.150665</td>\n",
       "    </tr>\n",
       "    <tr>\n",
       "      <th>3</th>\n",
       "      <td>0.306893</td>\n",
       "      <td>0.316116</td>\n",
       "      <td>0.793103</td>\n",
       "      <td>0.239302</td>\n",
       "      <td>0.533856</td>\n",
       "      <td>0.194243</td>\n",
       "      <td>0.140817</td>\n",
       "    </tr>\n",
       "    <tr>\n",
       "      <th>4</th>\n",
       "      <td>0.524079</td>\n",
       "      <td>0.533058</td>\n",
       "      <td>0.864791</td>\n",
       "      <td>0.427365</td>\n",
       "      <td>0.664291</td>\n",
       "      <td>0.076701</td>\n",
       "      <td>0.322994</td>\n",
       "    </tr>\n",
       "    <tr>\n",
       "      <th>...</th>\n",
       "      <td>...</td>\n",
       "      <td>...</td>\n",
       "      <td>...</td>\n",
       "      <td>...</td>\n",
       "      <td>...</td>\n",
       "      <td>...</td>\n",
       "      <td>...</td>\n",
       "    </tr>\n",
       "    <tr>\n",
       "      <th>205</th>\n",
       "      <td>0.151086</td>\n",
       "      <td>0.163223</td>\n",
       "      <td>0.637024</td>\n",
       "      <td>0.134009</td>\n",
       "      <td>0.250178</td>\n",
       "      <td>0.372635</td>\n",
       "      <td>0.172821</td>\n",
       "    </tr>\n",
       "    <tr>\n",
       "      <th>206</th>\n",
       "      <td>0.060434</td>\n",
       "      <td>0.097107</td>\n",
       "      <td>0.390200</td>\n",
       "      <td>0.135698</td>\n",
       "      <td>0.117605</td>\n",
       "      <td>0.462872</td>\n",
       "      <td>0.238306</td>\n",
       "    </tr>\n",
       "    <tr>\n",
       "      <th>207</th>\n",
       "      <td>0.246459</td>\n",
       "      <td>0.258264</td>\n",
       "      <td>0.727768</td>\n",
       "      <td>0.189752</td>\n",
       "      <td>0.429081</td>\n",
       "      <td>0.981667</td>\n",
       "      <td>0.264402</td>\n",
       "    </tr>\n",
       "    <tr>\n",
       "      <th>208</th>\n",
       "      <td>0.118036</td>\n",
       "      <td>0.165289</td>\n",
       "      <td>0.399274</td>\n",
       "      <td>0.155405</td>\n",
       "      <td>0.146828</td>\n",
       "      <td>0.368344</td>\n",
       "      <td>0.258493</td>\n",
       "    </tr>\n",
       "    <tr>\n",
       "      <th>209</th>\n",
       "      <td>0.161473</td>\n",
       "      <td>0.192149</td>\n",
       "      <td>0.547187</td>\n",
       "      <td>0.193694</td>\n",
       "      <td>0.245189</td>\n",
       "      <td>0.633463</td>\n",
       "      <td>0.267848</td>\n",
       "    </tr>\n",
       "  </tbody>\n",
       "</table>\n",
       "<p>210 rows × 7 columns</p>\n",
       "</div>"
      ],
      "text/plain": [
       "         Area  Perimeter  Compactness  KernelLength  KernelWidth  AsymCoeff  \\\n",
       "0    0.440982   0.502066     0.570780      0.486486     0.486101   0.189302   \n",
       "1    0.405099   0.446281     0.662432      0.368806     0.501069   0.032883   \n",
       "2    0.349386   0.347107     0.879310      0.220721     0.503920   0.251453   \n",
       "3    0.306893   0.316116     0.793103      0.239302     0.533856   0.194243   \n",
       "4    0.524079   0.533058     0.864791      0.427365     0.664291   0.076701   \n",
       "..        ...        ...          ...           ...          ...        ...   \n",
       "205  0.151086   0.163223     0.637024      0.134009     0.250178   0.372635   \n",
       "206  0.060434   0.097107     0.390200      0.135698     0.117605   0.462872   \n",
       "207  0.246459   0.258264     0.727768      0.189752     0.429081   0.981667   \n",
       "208  0.118036   0.165289     0.399274      0.155405     0.146828   0.368344   \n",
       "209  0.161473   0.192149     0.547187      0.193694     0.245189   0.633463   \n",
       "\n",
       "     KernelGrov_Length  \n",
       "0             0.345150  \n",
       "1             0.215165  \n",
       "2             0.150665  \n",
       "3             0.140817  \n",
       "4             0.322994  \n",
       "..                 ...  \n",
       "205           0.172821  \n",
       "206           0.238306  \n",
       "207           0.264402  \n",
       "208           0.258493  \n",
       "209           0.267848  \n",
       "\n",
       "[210 rows x 7 columns]"
      ]
     },
     "execution_count": 22,
     "metadata": {},
     "output_type": "execute_result"
    }
   ],
   "source": [
    "datanus = data.drop(['Class'], axis=1)\n",
    "scaler = preprocessing.MinMaxScaler()\n",
    "datanus = pd.DataFrame(scaler.fit_transform(datanus), columns = datanus.columns)\n",
    "datanus"
   ]
  },
  {
   "cell_type": "code",
   "execution_count": 23,
   "id": "7ea0169c",
   "metadata": {},
   "outputs": [],
   "source": [
    "models = []\n",
    "score1 = []\n",
    "score2 = []\n",
    "for i in range(2,10):\n",
    "    model = KMeans(n_clusters=i, random_state=123, init='k-means++').fit(datanus)\n",
    "    models.append(model)\n",
    "    score1.append(model.inertia_)\n",
    "    score2.append(silhouette_score(datanus, model.labels_))"
   ]
  },
  {
   "cell_type": "code",
   "execution_count": 24,
   "id": "b6db9b8d",
   "metadata": {},
   "outputs": [
    {
     "data": {
      "image/png": "[encoded data removed]",
      "text/plain": [
       "<Figure size 640x480 with 1 Axes>"
      ]
     },
     "metadata": {},
     "output_type": "display_data"
    }
   ],
   "source": [
    "plt.grid()\n",
    "plt.plot(np.arange(2,10), score1, marker = 'o')\n",
    "plt.show()"
   ]
  },
  {
   "cell_type": "code",
   "execution_count": 25,
   "id": "4492640e",
   "metadata": {},
   "outputs": [
    {
     "data": {
      "image/png": "[encoded data removed]",
      "text/plain": [
       "<Figure size 640x480 with 1 Axes>"
      ]
     },
     "metadata": {},
     "output_type": "display_data"
    }
   ],
   "source": [
    "plt.grid()\n",
    "plt.plot(np.arange(2,10), score2, marker = 'o')\n",
    "plt.show()"
   ]
  },
  {
   "cell_type": "code",
   "execution_count": 72,
   "id": "d34f5986",
   "metadata": {},
   "outputs": [
    {
     "name": "stdout",
     "output_type": "stream",
     "text": [
      " 0.01994943618774414 seconds\n"
     ]
    },
    {
     "data": {
      "text/plain": [
       "array([[ 8.08408089e-01,  8.38670799e-01,  7.16783878e-01,\n",
       "         7.71314283e-01,  8.14638275e-01,  3.50455300e-01,\n",
       "         7.91851305e-01, -4.44089210e-16],\n",
       "       [ 5.63194596e-01,  6.19040051e-01,  6.17129694e-01,\n",
       "         5.71487353e-01,  5.98662207e-01,  4.11572318e-01,\n",
       "         6.12468280e-01,  4.00000000e+00],\n",
       "       [ 1.62173688e-01,  1.95014663e-01,  5.27135414e-01,\n",
       "         1.79998547e-01,  2.46384476e-01,  5.97232423e-01,\n",
       "         2.69341338e-01,  2.00000000e+00],\n",
       "       [ 2.47371734e-01,  2.66597796e-01,  6.82274652e-01,\n",
       "         2.04222973e-01,  3.58042290e-01,  2.37675261e-01,\n",
       "         1.62366650e-01,  5.00000000e+00],\n",
       "       [ 4.10214038e-01,  4.53225436e-01,  6.49500907e-01,\n",
       "         4.05280280e-01,  4.84814287e-01,  2.19272488e-01,\n",
       "         3.40376935e-01,  1.00000000e+00],\n",
       "       [ 9.65109804e-02,  1.67779191e-01,  2.36376751e-01,\n",
       "         2.07279395e-01,  9.20189338e-02,  4.89279872e-01,\n",
       "         3.21036751e-01,  3.00000000e+00]])"
      ]
     },
     "execution_count": 72,
     "metadata": {},
     "output_type": "execute_result"
    }
   ],
   "source": [
    "timer = time.time()\n",
    "model1 = KMeans(n_clusters=6, random_state=123, init='k-means++')\n",
    "model1.fit(datanus)\n",
    "print(\" %s seconds\" % (time.time() - timer))\n",
    "model1.cluster_centers_"
   ]
  },
  {
   "cell_type": "code",
   "execution_count": 73,
   "id": "366318c2",
   "metadata": {},
   "outputs": [],
   "source": [
    "labels = model1.labels_\n",
    "datanus['Claster'] = labels"
   ]
  },
  {
   "cell_type": "code",
   "execution_count": 74,
   "id": "bb206139",
   "metadata": {},
   "outputs": [
    {
     "data": {
      "text/plain": [
       "0    48\n",
       "5    39\n",
       "4    36\n",
       "2    31\n",
       "3    30\n",
       "1    26\n",
       "Name: Claster, dtype: int64"
      ]
     },
     "execution_count": 74,
     "metadata": {},
     "output_type": "execute_result"
    }
   ],
   "source": [
    "datanus['Claster'].value_counts()"
   ]
  },
  {
   "cell_type": "code",
   "execution_count": 75,
   "id": "1f26735c",
   "metadata": {},
   "outputs": [
    {
     "data": {
      "application/vnd.plotly.v1+json": {
       "config": {
        "plotlyServerURL": "https://plot.ly"
       },
       "data": [
        {
         "marker": {
          "color": [
           4,
           4,
           3,
           3,
           4,
           3,
           4,
           3,
           1,
           1,
           4,
           3,
           3,
           3,
           3,
           3,
           3,
           4,
           3,
           2,
           4,
           4,
           4,
           3,
           4,
           4,
           3,
           3,
           4,
           3,
           3,
           4,
           4,
           4,
           4,
           4,
           1,
           1,
           4,
           2,
           3,
           3,
           3,
           1,
           4,
           3,
           4,
           4,
           4,
           4,
           4,
           1,
           4,
           4,
           4,
           4,
           4,
           4,
           4,
           3,
           3,
           3,
           3,
           2,
           3,
           3,
           4,
           4,
           4,
           5,
           1,
           1,
           1,
           0,
           1,
           1,
           1,
           0,
           0,
           1,
           1,
           0,
           0,
           0,
           0,
           0,
           0,
           0,
           0,
           0,
           0,
           0,
           0,
           0,
           0,
           1,
           0,
           0,
           0,
           0,
           1,
           0,
           0,
           0,
           0,
           0,
           0,
           1,
           0,
           0,
           0,
           0,
           0,
           0,
           0,
           0,
           0,
           0,
           0,
           0,
           0,
           0,
           1,
           0,
           4,
           0,
           0,
           0,
           0,
           1,
           0,
           0,
           1,
           1,
           1,
           4,
           1,
           1,
           1,
           1,
           2,
           2,
           2,
           2,
           5,
           5,
           5,
           2,
           5,
           5,
           5,
           5,
           5,
           5,
           5,
           5,
           2,
           5,
           5,
           5,
           5,
           5,
           5,
           2,
           2,
           3,
           5,
           5,
           5,
           5,
           5,
           2,
           5,
           5,
           5,
           2,
           5,
           5,
           5,
           5,
           2,
           2,
           2,
           2,
           2,
           5,
           5,
           5,
           2,
           2,
           5,
           5,
           2,
           5,
           2,
           2,
           2,
           2,
           5,
           3,
           2,
           3,
           2,
           2,
           2,
           3,
           5,
           2,
           5,
           2
          ],
          "size": 4
         },
         "mode": "markers",
         "type": "scatter3d",
         "x": [
          0.4864864864864864,
          0.3688063063063063,
          0.2207207207207209,
          0.2393018018018016,
          0.4273648648648649,
          0.274211711711712,
          0.37387387387387383,
          0.293355855855856,
          0.6497747747747749,
          0.5546171171171173,
          0.4588963963963968,
          0.30349099099099064,
          0.30405405405405395,
          0.32657657657657646,
          0.32826576576576594,
          0.2545045045045047,
          0.12387387387387383,
          0.35360360360360366,
          0.17229729729729737,
          0.1841216216216215,
          0.4273648648648649,
          0.34966216216216184,
          0.4048423423423424,
          0.11261261261261257,
          0.5011261261261262,
          0.525900900900901,
          0.2792792792792791,
          0.2792792792792791,
          0.36148648648648685,
          0.34740990990990994,
          0.3125,
          0.4831081081081079,
          0.4605855855855854,
          0.38626126126126126,
          0.4577702702702702,
          0.4560810810810807,
          0.5219594594594592,
          0.5253378378378377,
          0.42623873873873874,
          0.2804054054054057,
          0.2528153153153152,
          0.2545045045045047,
          0.13457207207207222,
          0.5506756756756754,
          0.38288288288288275,
          0.26858108108108114,
          0.45157657657657646,
          0.37781531531531565,
          0.36373873873873874,
          0.43862612612612617,
          0.38626126126126126,
          0.4363738738738743,
          0.4594594594594592,
          0.3406531531531529,
          0.474099099099099,
          0.45213963963963977,
          0.2753378378378377,
          0.2730855855855858,
          0.42961711711711725,
          0.14639639639639634,
          0.06137387387387383,
          0.0016891891891894772,
          0.09966216216216184,
          0.2792792792792791,
          0.20439189189189166,
          0.1351351351351351,
          0.411599099099099,
          0.39977477477477485,
          0.37725225225225234,
          0.2888513513513513,
          0.7274774774774775,
          0.6188063063063063,
          0.607545045045045,
          0.706644144144144,
          0.6295045045045047,
          0.5788288288288288,
          0.6559684684684686,
          0.945945945945946,
          0.8704954954954958,
          0.5354729729729728,
          0.5495495495495497,
          0.623310810810811,
          0.7804054054054057,
          0.8361486486486487,
          0.8260135135135132,
          0.7173423423423424,
          0.6672297297297294,
          0.9290540540540544,
          0.942567567567568,
          0.873310810810811,
          0.9470720720720722,
          0.7167792792792791,
          0.7730855855855858,
          0.6407657657657659,
          0.9949324324324329,
          0.6981981981981984,
          0.8119369369369371,
          0.8727477477477477,
          0.7725225225225225,
          0.7432432432432434,
          0.4611486486486487,
          0.5579954954954953,
          0.6835585585585586,
          0.8277027027027026,
          0.7595720720720722,
          0.6407657657657659,
          0.7055180180180183,
          0.6385135135135136,
          1,
          0.7060810810810807,
          0.6801801801801801,
          0.7905405405405403,
          0.7229729729729728,
          0.7657657657657659,
          0.9369369369369367,
          0.854166666666667,
          0.6486486486486487,
          0.7578828828828832,
          0.7477477477477481,
          0.897522522522523,
          0.7972972972972974,
          0.6531531531531534,
          0.4859234234234231,
          0.6086711711711716,
          0.2612612612612617,
          0.6824324324324325,
          0.7804054054054057,
          0.6081081081081083,
          0.9087837837837838,
          0.5022522522522523,
          0.6081081081081083,
          0.7010135135135136,
          0.5546171171171173,
          0.5326576576576576,
          0.4938063063063063,
          0.32545045045045073,
          0.7015765765765765,
          0.5748873873873874,
          0.5253378378378377,
          0.5478603603603602,
          0.32263513513513553,
          0.36148648648648685,
          0.275900900900901,
          0.18299549549549576,
          0.2336711711711712,
          0.2139639639639639,
          0.15596846846846857,
          0.2072072072072073,
          0.274211711711712,
          0.23536036036036068,
          0.20495495495495497,
          0.28490990990990994,
          0.2865990990990994,
          0.18074324324324298,
          0.15540540540540526,
          0.1976351351351351,
          0.08671171171171155,
          0.27871621621621623,
          0.30686936936936915,
          0.2280405405405408,
          0.3108108108108105,
          0.2539414414414414,
          0.2072072072072073,
          0.2443693693693696,
          0.06306306306306331,
          0.11599099099099108,
          0.2364864864864864,
          0.2916666666666665,
          0.15596846846846857,
          0.10754504504504503,
          0.2398648648648649,
          0.15090090090090058,
          0.10641891891891886,
          0.13344594594594605,
          0.21340090090090058,
          0.0461711711711712,
          0.16159909909909898,
          0.13851351351351315,
          0.15822072072072046,
          0.2578828828828832,
          0.10754504504504503,
          0.18975225225225234,
          0.19200450450450468,
          0.11768018018018012,
          0.3355855855855858,
          0.2612612612612617,
          0.2894144144144146,
          0.10641891891891886,
          0.10698198198198217,
          0,
          0.08277027027027062,
          0.10810810810810834,
          0.1311936936936937,
          0.15822072072072046,
          0.18975225225225234,
          0.14695945945945965,
          0.18299549549549576,
          0.2370495495495497,
          0.28772522522522515,
          0.09797297297297325,
          0.18018018018018056,
          0.04786036036036023,
          0.06193693693693714,
          0.15990990990990994,
          0.17173423423423406,
          0.13400900900900892,
          0.13569819819819795,
          0.18975225225225234,
          0.15540540540540526,
          0.1936936936936937
         ],
         "y": [
          0.1893016422005227,
          0.032883017592219385,
          0.25145301590191005,
          0.19424254638598865,
          0.07670103628964102,
          0.22063737663992516,
          0.36678412149423345,
          0.25158303969626444,
          0.1657673354223823,
          0.15653564602322229,
          0.49121689269136265,
          0.12376964984592183,
          0.4187936392359803,
          0.30827341403476843,
          0.2817485599864775,
          0.4446683743124992,
          0.5810633345902302,
          0.10842684211210653,
          0.13027083956364016,
          0.43387639938108685,
          0.29995189119608895,
          0.25002275416401204,
          0,
          0.08450246395090304,
          0.13339141062814497,
          0.0179302812414672,
          0.3390890532967534,
          0.22609837600280852,
          0.25860432459140026,
          0.35963281280474335,
          0.011702141491893012,
          0.34415998127657366,
          0.410212068808592,
          0.17668933414814914,
          0.17733945311992094,
          0.1956728081238867,
          0.26757596640185155,
          0.2848691310509823,
          0.3051528429702636,
          0.7697278601984164,
          0.236890350934221,
          0.19294230844244498,
          0.22050735284557071,
          0.5130608901428964,
          0.3072332236799335,
          0.10335591413228624,
          0.07826132182189342,
          0.2851291786396911,
          0.2521031348736819,
          0.17733945311992094,
          0.4173633774980822,
          0.6277418767634478,
          0.43569673250204793,
          0.33323798255080683,
          0.09308403437829126,
          0.15185478942646508,
          0.2648454667204099,
          0.04900596809216086,
          0.1604363598538533,
          0.09581453405973296,
          0.25158303969626444,
          0.19554278432953232,
          0.31919541276053526,
          0.44102770807057695,
          0.053426777100209336,
          0.20633475926094474,
          0.07124003692675761,
          0.18878154702310523,
          0.09087362987426699,
          0.35989286039345203,
          0.43049578072787326,
          0.508380033546139,
          0.49069679751394507,
          0.282268655163895,
          0.4211340675343587,
          0.5402358631629589,
          0.3977297845505728,
          0.4792547036107608,
          0.5589592895499877,
          0.2721267992042544,
          0.6198104253078315,
          0.5927654760821232,
          0.5731318831346137,
          0.09191382022910193,
          0.2856492738171086,
          0.21816692454719216,
          0.11492803182982488,
          0.380436619901442,
          0.6520563263077145,
          0.5527181474209781,
          0.15471531290226115,
          0.30619303332509856,
          0.32140581726455947,
          0.6807915848600296,
          0.5419261724895656,
          0.38108673887321387,
          0.3526115279096075,
          0.17928981003523647,
          0.2714766802324826,
          0.18501085698682862,
          0.44882913573183897,
          0.16940800166430459,
          0.4606613010180864,
          0.3370086725870835,
          0.3384389343249815,
          0.23246954192617253,
          0.2701764422889389,
          0.38771795238528656,
          0.32335617417987494,
          0.12650014952736355,
          0.19112197532148384,
          0.3787463105748352,
          0.1747389772328336,
          0.7693377888153534,
          0.5086400811348477,
          0.19281228464809064,
          0.4640419196712999,
          0.30151217672834135,
          0.3736753825950149,
          0.2987816770468996,
          0.6677892054245929,
          0.37107490670792764,
          0.45780077754229026,
          0.2885097972929046,
          0.33427817290564177,
          0.44505844569556235,
          0.47145327594949876,
          0.1939824987972799,
          0.1488642421563146,
          0.5982264754450065,
          0.26939629952281274,
          0.2786279889219727,
          0.48068496534865884,
          0.4552003016552029,
          0.5469971004693861,
          0.36860445461519464,
          0.35898269383297143,
          0.24378161203500243,
          0.25483363455512364,
          0.39057847586108263,
          0.5901650001950358,
          0.8152361882224449,
          0.6800114420939033,
          0.6116189262635064,
          0.4818551794978481,
          0.7026355823115631,
          0.1893016422005227,
          0.4753539897801298,
          0.3243963645347099,
          0.6107087597030257,
          0.5759924066104098,
          0.8096451650652071,
          0.5189119608888428,
          0.3337580777282243,
          0.426855114485951,
          0.6563471115214086,
          0.3357084346435398,
          0.5278836026992941,
          0.469762966622892,
          0.6010869989208026,
          0.30125212913963256,
          0.45585042062697473,
          0.549077481179056,
          0.47509394219142104,
          0.7311107932751695,
          0.18670116631343536,
          0.5407559583403765,
          0.37354535880066053,
          0.464431991054363,
          0.3583325748611996,
          0.7762290499161348,
          0.7736285740290475,
          0.46079132481244073,
          0.627091757791676,
          0.5743020972838031,
          0.5211223653928669,
          0.5941957378200212,
          0.511890675993707,
          0.6645386105657337,
          0.11648831736207728,
          0.5450467435540705,
          0.5489474573847015,
          0.5320443641186339,
          0.5778127397313709,
          0.704715963021233,
          0.4286754476069122,
          0.5373753396871628,
          0.4438882315463731,
          0.8788178236617302,
          0.5473871718524491,
          0.6023872368643463,
          0.41866361544162584,
          0.3682143832321315,
          0.5315242689412163,
          0.4377771132117178,
          0.5341247448283037,
          0.6134392593844674,
          0.5077299145743672,
          0.33037745907501076,
          0.26822608537362336,
          0.6120089976465695,
          0.19957352195451766,
          0.4272451858690141,
          1.0000000000000002,
          0.4100820450142377,
          0.37263519224018,
          0.4628717055221106,
          0.9816666449960343,
          0.36834440702648585,
          0.63346292371504
         ],
         "z": [
          0.48610121168923714,
          0.5010691375623664,
          0.50392017106201,
          0.533856022808268,
          0.6642908054169634,
          0.48610121168923714,
          0.4483250178189595,
          0.47897362794012843,
          0.5951532430506059,
          0.6236635780470421,
          0.43620812544547394,
          0.40698503207412684,
          0.405559515324305,
          0.3749109052031361,
          0.34497505345687807,
          0.5010691375623664,
          0.5367070563079117,
          0.6300784034212399,
          0.5958660014255168,
          0.29864575908766944,
          0.3556664290805418,
          0.38346400570206707,
          0.6250890947968639,
          0.21810406272273686,
          0.4383464005702067,
          0.5637918745545261,
          0.2822523164647184,
          0.23235923022095517,
          0.42124019957234515,
          0.31004989308624364,
          0.24590163934426257,
          0.5281539558089807,
          0.3962936564504631,
          0.3706343549536706,
          0.4975053456878118,
          0.6094084105488238,
          0.594440484675695,
          0.7505345687811829,
          0.4689950106913756,
          0.47612259444048477,
          0.3749109052031361,
          0.3763364219529579,
          0.40698503207412684,
          0.5459729151817532,
          0.5930149679258732,
          0.37419814682822516,
          0.5438346400570204,
          0.5324305060584462,
          0.47113328581610836,
          0.4476122594440486,
          0.45759087669280096,
          0.573057733428368,
          0.34426229508196715,
          0.405559515324305,
          0.34426229508196715,
          0.4148253741981469,
          0.5324305060584462,
          0.5573770491803278,
          0.5623663578047042,
          0.28652886671418387,
          0.15680684248039944,
          0.17747683535281555,
          0.29365645046329303,
          0.3136136849607982,
          0.2822523164647184,
          0.34853884533143265,
          0.39914468995010677,
          0.3763364219529579,
          0.37277263007840333,
          0.1796151104775483,
          0.6635780470420525,
          0.6086956521739129,
          0.6870990734141127,
          0.9265858873841768,
          0.6101211689237351,
          0.5759087669280116,
          0.5509622238061296,
          0.8439059158945119,
          0.719173200285103,
          0.667141838916607,
          0.5965787598004277,
          0.8745545260156808,
          0.8795438346400568,
          0.8139700641482535,
          0.83464005702067,
          0.727726300784034,
          0.8082679971489661,
          0.7412687099073414,
          1.0000000000000002,
          0.9992872416250889,
          0.8232359230220954,
          0.8310762651461154,
          0.757662152530292,
          0.8766928011404131,
          0.6094084105488238,
          0.5937277263007841,
          0.8410548823948683,
          0.6571632216678547,
          0.6286528866714185,
          0.7512473271560942,
          0.63791874554526,
          0.7583749109052029,
          0.899501069137562,
          0.7491090520313615,
          0.8018531717747683,
          0.8239486813970063,
          0.8382038488952246,
          0.6721311475409835,
          0.8075552387740557,
          0.7441197434069851,
          0.8118317890235212,
          0.8275124732715609,
          0.9066286528866716,
          0.7890235210263719,
          0.9700641482537418,
          0.7761938702779758,
          0.9030648610121166,
          0.8446186742694224,
          0.8118317890235212,
          0.8745545260156808,
          0.9493941553813257,
          0.6650035637918748,
          0.5395580898075554,
          0.8132573057733425,
          0.6785459729151817,
          0.8831076265146114,
          0.6870990734141127,
          0.7533856022808265,
          0.8146828225231648,
          0.7555238774055593,
          0.8018531717747683,
          0.8517462580185315,
          0.4547398431931573,
          0.5452601568068427,
          0.5545260156806842,
          0.5951532430506059,
          0.6728439059158944,
          0.42836778332145387,
          0.4675694939415538,
          0.6001425516749823,
          0.2594440484675695,
          0.31575196008553097,
          0.3164647184604419,
          0.24019957234497524,
          0.10477548111190327,
          0.040627227369921526,
          0.0634354953670706,
          0.24019957234497524,
          0.2002851033499644,
          0.012829650748396482,
          0.1496792587312903,
          0.10406272273699213,
          0.14468995010691388,
          0.04490377761938724,
          0.08909479686386312,
          0.03207412687099076,
          0.15609408410548853,
          0.08196721311475441,
          0.03421240199572351,
          0.04632929436920885,
          0.17747683535281555,
          0.12829650748396326,
          0.1546685673556667,
          0.24091233071988616,
          0.11689237348538861,
          0.22166785459729144,
          0.1903064861012116,
          0.14754098360655754,
          0.027084818246614573,
          0.06058446186742694,
          0.05060584461867457,
          0.15324305060584487,
          0.09479686386315045,
          0.09479686386315045,
          0.007840342124020072,
          0.13613684960798333,
          0.057020669992872586,
          0.008553100498930988,
          0.09123307198859609,
          0.18745545260156793,
          0.10334996436208144,
          0.27583749109052014,
          0.19885958660014258,
          0.15680684248039944,
          0.2822523164647184,
          0.037776193870278085,
          0.06129722024233808,
          0.03207412687099076,
          0.13613684960798333,
          0.1119030648610122,
          0.062009978617248995,
          0.12401995723449755,
          0.23022095509622242,
          0,
          0.24590163934426257,
          0.35352815395580905,
          0.30220955096222357,
          0.3549536707056309,
          0.2002851033499644,
          0.37419814682822516,
          0.25588025659301494,
          0.35994297933000685,
          0.12829650748396326,
          0.32858161083392745,
          0.23521026372059883,
          0.2501781895937276,
          0.11760513186029953,
          0.4290805416963652,
          0.14682822523164663,
          0.24518888096935165
         ]
        }
       ],
       "layout": {
        "template": {
         "data": {
          "bar": [
           {
            "error_x": {
             "color": "#2a3f5f"
            },
            "error_y": {
             "color": "#2a3f5f"
            },
            "marker": {
             "line": {
              "color": "#E5ECF6",
              "width": 0.5
             },
             "pattern": {
              "fillmode": "overlay",
              "size": 10,
              "solidity": 0.2
             }
            },
            "type": "bar"
           }
          ],
          "barpolar": [
           {
            "marker": {
             "line": {
              "color": "#E5ECF6",
              "width": 0.5
             },
             "pattern": {
              "fillmode": "overlay",
              "size": 10,
              "solidity": 0.2
             }
            },
            "type": "barpolar"
           }
          ],
          "carpet": [
           {
            "aaxis": {
             "endlinecolor": "#2a3f5f",
             "gridcolor": "white",
             "linecolor": "white",
             "minorgridcolor": "white",
             "startlinecolor": "#2a3f5f"
            },
            "baxis": {
             "endlinecolor": "#2a3f5f",
             "gridcolor": "white",
             "linecolor": "white",
             "minorgridcolor": "white",
             "startlinecolor": "#2a3f5f"
            },
            "type": "carpet"
           }
          ],
          "choropleth": [
           {
            "colorbar": {
             "outlinewidth": 0,
             "ticks": ""
            },
            "type": "choropleth"
           }
          ],
          "contour": [
           {
            "colorbar": {
             "outlinewidth": 0,
             "ticks": ""
            },
            "colorscale": [
             [
              0,
              "#0d0887"
             ],
             [
              0.1111111111111111,
              "#46039f"
             ],
             [
              0.2222222222222222,
              "#7201a8"
             ],
             [
              0.3333333333333333,
              "#9c179e"
             ],
             [
              0.4444444444444444,
              "#bd3786"
             ],
             [
              0.5555555555555556,
              "#d8576b"
             ],
             [
              0.6666666666666666,
              "#ed7953"
             ],
             [
              0.7777777777777778,
              "#fb9f3a"
             ],
             [
              0.8888888888888888,
              "#fdca26"
             ],
             [
              1,
              "#f0f921"
             ]
            ],
            "type": "contour"
           }
          ],
          "contourcarpet": [
           {
            "colorbar": {
             "outlinewidth": 0,
             "ticks": ""
            },
            "type": "contourcarpet"
           }
          ],
          "heatmap": [
           {
            "colorbar": {
             "outlinewidth": 0,
             "ticks": ""
            },
            "colorscale": [
             [
              0,
              "#0d0887"
             ],
             [
              0.1111111111111111,
              "#46039f"
             ],
             [
              0.2222222222222222,
              "#7201a8"
             ],
             [
              0.3333333333333333,
              "#9c179e"
             ],
             [
              0.4444444444444444,
              "#bd3786"
             ],
             [
              0.5555555555555556,
              "#d8576b"
             ],
             [
              0.6666666666666666,
              "#ed7953"
             ],
             [
              0.7777777777777778,
              "#fb9f3a"
             ],
             [
              0.8888888888888888,
              "#fdca26"
             ],
             [
              1,
              "#f0f921"
             ]
            ],
            "type": "heatmap"
           }
          ],
          "heatmapgl": [
           {
            "colorbar": {
             "outlinewidth": 0,
             "ticks": ""
            },
            "colorscale": [
             [
              0,
              "#0d0887"
             ],
             [
              0.1111111111111111,
              "#46039f"
             ],
             [
              0.2222222222222222,
              "#7201a8"
             ],
             [
              0.3333333333333333,
              "#9c179e"
             ],
             [
              0.4444444444444444,
              "#bd3786"
             ],
             [
              0.5555555555555556,
              "#d8576b"
             ],
             [
              0.6666666666666666,
              "#ed7953"
             ],
             [
              0.7777777777777778,
              "#fb9f3a"
             ],
             [
              0.8888888888888888,
              "#fdca26"
             ],
             [
              1,
              "#f0f921"
             ]
            ],
            "type": "heatmapgl"
           }
          ],
          "histogram": [
           {
            "marker": {
             "pattern": {
              "fillmode": "overlay",
              "size": 10,
              "solidity": 0.2
             }
            },
            "type": "histogram"
           }
          ],
          "histogram2d": [
           {
            "colorbar": {
             "outlinewidth": 0,
             "ticks": ""
            },
            "colorscale": [
             [
              0,
              "#0d0887"
             ],
             [
              0.1111111111111111,
              "#46039f"
             ],
             [
              0.2222222222222222,
              "#7201a8"
             ],
             [
              0.3333333333333333,
              "#9c179e"
             ],
             [
              0.4444444444444444,
              "#bd3786"
             ],
             [
              0.5555555555555556,
              "#d8576b"
             ],
             [
              0.6666666666666666,
              "#ed7953"
             ],
             [
              0.7777777777777778,
              "#fb9f3a"
             ],
             [
              0.8888888888888888,
              "#fdca26"
             ],
             [
              1,
              "#f0f921"
             ]
            ],
            "type": "histogram2d"
           }
          ],
          "histogram2dcontour": [
           {
            "colorbar": {
             "outlinewidth": 0,
             "ticks": ""
            },
            "colorscale": [
             [
              0,
              "#0d0887"
             ],
             [
              0.1111111111111111,
              "#46039f"
             ],
             [
              0.2222222222222222,
              "#7201a8"
             ],
             [
              0.3333333333333333,
              "#9c179e"
             ],
             [
              0.4444444444444444,
              "#bd3786"
             ],
             [
              0.5555555555555556,
              "#d8576b"
             ],
             [
              0.6666666666666666,
              "#ed7953"
             ],
             [
              0.7777777777777778,
              "#fb9f3a"
             ],
             [
              0.8888888888888888,
              "#fdca26"
             ],
             [
              1,
              "#f0f921"
             ]
            ],
            "type": "histogram2dcontour"
           }
          ],
          "mesh3d": [
           {
            "colorbar": {
             "outlinewidth": 0,
             "ticks": ""
            },
            "type": "mesh3d"
           }
          ],
          "parcoords": [
           {
            "line": {
             "colorbar": {
              "outlinewidth": 0,
              "ticks": ""
             }
            },
            "type": "parcoords"
           }
          ],
          "pie": [
           {
            "automargin": true,
            "type": "pie"
           }
          ],
          "scatter": [
           {
            "fillpattern": {
             "fillmode": "overlay",
             "size": 10,
             "solidity": 0.2
            },
            "type": "scatter"
           }
          ],
          "scatter3d": [
           {
            "line": {
             "colorbar": {
              "outlinewidth": 0,
              "ticks": ""
             }
            },
            "marker": {
             "colorbar": {
              "outlinewidth": 0,
              "ticks": ""
             }
            },
            "type": "scatter3d"
           }
          ],
          "scattercarpet": [
           {
            "marker": {
             "colorbar": {
              "outlinewidth": 0,
              "ticks": ""
             }
            },
            "type": "scattercarpet"
           }
          ],
          "scattergeo": [
           {
            "marker": {
             "colorbar": {
              "outlinewidth": 0,
              "ticks": ""
             }
            },
            "type": "scattergeo"
           }
          ],
          "scattergl": [
           {
            "marker": {
             "colorbar": {
              "outlinewidth": 0,
              "ticks": ""
             }
            },
            "type": "scattergl"
           }
          ],
          "scattermapbox": [
           {
            "marker": {
             "colorbar": {
              "outlinewidth": 0,
              "ticks": ""
             }
            },
            "type": "scattermapbox"
           }
          ],
          "scatterpolar": [
           {
            "marker": {
             "colorbar": {
              "outlinewidth": 0,
              "ticks": ""
             }
            },
            "type": "scatterpolar"
           }
          ],
          "scatterpolargl": [
           {
            "marker": {
             "colorbar": {
              "outlinewidth": 0,
              "ticks": ""
             }
            },
            "type": "scatterpolargl"
           }
          ],
          "scatterternary": [
           {
            "marker": {
             "colorbar": {
              "outlinewidth": 0,
              "ticks": ""
             }
            },
            "type": "scatterternary"
           }
          ],
          "surface": [
           {
            "colorbar": {
             "outlinewidth": 0,
             "ticks": ""
            },
            "colorscale": [
             [
              0,
              "#0d0887"
             ],
             [
              0.1111111111111111,
              "#46039f"
             ],
             [
              0.2222222222222222,
              "#7201a8"
             ],
             [
              0.3333333333333333,
              "#9c179e"
             ],
             [
              0.4444444444444444,
              "#bd3786"
             ],
             [
              0.5555555555555556,
              "#d8576b"
             ],
             [
              0.6666666666666666,
              "#ed7953"
             ],
             [
              0.7777777777777778,
              "#fb9f3a"
             ],
             [
              0.8888888888888888,
              "#fdca26"
             ],
             [
              1,
              "#f0f921"
             ]
            ],
            "type": "surface"
           }
          ],
          "table": [
           {
            "cells": {
             "fill": {
              "color": "#EBF0F8"
             },
             "line": {
              "color": "white"
             }
            },
            "header": {
             "fill": {
              "color": "#C8D4E3"
             },
             "line": {
              "color": "white"
             }
            },
            "type": "table"
           }
          ]
         },
         "layout": {
          "annotationdefaults": {
           "arrowcolor": "#2a3f5f",
           "arrowhead": 0,
           "arrowwidth": 1
          },
          "autotypenumbers": "strict",
          "coloraxis": {
           "colorbar": {
            "outlinewidth": 0,
            "ticks": ""
           }
          },
          "colorscale": {
           "diverging": [
            [
             0,
             "#8e0152"
            ],
            [
             0.1,
             "#c51b7d"
            ],
            [
             0.2,
             "#de77ae"
            ],
            [
             0.3,
             "#f1b6da"
            ],
            [
             0.4,
             "#fde0ef"
            ],
            [
             0.5,
             "#f7f7f7"
            ],
            [
             0.6,
             "#e6f5d0"
            ],
            [
             0.7,
             "#b8e186"
            ],
            [
             0.8,
             "#7fbc41"
            ],
            [
             0.9,
             "#4d9221"
            ],
            [
             1,
             "#276419"
            ]
           ],
           "sequential": [
            [
             0,
             "#0d0887"
            ],
            [
             0.1111111111111111,
             "#46039f"
            ],
            [
             0.2222222222222222,
             "#7201a8"
            ],
            [
             0.3333333333333333,
             "#9c179e"
            ],
            [
             0.4444444444444444,
             "#bd3786"
            ],
            [
             0.5555555555555556,
             "#d8576b"
            ],
            [
             0.6666666666666666,
             "#ed7953"
            ],
            [
             0.7777777777777778,
             "#fb9f3a"
            ],
            [
             0.8888888888888888,
             "#fdca26"
            ],
            [
             1,
             "#f0f921"
            ]
           ],
           "sequentialminus": [
            [
             0,
             "#0d0887"
            ],
            [
             0.1111111111111111,
             "#46039f"
            ],
            [
             0.2222222222222222,
             "#7201a8"
            ],
            [
             0.3333333333333333,
             "#9c179e"
            ],
            [
             0.4444444444444444,
             "#bd3786"
            ],
            [
             0.5555555555555556,
             "#d8576b"
            ],
            [
             0.6666666666666666,
             "#ed7953"
            ],
            [
             0.7777777777777778,
             "#fb9f3a"
            ],
            [
             0.8888888888888888,
             "#fdca26"
            ],
            [
             1,
             "#f0f921"
            ]
           ]
          },
          "colorway": [
           "#636efa",
           "#EF553B",
           "#00cc96",
           "#ab63fa",
           "#FFA15A",
           "#19d3f3",
           "#FF6692",
           "#B6E880",
           "#FF97FF",
           "#FECB52"
          ],
          "font": {
           "color": "#2a3f5f"
          },
          "geo": {
           "bgcolor": "white",
           "lakecolor": "white",
           "landcolor": "#E5ECF6",
           "showlakes": true,
           "showland": true,
           "subunitcolor": "white"
          },
          "hoverlabel": {
           "align": "left"
          },
          "hovermode": "closest",
          "mapbox": {
           "style": "light"
          },
          "paper_bgcolor": "white",
          "plot_bgcolor": "#E5ECF6",
          "polar": {
           "angularaxis": {
            "gridcolor": "white",
            "linecolor": "white",
            "ticks": ""
           },
           "bgcolor": "#E5ECF6",
           "radialaxis": {
            "gridcolor": "white",
            "linecolor": "white",
            "ticks": ""
           }
          },
          "scene": {
           "xaxis": {
            "backgroundcolor": "#E5ECF6",
            "gridcolor": "white",
            "gridwidth": 2,
            "linecolor": "white",
            "showbackground": true,
            "ticks": "",
            "zerolinecolor": "white"
           },
           "yaxis": {
            "backgroundcolor": "#E5ECF6",
            "gridcolor": "white",
            "gridwidth": 2,
            "linecolor": "white",
            "showbackground": true,
            "ticks": "",
            "zerolinecolor": "white"
           },
           "zaxis": {
            "backgroundcolor": "#E5ECF6",
            "gridcolor": "white",
            "gridwidth": 2,
            "linecolor": "white",
            "showbackground": true,
            "ticks": "",
            "zerolinecolor": "white"
           }
          },
          "shapedefaults": {
           "line": {
            "color": "#2a3f5f"
           }
          },
          "ternary": {
           "aaxis": {
            "gridcolor": "white",
            "linecolor": "white",
            "ticks": ""
           },
           "baxis": {
            "gridcolor": "white",
            "linecolor": "white",
            "ticks": ""
           },
           "bgcolor": "#E5ECF6",
           "caxis": {
            "gridcolor": "white",
            "linecolor": "white",
            "ticks": ""
           }
          },
          "title": {
           "x": 0.05
          },
          "xaxis": {
           "automargin": true,
           "gridcolor": "white",
           "linecolor": "white",
           "ticks": "",
           "title": {
            "standoff": 15
           },
           "zerolinecolor": "white",
           "zerolinewidth": 2
          },
          "yaxis": {
           "automargin": true,
           "gridcolor": "white",
           "linecolor": "white",
           "ticks": "",
           "title": {
            "standoff": 15
           },
           "zerolinecolor": "white",
           "zerolinewidth": 2
          }
         }
        }
       }
      },
      "text/html": [
       "<div>                            <div id=\"2257fe2f-679a-431f-90cb-8e29865a0340\" class=\"plotly-graph-div\" style=\"height:525px; width:100%;\"></div>            <script type=\"text/javascript\">                require([\"plotly\"], function(Plotly) {                    window.PLOTLYENV=window.PLOTLYENV || {};                                    if (document.getElementById(\"2257fe2f-679a-431f-90cb-8e29865a0340\")) {                    Plotly.newPlot(                        \"2257fe2f-679a-431f-90cb-8e29865a0340\",                        [{\"marker\":{\"color\":[4,4,3,3,4,3,4,3,1,1,4,3,3,3,3,3,3,4,3,2,4,4,4,3,4,4,3,3,4,3,3,4,4,4,4,4,1,1,4,2,3,3,3,1,4,3,4,4,4,4,4,1,4,4,4,4,4,4,4,3,3,3,3,2,3,3,4,4,4,5,1,1,1,0,1,1,1,0,0,1,1,0,0,0,0,0,0,0,0,0,0,0,0,0,0,1,0,0,0,0,1,0,0,0,0,0,0,1,0,0,0,0,0,0,0,0,0,0,0,0,0,0,1,0,4,0,0,0,0,1,0,0,1,1,1,4,1,1,1,1,2,2,2,2,5,5,5,2,5,5,5,5,5,5,5,5,2,5,5,5,5,5,5,2,2,3,5,5,5,5,5,2,5,5,5,2,5,5,5,5,2,2,2,2,2,5,5,5,2,2,5,5,2,5,2,2,2,2,5,3,2,3,2,2,2,3,5,2,5,2],\"size\":4},\"mode\":\"markers\",\"x\":[0.4864864864864864,0.3688063063063063,0.2207207207207209,0.2393018018018016,0.4273648648648649,0.274211711711712,0.37387387387387383,0.293355855855856,0.6497747747747749,0.5546171171171173,0.4588963963963968,0.30349099099099064,0.30405405405405395,0.32657657657657646,0.32826576576576594,0.2545045045045047,0.12387387387387383,0.35360360360360366,0.17229729729729737,0.1841216216216215,0.4273648648648649,0.34966216216216184,0.4048423423423424,0.11261261261261257,0.5011261261261262,0.525900900900901,0.2792792792792791,0.2792792792792791,0.36148648648648685,0.34740990990990994,0.3125,0.4831081081081079,0.4605855855855854,0.38626126126126126,0.4577702702702702,0.4560810810810807,0.5219594594594592,0.5253378378378377,0.42623873873873874,0.2804054054054057,0.2528153153153152,0.2545045045045047,0.13457207207207222,0.5506756756756754,0.38288288288288275,0.26858108108108114,0.45157657657657646,0.37781531531531565,0.36373873873873874,0.43862612612612617,0.38626126126126126,0.4363738738738743,0.4594594594594592,0.3406531531531529,0.474099099099099,0.45213963963963977,0.2753378378378377,0.2730855855855858,0.42961711711711725,0.14639639639639634,0.06137387387387383,0.0016891891891894772,0.09966216216216184,0.2792792792792791,0.20439189189189166,0.1351351351351351,0.411599099099099,0.39977477477477485,0.37725225225225234,0.2888513513513513,0.7274774774774775,0.6188063063063063,0.607545045045045,0.706644144144144,0.6295045045045047,0.5788288288288288,0.6559684684684686,0.945945945945946,0.8704954954954958,0.5354729729729728,0.5495495495495497,0.623310810810811,0.7804054054054057,0.8361486486486487,0.8260135135135132,0.7173423423423424,0.6672297297297294,0.9290540540540544,0.942567567567568,0.873310810810811,0.9470720720720722,0.7167792792792791,0.7730855855855858,0.6407657657657659,0.9949324324324329,0.6981981981981984,0.8119369369369371,0.8727477477477477,0.7725225225225225,0.7432432432432434,0.4611486486486487,0.5579954954954953,0.6835585585585586,0.8277027027027026,0.7595720720720722,0.6407657657657659,0.7055180180180183,0.6385135135135136,1.0,0.7060810810810807,0.6801801801801801,0.7905405405405403,0.7229729729729728,0.7657657657657659,0.9369369369369367,0.854166666666667,0.6486486486486487,0.7578828828828832,0.7477477477477481,0.897522522522523,0.7972972972972974,0.6531531531531534,0.4859234234234231,0.6086711711711716,0.2612612612612617,0.6824324324324325,0.7804054054054057,0.6081081081081083,0.9087837837837838,0.5022522522522523,0.6081081081081083,0.7010135135135136,0.5546171171171173,0.5326576576576576,0.4938063063063063,0.32545045045045073,0.7015765765765765,0.5748873873873874,0.5253378378378377,0.5478603603603602,0.32263513513513553,0.36148648648648685,0.275900900900901,0.18299549549549576,0.2336711711711712,0.2139639639639639,0.15596846846846857,0.2072072072072073,0.274211711711712,0.23536036036036068,0.20495495495495497,0.28490990990990994,0.2865990990990994,0.18074324324324298,0.15540540540540526,0.1976351351351351,0.08671171171171155,0.27871621621621623,0.30686936936936915,0.2280405405405408,0.3108108108108105,0.2539414414414414,0.2072072072072073,0.2443693693693696,0.06306306306306331,0.11599099099099108,0.2364864864864864,0.2916666666666665,0.15596846846846857,0.10754504504504503,0.2398648648648649,0.15090090090090058,0.10641891891891886,0.13344594594594605,0.21340090090090058,0.0461711711711712,0.16159909909909898,0.13851351351351315,0.15822072072072046,0.2578828828828832,0.10754504504504503,0.18975225225225234,0.19200450450450468,0.11768018018018012,0.3355855855855858,0.2612612612612617,0.2894144144144146,0.10641891891891886,0.10698198198198217,0.0,0.08277027027027062,0.10810810810810834,0.1311936936936937,0.15822072072072046,0.18975225225225234,0.14695945945945965,0.18299549549549576,0.2370495495495497,0.28772522522522515,0.09797297297297325,0.18018018018018056,0.04786036036036023,0.06193693693693714,0.15990990990990994,0.17173423423423406,0.13400900900900892,0.13569819819819795,0.18975225225225234,0.15540540540540526,0.1936936936936937],\"y\":[0.1893016422005227,0.032883017592219385,0.25145301590191005,0.19424254638598865,0.07670103628964102,0.22063737663992516,0.36678412149423345,0.25158303969626444,0.1657673354223823,0.15653564602322229,0.49121689269136265,0.12376964984592183,0.4187936392359803,0.30827341403476843,0.2817485599864775,0.4446683743124992,0.5810633345902302,0.10842684211210653,0.13027083956364016,0.43387639938108685,0.29995189119608895,0.25002275416401204,0.0,0.08450246395090304,0.13339141062814497,0.0179302812414672,0.3390890532967534,0.22609837600280852,0.25860432459140026,0.35963281280474335,0.011702141491893012,0.34415998127657366,0.410212068808592,0.17668933414814914,0.17733945311992094,0.1956728081238867,0.26757596640185155,0.2848691310509823,0.3051528429702636,0.7697278601984164,0.236890350934221,0.19294230844244498,0.22050735284557071,0.5130608901428964,0.3072332236799335,0.10335591413228624,0.07826132182189342,0.2851291786396911,0.2521031348736819,0.17733945311992094,0.4173633774980822,0.6277418767634478,0.43569673250204793,0.33323798255080683,0.09308403437829126,0.15185478942646508,0.2648454667204099,0.04900596809216086,0.1604363598538533,0.09581453405973296,0.25158303969626444,0.19554278432953232,0.31919541276053526,0.44102770807057695,0.053426777100209336,0.20633475926094474,0.07124003692675761,0.18878154702310523,0.09087362987426699,0.35989286039345203,0.43049578072787326,0.508380033546139,0.49069679751394507,0.282268655163895,0.4211340675343587,0.5402358631629589,0.3977297845505728,0.4792547036107608,0.5589592895499877,0.2721267992042544,0.6198104253078315,0.5927654760821232,0.5731318831346137,0.09191382022910193,0.2856492738171086,0.21816692454719216,0.11492803182982488,0.380436619901442,0.6520563263077145,0.5527181474209781,0.15471531290226115,0.30619303332509856,0.32140581726455947,0.6807915848600296,0.5419261724895656,0.38108673887321387,0.3526115279096075,0.17928981003523647,0.2714766802324826,0.18501085698682862,0.44882913573183897,0.16940800166430459,0.4606613010180864,0.3370086725870835,0.3384389343249815,0.23246954192617253,0.2701764422889389,0.38771795238528656,0.32335617417987494,0.12650014952736355,0.19112197532148384,0.3787463105748352,0.1747389772328336,0.7693377888153534,0.5086400811348477,0.19281228464809064,0.4640419196712999,0.30151217672834135,0.3736753825950149,0.2987816770468996,0.6677892054245929,0.37107490670792764,0.45780077754229026,0.2885097972929046,0.33427817290564177,0.44505844569556235,0.47145327594949876,0.1939824987972799,0.1488642421563146,0.5982264754450065,0.26939629952281274,0.2786279889219727,0.48068496534865884,0.4552003016552029,0.5469971004693861,0.36860445461519464,0.35898269383297143,0.24378161203500243,0.25483363455512364,0.39057847586108263,0.5901650001950358,0.8152361882224449,0.6800114420939033,0.6116189262635064,0.4818551794978481,0.7026355823115631,0.1893016422005227,0.4753539897801298,0.3243963645347099,0.6107087597030257,0.5759924066104098,0.8096451650652071,0.5189119608888428,0.3337580777282243,0.426855114485951,0.6563471115214086,0.3357084346435398,0.5278836026992941,0.469762966622892,0.6010869989208026,0.30125212913963256,0.45585042062697473,0.549077481179056,0.47509394219142104,0.7311107932751695,0.18670116631343536,0.5407559583403765,0.37354535880066053,0.464431991054363,0.3583325748611996,0.7762290499161348,0.7736285740290475,0.46079132481244073,0.627091757791676,0.5743020972838031,0.5211223653928669,0.5941957378200212,0.511890675993707,0.6645386105657337,0.11648831736207728,0.5450467435540705,0.5489474573847015,0.5320443641186339,0.5778127397313709,0.704715963021233,0.4286754476069122,0.5373753396871628,0.4438882315463731,0.8788178236617302,0.5473871718524491,0.6023872368643463,0.41866361544162584,0.3682143832321315,0.5315242689412163,0.4377771132117178,0.5341247448283037,0.6134392593844674,0.5077299145743672,0.33037745907501076,0.26822608537362336,0.6120089976465695,0.19957352195451766,0.4272451858690141,1.0000000000000002,0.4100820450142377,0.37263519224018,0.4628717055221106,0.9816666449960343,0.36834440702648585,0.63346292371504],\"z\":[0.48610121168923714,0.5010691375623664,0.50392017106201,0.533856022808268,0.6642908054169634,0.48610121168923714,0.4483250178189595,0.47897362794012843,0.5951532430506059,0.6236635780470421,0.43620812544547394,0.40698503207412684,0.405559515324305,0.3749109052031361,0.34497505345687807,0.5010691375623664,0.5367070563079117,0.6300784034212399,0.5958660014255168,0.29864575908766944,0.3556664290805418,0.38346400570206707,0.6250890947968639,0.21810406272273686,0.4383464005702067,0.5637918745545261,0.2822523164647184,0.23235923022095517,0.42124019957234515,0.31004989308624364,0.24590163934426257,0.5281539558089807,0.3962936564504631,0.3706343549536706,0.4975053456878118,0.6094084105488238,0.594440484675695,0.7505345687811829,0.4689950106913756,0.47612259444048477,0.3749109052031361,0.3763364219529579,0.40698503207412684,0.5459729151817532,0.5930149679258732,0.37419814682822516,0.5438346400570204,0.5324305060584462,0.47113328581610836,0.4476122594440486,0.45759087669280096,0.573057733428368,0.34426229508196715,0.405559515324305,0.34426229508196715,0.4148253741981469,0.5324305060584462,0.5573770491803278,0.5623663578047042,0.28652886671418387,0.15680684248039944,0.17747683535281555,0.29365645046329303,0.3136136849607982,0.2822523164647184,0.34853884533143265,0.39914468995010677,0.3763364219529579,0.37277263007840333,0.1796151104775483,0.6635780470420525,0.6086956521739129,0.6870990734141127,0.9265858873841768,0.6101211689237351,0.5759087669280116,0.5509622238061296,0.8439059158945119,0.719173200285103,0.667141838916607,0.5965787598004277,0.8745545260156808,0.8795438346400568,0.8139700641482535,0.83464005702067,0.727726300784034,0.8082679971489661,0.7412687099073414,1.0000000000000002,0.9992872416250889,0.8232359230220954,0.8310762651461154,0.757662152530292,0.8766928011404131,0.6094084105488238,0.5937277263007841,0.8410548823948683,0.6571632216678547,0.6286528866714185,0.7512473271560942,0.63791874554526,0.7583749109052029,0.899501069137562,0.7491090520313615,0.8018531717747683,0.8239486813970063,0.8382038488952246,0.6721311475409835,0.8075552387740557,0.7441197434069851,0.8118317890235212,0.8275124732715609,0.9066286528866716,0.7890235210263719,0.9700641482537418,0.7761938702779758,0.9030648610121166,0.8446186742694224,0.8118317890235212,0.8745545260156808,0.9493941553813257,0.6650035637918748,0.5395580898075554,0.8132573057733425,0.6785459729151817,0.8831076265146114,0.6870990734141127,0.7533856022808265,0.8146828225231648,0.7555238774055593,0.8018531717747683,0.8517462580185315,0.4547398431931573,0.5452601568068427,0.5545260156806842,0.5951532430506059,0.6728439059158944,0.42836778332145387,0.4675694939415538,0.6001425516749823,0.2594440484675695,0.31575196008553097,0.3164647184604419,0.24019957234497524,0.10477548111190327,0.040627227369921526,0.0634354953670706,0.24019957234497524,0.2002851033499644,0.012829650748396482,0.1496792587312903,0.10406272273699213,0.14468995010691388,0.04490377761938724,0.08909479686386312,0.03207412687099076,0.15609408410548853,0.08196721311475441,0.03421240199572351,0.04632929436920885,0.17747683535281555,0.12829650748396326,0.1546685673556667,0.24091233071988616,0.11689237348538861,0.22166785459729144,0.1903064861012116,0.14754098360655754,0.027084818246614573,0.06058446186742694,0.05060584461867457,0.15324305060584487,0.09479686386315045,0.09479686386315045,0.007840342124020072,0.13613684960798333,0.057020669992872586,0.008553100498930988,0.09123307198859609,0.18745545260156793,0.10334996436208144,0.27583749109052014,0.19885958660014258,0.15680684248039944,0.2822523164647184,0.037776193870278085,0.06129722024233808,0.03207412687099076,0.13613684960798333,0.1119030648610122,0.062009978617248995,0.12401995723449755,0.23022095509622242,0.0,0.24590163934426257,0.35352815395580905,0.30220955096222357,0.3549536707056309,0.2002851033499644,0.37419814682822516,0.25588025659301494,0.35994297933000685,0.12829650748396326,0.32858161083392745,0.23521026372059883,0.2501781895937276,0.11760513186029953,0.4290805416963652,0.14682822523164663,0.24518888096935165],\"type\":\"scatter3d\"}],                        {\"template\":{\"data\":{\"histogram2dcontour\":[{\"type\":\"histogram2dcontour\",\"colorbar\":{\"outlinewidth\":0,\"ticks\":\"\"},\"colorscale\":[[0.0,\"#0d0887\"],[0.1111111111111111,\"#46039f\"],[0.2222222222222222,\"#7201a8\"],[0.3333333333333333,\"#9c179e\"],[0.4444444444444444,\"#bd3786\"],[0.5555555555555556,\"#d8576b\"],[0.6666666666666666,\"#ed7953\"],[0.7777777777777778,\"#fb9f3a\"],[0.8888888888888888,\"#fdca26\"],[1.0,\"#f0f921\"]]}],\"choropleth\":[{\"type\":\"choropleth\",\"colorbar\":{\"outlinewidth\":0,\"ticks\":\"\"}}],\"histogram2d\":[{\"type\":\"histogram2d\",\"colorbar\":{\"outlinewidth\":0,\"ticks\":\"\"},\"colorscale\":[[0.0,\"#0d0887\"],[0.1111111111111111,\"#46039f\"],[0.2222222222222222,\"#7201a8\"],[0.3333333333333333,\"#9c179e\"],[0.4444444444444444,\"#bd3786\"],[0.5555555555555556,\"#d8576b\"],[0.6666666666666666,\"#ed7953\"],[0.7777777777777778,\"#fb9f3a\"],[0.8888888888888888,\"#fdca26\"],[1.0,\"#f0f921\"]]}],\"heatmap\":[{\"type\":\"heatmap\",\"colorbar\":{\"outlinewidth\":0,\"ticks\":\"\"},\"colorscale\":[[0.0,\"#0d0887\"],[0.1111111111111111,\"#46039f\"],[0.2222222222222222,\"#7201a8\"],[0.3333333333333333,\"#9c179e\"],[0.4444444444444444,\"#bd3786\"],[0.5555555555555556,\"#d8576b\"],[0.6666666666666666,\"#ed7953\"],[0.7777777777777778,\"#fb9f3a\"],[0.8888888888888888,\"#fdca26\"],[1.0,\"#f0f921\"]]}],\"heatmapgl\":[{\"type\":\"heatmapgl\",\"colorbar\":{\"outlinewidth\":0,\"ticks\":\"\"},\"colorscale\":[[0.0,\"#0d0887\"],[0.1111111111111111,\"#46039f\"],[0.2222222222222222,\"#7201a8\"],[0.3333333333333333,\"#9c179e\"],[0.4444444444444444,\"#bd3786\"],[0.5555555555555556,\"#d8576b\"],[0.6666666666666666,\"#ed7953\"],[0.7777777777777778,\"#fb9f3a\"],[0.8888888888888888,\"#fdca26\"],[1.0,\"#f0f921\"]]}],\"contourcarpet\":[{\"type\":\"contourcarpet\",\"colorbar\":{\"outlinewidth\":0,\"ticks\":\"\"}}],\"contour\":[{\"type\":\"contour\",\"colorbar\":{\"outlinewidth\":0,\"ticks\":\"\"},\"colorscale\":[[0.0,\"#0d0887\"],[0.1111111111111111,\"#46039f\"],[0.2222222222222222,\"#7201a8\"],[0.3333333333333333,\"#9c179e\"],[0.4444444444444444,\"#bd3786\"],[0.5555555555555556,\"#d8576b\"],[0.6666666666666666,\"#ed7953\"],[0.7777777777777778,\"#fb9f3a\"],[0.8888888888888888,\"#fdca26\"],[1.0,\"#f0f921\"]]}],\"surface\":[{\"type\":\"surface\",\"colorbar\":{\"outlinewidth\":0,\"ticks\":\"\"},\"colorscale\":[[0.0,\"#0d0887\"],[0.1111111111111111,\"#46039f\"],[0.2222222222222222,\"#7201a8\"],[0.3333333333333333,\"#9c179e\"],[0.4444444444444444,\"#bd3786\"],[0.5555555555555556,\"#d8576b\"],[0.6666666666666666,\"#ed7953\"],[0.7777777777777778,\"#fb9f3a\"],[0.8888888888888888,\"#fdca26\"],[1.0,\"#f0f921\"]]}],\"mesh3d\":[{\"type\":\"mesh3d\",\"colorbar\":{\"outlinewidth\":0,\"ticks\":\"\"}}],\"scatter\":[{\"fillpattern\":{\"fillmode\":\"overlay\",\"size\":10,\"solidity\":0.2},\"type\":\"scatter\"}],\"parcoords\":[{\"type\":\"parcoords\",\"line\":{\"colorbar\":{\"outlinewidth\":0,\"ticks\":\"\"}}}],\"scatterpolargl\":[{\"type\":\"scatterpolargl\",\"marker\":{\"colorbar\":{\"outlinewidth\":0,\"ticks\":\"\"}}}],\"bar\":[{\"error_x\":{\"color\":\"#2a3f5f\"},\"error_y\":{\"color\":\"#2a3f5f\"},\"marker\":{\"line\":{\"color\":\"#E5ECF6\",\"width\":0.5},\"pattern\":{\"fillmode\":\"overlay\",\"size\":10,\"solidity\":0.2}},\"type\":\"bar\"}],\"scattergeo\":[{\"type\":\"scattergeo\",\"marker\":{\"colorbar\":{\"outlinewidth\":0,\"ticks\":\"\"}}}],\"scatterpolar\":[{\"type\":\"scatterpolar\",\"marker\":{\"colorbar\":{\"outlinewidth\":0,\"ticks\":\"\"}}}],\"histogram\":[{\"marker\":{\"pattern\":{\"fillmode\":\"overlay\",\"size\":10,\"solidity\":0.2}},\"type\":\"histogram\"}],\"scattergl\":[{\"type\":\"scattergl\",\"marker\":{\"colorbar\":{\"outlinewidth\":0,\"ticks\":\"\"}}}],\"scatter3d\":[{\"type\":\"scatter3d\",\"line\":{\"colorbar\":{\"outlinewidth\":0,\"ticks\":\"\"}},\"marker\":{\"colorbar\":{\"outlinewidth\":0,\"ticks\":\"\"}}}],\"scattermapbox\":[{\"type\":\"scattermapbox\",\"marker\":{\"colorbar\":{\"outlinewidth\":0,\"ticks\":\"\"}}}],\"scatterternary\":[{\"type\":\"scatterternary\",\"marker\":{\"colorbar\":{\"outlinewidth\":0,\"ticks\":\"\"}}}],\"scattercarpet\":[{\"type\":\"scattercarpet\",\"marker\":{\"colorbar\":{\"outlinewidth\":0,\"ticks\":\"\"}}}],\"carpet\":[{\"aaxis\":{\"endlinecolor\":\"#2a3f5f\",\"gridcolor\":\"white\",\"linecolor\":\"white\",\"minorgridcolor\":\"white\",\"startlinecolor\":\"#2a3f5f\"},\"baxis\":{\"endlinecolor\":\"#2a3f5f\",\"gridcolor\":\"white\",\"linecolor\":\"white\",\"minorgridcolor\":\"white\",\"startlinecolor\":\"#2a3f5f\"},\"type\":\"carpet\"}],\"table\":[{\"cells\":{\"fill\":{\"color\":\"#EBF0F8\"},\"line\":{\"color\":\"white\"}},\"header\":{\"fill\":{\"color\":\"#C8D4E3\"},\"line\":{\"color\":\"white\"}},\"type\":\"table\"}],\"barpolar\":[{\"marker\":{\"line\":{\"color\":\"#E5ECF6\",\"width\":0.5},\"pattern\":{\"fillmode\":\"overlay\",\"size\":10,\"solidity\":0.2}},\"type\":\"barpolar\"}],\"pie\":[{\"automargin\":true,\"type\":\"pie\"}]},\"layout\":{\"autotypenumbers\":\"strict\",\"colorway\":[\"#636efa\",\"#EF553B\",\"#00cc96\",\"#ab63fa\",\"#FFA15A\",\"#19d3f3\",\"#FF6692\",\"#B6E880\",\"#FF97FF\",\"#FECB52\"],\"font\":{\"color\":\"#2a3f5f\"},\"hovermode\":\"closest\",\"hoverlabel\":{\"align\":\"left\"},\"paper_bgcolor\":\"white\",\"plot_bgcolor\":\"#E5ECF6\",\"polar\":{\"bgcolor\":\"#E5ECF6\",\"angularaxis\":{\"gridcolor\":\"white\",\"linecolor\":\"white\",\"ticks\":\"\"},\"radialaxis\":{\"gridcolor\":\"white\",\"linecolor\":\"white\",\"ticks\":\"\"}},\"ternary\":{\"bgcolor\":\"#E5ECF6\",\"aaxis\":{\"gridcolor\":\"white\",\"linecolor\":\"white\",\"ticks\":\"\"},\"baxis\":{\"gridcolor\":\"white\",\"linecolor\":\"white\",\"ticks\":\"\"},\"caxis\":{\"gridcolor\":\"white\",\"linecolor\":\"white\",\"ticks\":\"\"}},\"coloraxis\":{\"colorbar\":{\"outlinewidth\":0,\"ticks\":\"\"}},\"colorscale\":{\"sequential\":[[0.0,\"#0d0887\"],[0.1111111111111111,\"#46039f\"],[0.2222222222222222,\"#7201a8\"],[0.3333333333333333,\"#9c179e\"],[0.4444444444444444,\"#bd3786\"],[0.5555555555555556,\"#d8576b\"],[0.6666666666666666,\"#ed7953\"],[0.7777777777777778,\"#fb9f3a\"],[0.8888888888888888,\"#fdca26\"],[1.0,\"#f0f921\"]],\"sequentialminus\":[[0.0,\"#0d0887\"],[0.1111111111111111,\"#46039f\"],[0.2222222222222222,\"#7201a8\"],[0.3333333333333333,\"#9c179e\"],[0.4444444444444444,\"#bd3786\"],[0.5555555555555556,\"#d8576b\"],[0.6666666666666666,\"#ed7953\"],[0.7777777777777778,\"#fb9f3a\"],[0.8888888888888888,\"#fdca26\"],[1.0,\"#f0f921\"]],\"diverging\":[[0,\"#8e0152\"],[0.1,\"#c51b7d\"],[0.2,\"#de77ae\"],[0.3,\"#f1b6da\"],[0.4,\"#fde0ef\"],[0.5,\"#f7f7f7\"],[0.6,\"#e6f5d0\"],[0.7,\"#b8e186\"],[0.8,\"#7fbc41\"],[0.9,\"#4d9221\"],[1,\"#276419\"]]},\"xaxis\":{\"gridcolor\":\"white\",\"linecolor\":\"white\",\"ticks\":\"\",\"title\":{\"standoff\":15},\"zerolinecolor\":\"white\",\"automargin\":true,\"zerolinewidth\":2},\"yaxis\":{\"gridcolor\":\"white\",\"linecolor\":\"white\",\"ticks\":\"\",\"title\":{\"standoff\":15},\"zerolinecolor\":\"white\",\"automargin\":true,\"zerolinewidth\":2},\"scene\":{\"xaxis\":{\"backgroundcolor\":\"#E5ECF6\",\"gridcolor\":\"white\",\"linecolor\":\"white\",\"showbackground\":true,\"ticks\":\"\",\"zerolinecolor\":\"white\",\"gridwidth\":2},\"yaxis\":{\"backgroundcolor\":\"#E5ECF6\",\"gridcolor\":\"white\",\"linecolor\":\"white\",\"showbackground\":true,\"ticks\":\"\",\"zerolinecolor\":\"white\",\"gridwidth\":2},\"zaxis\":{\"backgroundcolor\":\"#E5ECF6\",\"gridcolor\":\"white\",\"linecolor\":\"white\",\"showbackground\":true,\"ticks\":\"\",\"zerolinecolor\":\"white\",\"gridwidth\":2}},\"shapedefaults\":{\"line\":{\"color\":\"#2a3f5f\"}},\"annotationdefaults\":{\"arrowcolor\":\"#2a3f5f\",\"arrowhead\":0,\"arrowwidth\":1},\"geo\":{\"bgcolor\":\"white\",\"landcolor\":\"#E5ECF6\",\"subunitcolor\":\"white\",\"showland\":true,\"showlakes\":true,\"lakecolor\":\"white\"},\"title\":{\"x\":0.05},\"mapbox\":{\"style\":\"light\"}}}},                        {\"responsive\": true}                    ).then(function(){\n",
       "                            \n",
       "var gd = document.getElementById('2257fe2f-679a-431f-90cb-8e29865a0340');\n",
       "var x = new MutationObserver(function (mutations, observer) {{\n",
       "        var display = window.getComputedStyle(gd).display;\n",
       "        if (!display || display === 'none') {{\n",
       "            console.log([gd, 'removed!']);\n",
       "            Plotly.purge(gd);\n",
       "            observer.disconnect();\n",
       "        }}\n",
       "}});\n",
       "\n",
       "// Listen for the removal of the full notebook cells\n",
       "var notebookContainer = gd.closest('#notebook-container');\n",
       "if (notebookContainer) {{\n",
       "    x.observe(notebookContainer, {childList: true});\n",
       "}}\n",
       "\n",
       "// Listen for the clearing of the current output cell\n",
       "var outputEl = gd.closest('.output');\n",
       "if (outputEl) {{\n",
       "    x.observe(outputEl, {childList: true});\n",
       "}}\n",
       "\n",
       "                        })                };                });            </script>        </div>"
      ]
     },
     "metadata": {},
     "output_type": "display_data"
    }
   ],
   "source": [
    "fig = go.Figure(data=[go.Scatter3d(x=datanus['KernelLength'], y=datanus['AsymCoeff'],\n",
    "                                  z=datanus['KernelWidth'], mode='markers',\n",
    "                                   marker_color=datanus['Claster'], marker_size=4)])\n",
    "fig.show()"
   ]
  },
  {
   "cell_type": "code",
   "execution_count": 76,
   "id": "c7b9327a",
   "metadata": {},
   "outputs": [
    {
     "name": "stdout",
     "output_type": "stream",
     "text": [
      " 0.003040313720703125 seconds\n"
     ]
    }
   ],
   "source": [
    "timer = time.time()\n",
    "model2 = AgglomerativeClustering(6, compute_distances=True)\n",
    "clustering = model2.fit(data)\n",
    "print(\" %s seconds\" % (time.time() - timer))"
   ]
  },
  {
   "cell_type": "code",
   "execution_count": 77,
   "id": "da0444da",
   "metadata": {},
   "outputs": [
    {
     "data": {
      "application/vnd.plotly.v1+json": {
       "config": {
        "plotlyServerURL": "https://plot.ly"
       },
       "data": [
        {
         "marker": {
          "color": [
           4,
           4,
           3,
           3,
           4,
           3,
           2,
           3,
           4,
           4,
           2,
           3,
           2,
           3,
           3,
           2,
           2,
           4,
           4,
           3,
           3,
           3,
           4,
           3,
           4,
           4,
           3,
           3,
           3,
           3,
           3,
           4,
           2,
           3,
           4,
           4,
           4,
           4,
           4,
           2,
           3,
           3,
           3,
           2,
           4,
           3,
           4,
           4,
           4,
           4,
           2,
           2,
           2,
           3,
           4,
           4,
           3,
           4,
           4,
           3,
           3,
           3,
           3,
           3,
           3,
           3,
           4,
           3,
           4,
           3,
           2,
           2,
           2,
           0,
           2,
           2,
           2,
           0,
           0,
           4,
           2,
           0,
           0,
           0,
           0,
           0,
           0,
           0,
           0,
           0,
           0,
           0,
           0,
           0,
           0,
           2,
           0,
           0,
           0,
           0,
           2,
           0,
           0,
           0,
           0,
           0,
           0,
           2,
           0,
           0,
           0,
           0,
           0,
           0,
           0,
           0,
           0,
           0,
           0,
           0,
           0,
           2,
           2,
           0,
           4,
           0,
           0,
           0,
           0,
           2,
           0,
           0,
           2,
           2,
           2,
           4,
           2,
           4,
           4,
           2,
           1,
           1,
           1,
           1,
           1,
           1,
           5,
           1,
           5,
           1,
           1,
           1,
           1,
           5,
           5,
           1,
           5,
           1,
           1,
           1,
           5,
           1,
           1,
           1,
           1,
           5,
           1,
           5,
           5,
           5,
           1,
           1,
           5,
           1,
           1,
           1,
           1,
           1,
           1,
           5,
           1,
           1,
           1,
           1,
           1,
           5,
           1,
           5,
           1,
           1,
           1,
           5,
           5,
           1,
           5,
           1,
           1,
           1,
           5,
           5,
           1,
           5,
           5,
           1,
           5,
           5,
           5,
           1,
           5,
           1
          ],
          "size": 5
         },
         "mode": "markers",
         "type": "scatter3d",
         "x": [
          0.4864864864864864,
          0.3688063063063063,
          0.2207207207207209,
          0.2393018018018016,
          0.4273648648648649,
          0.274211711711712,
          0.37387387387387383,
          0.293355855855856,
          0.6497747747747749,
          0.5546171171171173,
          0.4588963963963968,
          0.30349099099099064,
          0.30405405405405395,
          0.32657657657657646,
          0.32826576576576594,
          0.2545045045045047,
          0.12387387387387383,
          0.35360360360360366,
          0.17229729729729737,
          0.1841216216216215,
          0.4273648648648649,
          0.34966216216216184,
          0.4048423423423424,
          0.11261261261261257,
          0.5011261261261262,
          0.525900900900901,
          0.2792792792792791,
          0.2792792792792791,
          0.36148648648648685,
          0.34740990990990994,
          0.3125,
          0.4831081081081079,
          0.4605855855855854,
          0.38626126126126126,
          0.4577702702702702,
          0.4560810810810807,
          0.5219594594594592,
          0.5253378378378377,
          0.42623873873873874,
          0.2804054054054057,
          0.2528153153153152,
          0.2545045045045047,
          0.13457207207207222,
          0.5506756756756754,
          0.38288288288288275,
          0.26858108108108114,
          0.45157657657657646,
          0.37781531531531565,
          0.36373873873873874,
          0.43862612612612617,
          0.38626126126126126,
          0.4363738738738743,
          0.4594594594594592,
          0.3406531531531529,
          0.474099099099099,
          0.45213963963963977,
          0.2753378378378377,
          0.2730855855855858,
          0.42961711711711725,
          0.14639639639639634,
          0.06137387387387383,
          0.0016891891891894772,
          0.09966216216216184,
          0.2792792792792791,
          0.20439189189189166,
          0.1351351351351351,
          0.411599099099099,
          0.39977477477477485,
          0.37725225225225234,
          0.2888513513513513,
          0.7274774774774775,
          0.6188063063063063,
          0.607545045045045,
          0.706644144144144,
          0.6295045045045047,
          0.5788288288288288,
          0.6559684684684686,
          0.945945945945946,
          0.8704954954954958,
          0.5354729729729728,
          0.5495495495495497,
          0.623310810810811,
          0.7804054054054057,
          0.8361486486486487,
          0.8260135135135132,
          0.7173423423423424,
          0.6672297297297294,
          0.9290540540540544,
          0.942567567567568,
          0.873310810810811,
          0.9470720720720722,
          0.7167792792792791,
          0.7730855855855858,
          0.6407657657657659,
          0.9949324324324329,
          0.6981981981981984,
          0.8119369369369371,
          0.8727477477477477,
          0.7725225225225225,
          0.7432432432432434,
          0.4611486486486487,
          0.5579954954954953,
          0.6835585585585586,
          0.8277027027027026,
          0.7595720720720722,
          0.6407657657657659,
          0.7055180180180183,
          0.6385135135135136,
          1,
          0.7060810810810807,
          0.6801801801801801,
          0.7905405405405403,
          0.7229729729729728,
          0.7657657657657659,
          0.9369369369369367,
          0.854166666666667,
          0.6486486486486487,
          0.7578828828828832,
          0.7477477477477481,
          0.897522522522523,
          0.7972972972972974,
          0.6531531531531534,
          0.4859234234234231,
          0.6086711711711716,
          0.2612612612612617,
          0.6824324324324325,
          0.7804054054054057,
          0.6081081081081083,
          0.9087837837837838,
          0.5022522522522523,
          0.6081081081081083,
          0.7010135135135136,
          0.5546171171171173,
          0.5326576576576576,
          0.4938063063063063,
          0.32545045045045073,
          0.7015765765765765,
          0.5748873873873874,
          0.5253378378378377,
          0.5478603603603602,
          0.32263513513513553,
          0.36148648648648685,
          0.275900900900901,
          0.18299549549549576,
          0.2336711711711712,
          0.2139639639639639,
          0.15596846846846857,
          0.2072072072072073,
          0.274211711711712,
          0.23536036036036068,
          0.20495495495495497,
          0.28490990990990994,
          0.2865990990990994,
          0.18074324324324298,
          0.15540540540540526,
          0.1976351351351351,
          0.08671171171171155,
          0.27871621621621623,
          0.30686936936936915,
          0.2280405405405408,
          0.3108108108108105,
          0.2539414414414414,
          0.2072072072072073,
          0.2443693693693696,
          0.06306306306306331,
          0.11599099099099108,
          0.2364864864864864,
          0.2916666666666665,
          0.15596846846846857,
          0.10754504504504503,
          0.2398648648648649,
          0.15090090090090058,
          0.10641891891891886,
          0.13344594594594605,
          0.21340090090090058,
          0.0461711711711712,
          0.16159909909909898,
          0.13851351351351315,
          0.15822072072072046,
          0.2578828828828832,
          0.10754504504504503,
          0.18975225225225234,
          0.19200450450450468,
          0.11768018018018012,
          0.3355855855855858,
          0.2612612612612617,
          0.2894144144144146,
          0.10641891891891886,
          0.10698198198198217,
          0,
          0.08277027027027062,
          0.10810810810810834,
          0.1311936936936937,
          0.15822072072072046,
          0.18975225225225234,
          0.14695945945945965,
          0.18299549549549576,
          0.2370495495495497,
          0.28772522522522515,
          0.09797297297297325,
          0.18018018018018056,
          0.04786036036036023,
          0.06193693693693714,
          0.15990990990990994,
          0.17173423423423406,
          0.13400900900900892,
          0.13569819819819795,
          0.18975225225225234,
          0.15540540540540526,
          0.1936936936936937
         ],
         "y": [
          0.1893016422005227,
          0.032883017592219385,
          0.25145301590191005,
          0.19424254638598865,
          0.07670103628964102,
          0.22063737663992516,
          0.36678412149423345,
          0.25158303969626444,
          0.1657673354223823,
          0.15653564602322229,
          0.49121689269136265,
          0.12376964984592183,
          0.4187936392359803,
          0.30827341403476843,
          0.2817485599864775,
          0.4446683743124992,
          0.5810633345902302,
          0.10842684211210653,
          0.13027083956364016,
          0.43387639938108685,
          0.29995189119608895,
          0.25002275416401204,
          0,
          0.08450246395090304,
          0.13339141062814497,
          0.0179302812414672,
          0.3390890532967534,
          0.22609837600280852,
          0.25860432459140026,
          0.35963281280474335,
          0.011702141491893012,
          0.34415998127657366,
          0.410212068808592,
          0.17668933414814914,
          0.17733945311992094,
          0.1956728081238867,
          0.26757596640185155,
          0.2848691310509823,
          0.3051528429702636,
          0.7697278601984164,
          0.236890350934221,
          0.19294230844244498,
          0.22050735284557071,
          0.5130608901428964,
          0.3072332236799335,
          0.10335591413228624,
          0.07826132182189342,
          0.2851291786396911,
          0.2521031348736819,
          0.17733945311992094,
          0.4173633774980822,
          0.6277418767634478,
          0.43569673250204793,
          0.33323798255080683,
          0.09308403437829126,
          0.15185478942646508,
          0.2648454667204099,
          0.04900596809216086,
          0.1604363598538533,
          0.09581453405973296,
          0.25158303969626444,
          0.19554278432953232,
          0.31919541276053526,
          0.44102770807057695,
          0.053426777100209336,
          0.20633475926094474,
          0.07124003692675761,
          0.18878154702310523,
          0.09087362987426699,
          0.35989286039345203,
          0.43049578072787326,
          0.508380033546139,
          0.49069679751394507,
          0.282268655163895,
          0.4211340675343587,
          0.5402358631629589,
          0.3977297845505728,
          0.4792547036107608,
          0.5589592895499877,
          0.2721267992042544,
          0.6198104253078315,
          0.5927654760821232,
          0.5731318831346137,
          0.09191382022910193,
          0.2856492738171086,
          0.21816692454719216,
          0.11492803182982488,
          0.380436619901442,
          0.6520563263077145,
          0.5527181474209781,
          0.15471531290226115,
          0.30619303332509856,
          0.32140581726455947,
          0.6807915848600296,
          0.5419261724895656,
          0.38108673887321387,
          0.3526115279096075,
          0.17928981003523647,
          0.2714766802324826,
          0.18501085698682862,
          0.44882913573183897,
          0.16940800166430459,
          0.4606613010180864,
          0.3370086725870835,
          0.3384389343249815,
          0.23246954192617253,
          0.2701764422889389,
          0.38771795238528656,
          0.32335617417987494,
          0.12650014952736355,
          0.19112197532148384,
          0.3787463105748352,
          0.1747389772328336,
          0.7693377888153534,
          0.5086400811348477,
          0.19281228464809064,
          0.4640419196712999,
          0.30151217672834135,
          0.3736753825950149,
          0.2987816770468996,
          0.6677892054245929,
          0.37107490670792764,
          0.45780077754229026,
          0.2885097972929046,
          0.33427817290564177,
          0.44505844569556235,
          0.47145327594949876,
          0.1939824987972799,
          0.1488642421563146,
          0.5982264754450065,
          0.26939629952281274,
          0.2786279889219727,
          0.48068496534865884,
          0.4552003016552029,
          0.5469971004693861,
          0.36860445461519464,
          0.35898269383297143,
          0.24378161203500243,
          0.25483363455512364,
          0.39057847586108263,
          0.5901650001950358,
          0.8152361882224449,
          0.6800114420939033,
          0.6116189262635064,
          0.4818551794978481,
          0.7026355823115631,
          0.1893016422005227,
          0.4753539897801298,
          0.3243963645347099,
          0.6107087597030257,
          0.5759924066104098,
          0.8096451650652071,
          0.5189119608888428,
          0.3337580777282243,
          0.426855114485951,
          0.6563471115214086,
          0.3357084346435398,
          0.5278836026992941,
          0.469762966622892,
          0.6010869989208026,
          0.30125212913963256,
          0.45585042062697473,
          0.549077481179056,
          0.47509394219142104,
          0.7311107932751695,
          0.18670116631343536,
          0.5407559583403765,
          0.37354535880066053,
          0.464431991054363,
          0.3583325748611996,
          0.7762290499161348,
          0.7736285740290475,
          0.46079132481244073,
          0.627091757791676,
          0.5743020972838031,
          0.5211223653928669,
          0.5941957378200212,
          0.511890675993707,
          0.6645386105657337,
          0.11648831736207728,
          0.5450467435540705,
          0.5489474573847015,
          0.5320443641186339,
          0.5778127397313709,
          0.704715963021233,
          0.4286754476069122,
          0.5373753396871628,
          0.4438882315463731,
          0.8788178236617302,
          0.5473871718524491,
          0.6023872368643463,
          0.41866361544162584,
          0.3682143832321315,
          0.5315242689412163,
          0.4377771132117178,
          0.5341247448283037,
          0.6134392593844674,
          0.5077299145743672,
          0.33037745907501076,
          0.26822608537362336,
          0.6120089976465695,
          0.19957352195451766,
          0.4272451858690141,
          1.0000000000000002,
          0.4100820450142377,
          0.37263519224018,
          0.4628717055221106,
          0.9816666449960343,
          0.36834440702648585,
          0.63346292371504
         ],
         "z": [
          0.48610121168923714,
          0.5010691375623664,
          0.50392017106201,
          0.533856022808268,
          0.6642908054169634,
          0.48610121168923714,
          0.4483250178189595,
          0.47897362794012843,
          0.5951532430506059,
          0.6236635780470421,
          0.43620812544547394,
          0.40698503207412684,
          0.405559515324305,
          0.3749109052031361,
          0.34497505345687807,
          0.5010691375623664,
          0.5367070563079117,
          0.6300784034212399,
          0.5958660014255168,
          0.29864575908766944,
          0.3556664290805418,
          0.38346400570206707,
          0.6250890947968639,
          0.21810406272273686,
          0.4383464005702067,
          0.5637918745545261,
          0.2822523164647184,
          0.23235923022095517,
          0.42124019957234515,
          0.31004989308624364,
          0.24590163934426257,
          0.5281539558089807,
          0.3962936564504631,
          0.3706343549536706,
          0.4975053456878118,
          0.6094084105488238,
          0.594440484675695,
          0.7505345687811829,
          0.4689950106913756,
          0.47612259444048477,
          0.3749109052031361,
          0.3763364219529579,
          0.40698503207412684,
          0.5459729151817532,
          0.5930149679258732,
          0.37419814682822516,
          0.5438346400570204,
          0.5324305060584462,
          0.47113328581610836,
          0.4476122594440486,
          0.45759087669280096,
          0.573057733428368,
          0.34426229508196715,
          0.405559515324305,
          0.34426229508196715,
          0.4148253741981469,
          0.5324305060584462,
          0.5573770491803278,
          0.5623663578047042,
          0.28652886671418387,
          0.15680684248039944,
          0.17747683535281555,
          0.29365645046329303,
          0.3136136849607982,
          0.2822523164647184,
          0.34853884533143265,
          0.39914468995010677,
          0.3763364219529579,
          0.37277263007840333,
          0.1796151104775483,
          0.6635780470420525,
          0.6086956521739129,
          0.6870990734141127,
          0.9265858873841768,
          0.6101211689237351,
          0.5759087669280116,
          0.5509622238061296,
          0.8439059158945119,
          0.719173200285103,
          0.667141838916607,
          0.5965787598004277,
          0.8745545260156808,
          0.8795438346400568,
          0.8139700641482535,
          0.83464005702067,
          0.727726300784034,
          0.8082679971489661,
          0.7412687099073414,
          1.0000000000000002,
          0.9992872416250889,
          0.8232359230220954,
          0.8310762651461154,
          0.757662152530292,
          0.8766928011404131,
          0.6094084105488238,
          0.5937277263007841,
          0.8410548823948683,
          0.6571632216678547,
          0.6286528866714185,
          0.7512473271560942,
          0.63791874554526,
          0.7583749109052029,
          0.899501069137562,
          0.7491090520313615,
          0.8018531717747683,
          0.8239486813970063,
          0.8382038488952246,
          0.6721311475409835,
          0.8075552387740557,
          0.7441197434069851,
          0.8118317890235212,
          0.8275124732715609,
          0.9066286528866716,
          0.7890235210263719,
          0.9700641482537418,
          0.7761938702779758,
          0.9030648610121166,
          0.8446186742694224,
          0.8118317890235212,
          0.8745545260156808,
          0.9493941553813257,
          0.6650035637918748,
          0.5395580898075554,
          0.8132573057733425,
          0.6785459729151817,
          0.8831076265146114,
          0.6870990734141127,
          0.7533856022808265,
          0.8146828225231648,
          0.7555238774055593,
          0.8018531717747683,
          0.8517462580185315,
          0.4547398431931573,
          0.5452601568068427,
          0.5545260156806842,
          0.5951532430506059,
          0.6728439059158944,
          0.42836778332145387,
          0.4675694939415538,
          0.6001425516749823,
          0.2594440484675695,
          0.31575196008553097,
          0.3164647184604419,
          0.24019957234497524,
          0.10477548111190327,
          0.040627227369921526,
          0.0634354953670706,
          0.24019957234497524,
          0.2002851033499644,
          0.012829650748396482,
          0.1496792587312903,
          0.10406272273699213,
          0.14468995010691388,
          0.04490377761938724,
          0.08909479686386312,
          0.03207412687099076,
          0.15609408410548853,
          0.08196721311475441,
          0.03421240199572351,
          0.04632929436920885,
          0.17747683535281555,
          0.12829650748396326,
          0.1546685673556667,
          0.24091233071988616,
          0.11689237348538861,
          0.22166785459729144,
          0.1903064861012116,
          0.14754098360655754,
          0.027084818246614573,
          0.06058446186742694,
          0.05060584461867457,
          0.15324305060584487,
          0.09479686386315045,
          0.09479686386315045,
          0.007840342124020072,
          0.13613684960798333,
          0.057020669992872586,
          0.008553100498930988,
          0.09123307198859609,
          0.18745545260156793,
          0.10334996436208144,
          0.27583749109052014,
          0.19885958660014258,
          0.15680684248039944,
          0.2822523164647184,
          0.037776193870278085,
          0.06129722024233808,
          0.03207412687099076,
          0.13613684960798333,
          0.1119030648610122,
          0.062009978617248995,
          0.12401995723449755,
          0.23022095509622242,
          0,
          0.24590163934426257,
          0.35352815395580905,
          0.30220955096222357,
          0.3549536707056309,
          0.2002851033499644,
          0.37419814682822516,
          0.25588025659301494,
          0.35994297933000685,
          0.12829650748396326,
          0.32858161083392745,
          0.23521026372059883,
          0.2501781895937276,
          0.11760513186029953,
          0.4290805416963652,
          0.14682822523164663,
          0.24518888096935165
         ]
        }
       ],
       "layout": {
        "template": {
         "data": {
          "bar": [
           {
            "error_x": {
             "color": "#2a3f5f"
            },
            "error_y": {
             "color": "#2a3f5f"
            },
            "marker": {
             "line": {
              "color": "#E5ECF6",
              "width": 0.5
             },
             "pattern": {
              "fillmode": "overlay",
              "size": 10,
              "solidity": 0.2
             }
            },
            "type": "bar"
           }
          ],
          "barpolar": [
           {
            "marker": {
             "line": {
              "color": "#E5ECF6",
              "width": 0.5
             },
             "pattern": {
              "fillmode": "overlay",
              "size": 10,
              "solidity": 0.2
             }
            },
            "type": "barpolar"
           }
          ],
          "carpet": [
           {
            "aaxis": {
             "endlinecolor": "#2a3f5f",
             "gridcolor": "white",
             "linecolor": "white",
             "minorgridcolor": "white",
             "startlinecolor": "#2a3f5f"
            },
            "baxis": {
             "endlinecolor": "#2a3f5f",
             "gridcolor": "white",
             "linecolor": "white",
             "minorgridcolor": "white",
             "startlinecolor": "#2a3f5f"
            },
            "type": "carpet"
           }
          ],
          "choropleth": [
           {
            "colorbar": {
             "outlinewidth": 0,
             "ticks": ""
            },
            "type": "choropleth"
           }
          ],
          "contour": [
           {
            "colorbar": {
             "outlinewidth": 0,
             "ticks": ""
            },
            "colorscale": [
             [
              0,
              "#0d0887"
             ],
             [
              0.1111111111111111,
              "#46039f"
             ],
             [
              0.2222222222222222,
              "#7201a8"
             ],
             [
              0.3333333333333333,
              "#9c179e"
             ],
             [
              0.4444444444444444,
              "#bd3786"
             ],
             [
              0.5555555555555556,
              "#d8576b"
             ],
             [
              0.6666666666666666,
              "#ed7953"
             ],
             [
              0.7777777777777778,
              "#fb9f3a"
             ],
             [
              0.8888888888888888,
              "#fdca26"
             ],
             [
              1,
              "#f0f921"
             ]
            ],
            "type": "contour"
           }
          ],
          "contourcarpet": [
           {
            "colorbar": {
             "outlinewidth": 0,
             "ticks": ""
            },
            "type": "contourcarpet"
           }
          ],
          "heatmap": [
           {
            "colorbar": {
             "outlinewidth": 0,
             "ticks": ""
            },
            "colorscale": [
             [
              0,
              "#0d0887"
             ],
             [
              0.1111111111111111,
              "#46039f"
             ],
             [
              0.2222222222222222,
              "#7201a8"
             ],
             [
              0.3333333333333333,
              "#9c179e"
             ],
             [
              0.4444444444444444,
              "#bd3786"
             ],
             [
              0.5555555555555556,
              "#d8576b"
             ],
             [
              0.6666666666666666,
              "#ed7953"
             ],
             [
              0.7777777777777778,
              "#fb9f3a"
             ],
             [
              0.8888888888888888,
              "#fdca26"
             ],
             [
              1,
              "#f0f921"
             ]
            ],
            "type": "heatmap"
           }
          ],
          "heatmapgl": [
           {
            "colorbar": {
             "outlinewidth": 0,
             "ticks": ""
            },
            "colorscale": [
             [
              0,
              "#0d0887"
             ],
             [
              0.1111111111111111,
              "#46039f"
             ],
             [
              0.2222222222222222,
              "#7201a8"
             ],
             [
              0.3333333333333333,
              "#9c179e"
             ],
             [
              0.4444444444444444,
              "#bd3786"
             ],
             [
              0.5555555555555556,
              "#d8576b"
             ],
             [
              0.6666666666666666,
              "#ed7953"
             ],
             [
              0.7777777777777778,
              "#fb9f3a"
             ],
             [
              0.8888888888888888,
              "#fdca26"
             ],
             [
              1,
              "#f0f921"
             ]
            ],
            "type": "heatmapgl"
           }
          ],
          "histogram": [
           {
            "marker": {
             "pattern": {
              "fillmode": "overlay",
              "size": 10,
              "solidity": 0.2
             }
            },
            "type": "histogram"
           }
          ],
          "histogram2d": [
           {
            "colorbar": {
             "outlinewidth": 0,
             "ticks": ""
            },
            "colorscale": [
             [
              0,
              "#0d0887"
             ],
             [
              0.1111111111111111,
              "#46039f"
             ],
             [
              0.2222222222222222,
              "#7201a8"
             ],
             [
              0.3333333333333333,
              "#9c179e"
             ],
             [
              0.4444444444444444,
              "#bd3786"
             ],
             [
              0.5555555555555556,
              "#d8576b"
             ],
             [
              0.6666666666666666,
              "#ed7953"
             ],
             [
              0.7777777777777778,
              "#fb9f3a"
             ],
             [
              0.8888888888888888,
              "#fdca26"
             ],
             [
              1,
              "#f0f921"
             ]
            ],
            "type": "histogram2d"
           }
          ],
          "histogram2dcontour": [
           {
            "colorbar": {
             "outlinewidth": 0,
             "ticks": ""
            },
            "colorscale": [
             [
              0,
              "#0d0887"
             ],
             [
              0.1111111111111111,
              "#46039f"
             ],
             [
              0.2222222222222222,
              "#7201a8"
             ],
             [
              0.3333333333333333,
              "#9c179e"
             ],
             [
              0.4444444444444444,
              "#bd3786"
             ],
             [
              0.5555555555555556,
              "#d8576b"
             ],
             [
              0.6666666666666666,
              "#ed7953"
             ],
             [
              0.7777777777777778,
              "#fb9f3a"
             ],
             [
              0.8888888888888888,
              "#fdca26"
             ],
             [
              1,
              "#f0f921"
             ]
            ],
            "type": "histogram2dcontour"
           }
          ],
          "mesh3d": [
           {
            "colorbar": {
             "outlinewidth": 0,
             "ticks": ""
            },
            "type": "mesh3d"
           }
          ],
          "parcoords": [
           {
            "line": {
             "colorbar": {
              "outlinewidth": 0,
              "ticks": ""
             }
            },
            "type": "parcoords"
           }
          ],
          "pie": [
           {
            "automargin": true,
            "type": "pie"
           }
          ],
          "scatter": [
           {
            "fillpattern": {
             "fillmode": "overlay",
             "size": 10,
             "solidity": 0.2
            },
            "type": "scatter"
           }
          ],
          "scatter3d": [
           {
            "line": {
             "colorbar": {
              "outlinewidth": 0,
              "ticks": ""
             }
            },
            "marker": {
             "colorbar": {
              "outlinewidth": 0,
              "ticks": ""
             }
            },
            "type": "scatter3d"
           }
          ],
          "scattercarpet": [
           {
            "marker": {
             "colorbar": {
              "outlinewidth": 0,
              "ticks": ""
             }
            },
            "type": "scattercarpet"
           }
          ],
          "scattergeo": [
           {
            "marker": {
             "colorbar": {
              "outlinewidth": 0,
              "ticks": ""
             }
            },
            "type": "scattergeo"
           }
          ],
          "scattergl": [
           {
            "marker": {
             "colorbar": {
              "outlinewidth": 0,
              "ticks": ""
             }
            },
            "type": "scattergl"
           }
          ],
          "scattermapbox": [
           {
            "marker": {
             "colorbar": {
              "outlinewidth": 0,
              "ticks": ""
             }
            },
            "type": "scattermapbox"
           }
          ],
          "scatterpolar": [
           {
            "marker": {
             "colorbar": {
              "outlinewidth": 0,
              "ticks": ""
             }
            },
            "type": "scatterpolar"
           }
          ],
          "scatterpolargl": [
           {
            "marker": {
             "colorbar": {
              "outlinewidth": 0,
              "ticks": ""
             }
            },
            "type": "scatterpolargl"
           }
          ],
          "scatterternary": [
           {
            "marker": {
             "colorbar": {
              "outlinewidth": 0,
              "ticks": ""
             }
            },
            "type": "scatterternary"
           }
          ],
          "surface": [
           {
            "colorbar": {
             "outlinewidth": 0,
             "ticks": ""
            },
            "colorscale": [
             [
              0,
              "#0d0887"
             ],
             [
              0.1111111111111111,
              "#46039f"
             ],
             [
              0.2222222222222222,
              "#7201a8"
             ],
             [
              0.3333333333333333,
              "#9c179e"
             ],
             [
              0.4444444444444444,
              "#bd3786"
             ],
             [
              0.5555555555555556,
              "#d8576b"
             ],
             [
              0.6666666666666666,
              "#ed7953"
             ],
             [
              0.7777777777777778,
              "#fb9f3a"
             ],
             [
              0.8888888888888888,
              "#fdca26"
             ],
             [
              1,
              "#f0f921"
             ]
            ],
            "type": "surface"
           }
          ],
          "table": [
           {
            "cells": {
             "fill": {
              "color": "#EBF0F8"
             },
             "line": {
              "color": "white"
             }
            },
            "header": {
             "fill": {
              "color": "#C8D4E3"
             },
             "line": {
              "color": "white"
             }
            },
            "type": "table"
           }
          ]
         },
         "layout": {
          "annotationdefaults": {
           "arrowcolor": "#2a3f5f",
           "arrowhead": 0,
           "arrowwidth": 1
          },
          "autotypenumbers": "strict",
          "coloraxis": {
           "colorbar": {
            "outlinewidth": 0,
            "ticks": ""
           }
          },
          "colorscale": {
           "diverging": [
            [
             0,
             "#8e0152"
            ],
            [
             0.1,
             "#c51b7d"
            ],
            [
             0.2,
             "#de77ae"
            ],
            [
             0.3,
             "#f1b6da"
            ],
            [
             0.4,
             "#fde0ef"
            ],
            [
             0.5,
             "#f7f7f7"
            ],
            [
             0.6,
             "#e6f5d0"
            ],
            [
             0.7,
             "#b8e186"
            ],
            [
             0.8,
             "#7fbc41"
            ],
            [
             0.9,
             "#4d9221"
            ],
            [
             1,
             "#276419"
            ]
           ],
           "sequential": [
            [
             0,
             "#0d0887"
            ],
            [
             0.1111111111111111,
             "#46039f"
            ],
            [
             0.2222222222222222,
             "#7201a8"
            ],
            [
             0.3333333333333333,
             "#9c179e"
            ],
            [
             0.4444444444444444,
             "#bd3786"
            ],
            [
             0.5555555555555556,
             "#d8576b"
            ],
            [
             0.6666666666666666,
             "#ed7953"
            ],
            [
             0.7777777777777778,
             "#fb9f3a"
            ],
            [
             0.8888888888888888,
             "#fdca26"
            ],
            [
             1,
             "#f0f921"
            ]
           ],
           "sequentialminus": [
            [
             0,
             "#0d0887"
            ],
            [
             0.1111111111111111,
             "#46039f"
            ],
            [
             0.2222222222222222,
             "#7201a8"
            ],
            [
             0.3333333333333333,
             "#9c179e"
            ],
            [
             0.4444444444444444,
             "#bd3786"
            ],
            [
             0.5555555555555556,
             "#d8576b"
            ],
            [
             0.6666666666666666,
             "#ed7953"
            ],
            [
             0.7777777777777778,
             "#fb9f3a"
            ],
            [
             0.8888888888888888,
             "#fdca26"
            ],
            [
             1,
             "#f0f921"
            ]
           ]
          },
          "colorway": [
           "#636efa",
           "#EF553B",
           "#00cc96",
           "#ab63fa",
           "#FFA15A",
           "#19d3f3",
           "#FF6692",
           "#B6E880",
           "#FF97FF",
           "#FECB52"
          ],
          "font": {
           "color": "#2a3f5f"
          },
          "geo": {
           "bgcolor": "white",
           "lakecolor": "white",
           "landcolor": "#E5ECF6",
           "showlakes": true,
           "showland": true,
           "subunitcolor": "white"
          },
          "hoverlabel": {
           "align": "left"
          },
          "hovermode": "closest",
          "mapbox": {
           "style": "light"
          },
          "paper_bgcolor": "white",
          "plot_bgcolor": "#E5ECF6",
          "polar": {
           "angularaxis": {
            "gridcolor": "white",
            "linecolor": "white",
            "ticks": ""
           },
           "bgcolor": "#E5ECF6",
           "radialaxis": {
            "gridcolor": "white",
            "linecolor": "white",
            "ticks": ""
           }
          },
          "scene": {
           "xaxis": {
            "backgroundcolor": "#E5ECF6",
            "gridcolor": "white",
            "gridwidth": 2,
            "linecolor": "white",
            "showbackground": true,
            "ticks": "",
            "zerolinecolor": "white"
           },
           "yaxis": {
            "backgroundcolor": "#E5ECF6",
            "gridcolor": "white",
            "gridwidth": 2,
            "linecolor": "white",
            "showbackground": true,
            "ticks": "",
            "zerolinecolor": "white"
           },
           "zaxis": {
            "backgroundcolor": "#E5ECF6",
            "gridcolor": "white",
            "gridwidth": 2,
            "linecolor": "white",
            "showbackground": true,
            "ticks": "",
            "zerolinecolor": "white"
           }
          },
          "shapedefaults": {
           "line": {
            "color": "#2a3f5f"
           }
          },
          "ternary": {
           "aaxis": {
            "gridcolor": "white",
            "linecolor": "white",
            "ticks": ""
           },
           "baxis": {
            "gridcolor": "white",
            "linecolor": "white",
            "ticks": ""
           },
           "bgcolor": "#E5ECF6",
           "caxis": {
            "gridcolor": "white",
            "linecolor": "white",
            "ticks": ""
           }
          },
          "title": {
           "x": 0.05
          },
          "xaxis": {
           "automargin": true,
           "gridcolor": "white",
           "linecolor": "white",
           "ticks": "",
           "title": {
            "standoff": 15
           },
           "zerolinecolor": "white",
           "zerolinewidth": 2
          },
          "yaxis": {
           "automargin": true,
           "gridcolor": "white",
           "linecolor": "white",
           "ticks": "",
           "title": {
            "standoff": 15
           },
           "zerolinecolor": "white",
           "zerolinewidth": 2
          }
         }
        }
       }
      },
      "text/html": [
       "<div>                            <div id=\"b65d8f46-e693-4beb-872e-267d38141419\" class=\"plotly-graph-div\" style=\"height:525px; width:100%;\"></div>            <script type=\"text/javascript\">                require([\"plotly\"], function(Plotly) {                    window.PLOTLYENV=window.PLOTLYENV || {};                                    if (document.getElementById(\"b65d8f46-e693-4beb-872e-267d38141419\")) {                    Plotly.newPlot(                        \"b65d8f46-e693-4beb-872e-267d38141419\",                        [{\"marker\":{\"color\":[4,4,3,3,4,3,2,3,4,4,2,3,2,3,3,2,2,4,4,3,3,3,4,3,4,4,3,3,3,3,3,4,2,3,4,4,4,4,4,2,3,3,3,2,4,3,4,4,4,4,2,2,2,3,4,4,3,4,4,3,3,3,3,3,3,3,4,3,4,3,2,2,2,0,2,2,2,0,0,4,2,0,0,0,0,0,0,0,0,0,0,0,0,0,0,2,0,0,0,0,2,0,0,0,0,0,0,2,0,0,0,0,0,0,0,0,0,0,0,0,0,2,2,0,4,0,0,0,0,2,0,0,2,2,2,4,2,4,4,2,1,1,1,1,1,1,5,1,5,1,1,1,1,5,5,1,5,1,1,1,5,1,1,1,1,5,1,5,5,5,1,1,5,1,1,1,1,1,1,5,1,1,1,1,1,5,1,5,1,1,1,5,5,1,5,1,1,1,5,5,1,5,5,1,5,5,5,1,5,1],\"size\":5},\"mode\":\"markers\",\"x\":[0.4864864864864864,0.3688063063063063,0.2207207207207209,0.2393018018018016,0.4273648648648649,0.274211711711712,0.37387387387387383,0.293355855855856,0.6497747747747749,0.5546171171171173,0.4588963963963968,0.30349099099099064,0.30405405405405395,0.32657657657657646,0.32826576576576594,0.2545045045045047,0.12387387387387383,0.35360360360360366,0.17229729729729737,0.1841216216216215,0.4273648648648649,0.34966216216216184,0.4048423423423424,0.11261261261261257,0.5011261261261262,0.525900900900901,0.2792792792792791,0.2792792792792791,0.36148648648648685,0.34740990990990994,0.3125,0.4831081081081079,0.4605855855855854,0.38626126126126126,0.4577702702702702,0.4560810810810807,0.5219594594594592,0.5253378378378377,0.42623873873873874,0.2804054054054057,0.2528153153153152,0.2545045045045047,0.13457207207207222,0.5506756756756754,0.38288288288288275,0.26858108108108114,0.45157657657657646,0.37781531531531565,0.36373873873873874,0.43862612612612617,0.38626126126126126,0.4363738738738743,0.4594594594594592,0.3406531531531529,0.474099099099099,0.45213963963963977,0.2753378378378377,0.2730855855855858,0.42961711711711725,0.14639639639639634,0.06137387387387383,0.0016891891891894772,0.09966216216216184,0.2792792792792791,0.20439189189189166,0.1351351351351351,0.411599099099099,0.39977477477477485,0.37725225225225234,0.2888513513513513,0.7274774774774775,0.6188063063063063,0.607545045045045,0.706644144144144,0.6295045045045047,0.5788288288288288,0.6559684684684686,0.945945945945946,0.8704954954954958,0.5354729729729728,0.5495495495495497,0.623310810810811,0.7804054054054057,0.8361486486486487,0.8260135135135132,0.7173423423423424,0.6672297297297294,0.9290540540540544,0.942567567567568,0.873310810810811,0.9470720720720722,0.7167792792792791,0.7730855855855858,0.6407657657657659,0.9949324324324329,0.6981981981981984,0.8119369369369371,0.8727477477477477,0.7725225225225225,0.7432432432432434,0.4611486486486487,0.5579954954954953,0.6835585585585586,0.8277027027027026,0.7595720720720722,0.6407657657657659,0.7055180180180183,0.6385135135135136,1.0,0.7060810810810807,0.6801801801801801,0.7905405405405403,0.7229729729729728,0.7657657657657659,0.9369369369369367,0.854166666666667,0.6486486486486487,0.7578828828828832,0.7477477477477481,0.897522522522523,0.7972972972972974,0.6531531531531534,0.4859234234234231,0.6086711711711716,0.2612612612612617,0.6824324324324325,0.7804054054054057,0.6081081081081083,0.9087837837837838,0.5022522522522523,0.6081081081081083,0.7010135135135136,0.5546171171171173,0.5326576576576576,0.4938063063063063,0.32545045045045073,0.7015765765765765,0.5748873873873874,0.5253378378378377,0.5478603603603602,0.32263513513513553,0.36148648648648685,0.275900900900901,0.18299549549549576,0.2336711711711712,0.2139639639639639,0.15596846846846857,0.2072072072072073,0.274211711711712,0.23536036036036068,0.20495495495495497,0.28490990990990994,0.2865990990990994,0.18074324324324298,0.15540540540540526,0.1976351351351351,0.08671171171171155,0.27871621621621623,0.30686936936936915,0.2280405405405408,0.3108108108108105,0.2539414414414414,0.2072072072072073,0.2443693693693696,0.06306306306306331,0.11599099099099108,0.2364864864864864,0.2916666666666665,0.15596846846846857,0.10754504504504503,0.2398648648648649,0.15090090090090058,0.10641891891891886,0.13344594594594605,0.21340090090090058,0.0461711711711712,0.16159909909909898,0.13851351351351315,0.15822072072072046,0.2578828828828832,0.10754504504504503,0.18975225225225234,0.19200450450450468,0.11768018018018012,0.3355855855855858,0.2612612612612617,0.2894144144144146,0.10641891891891886,0.10698198198198217,0.0,0.08277027027027062,0.10810810810810834,0.1311936936936937,0.15822072072072046,0.18975225225225234,0.14695945945945965,0.18299549549549576,0.2370495495495497,0.28772522522522515,0.09797297297297325,0.18018018018018056,0.04786036036036023,0.06193693693693714,0.15990990990990994,0.17173423423423406,0.13400900900900892,0.13569819819819795,0.18975225225225234,0.15540540540540526,0.1936936936936937],\"y\":[0.1893016422005227,0.032883017592219385,0.25145301590191005,0.19424254638598865,0.07670103628964102,0.22063737663992516,0.36678412149423345,0.25158303969626444,0.1657673354223823,0.15653564602322229,0.49121689269136265,0.12376964984592183,0.4187936392359803,0.30827341403476843,0.2817485599864775,0.4446683743124992,0.5810633345902302,0.10842684211210653,0.13027083956364016,0.43387639938108685,0.29995189119608895,0.25002275416401204,0.0,0.08450246395090304,0.13339141062814497,0.0179302812414672,0.3390890532967534,0.22609837600280852,0.25860432459140026,0.35963281280474335,0.011702141491893012,0.34415998127657366,0.410212068808592,0.17668933414814914,0.17733945311992094,0.1956728081238867,0.26757596640185155,0.2848691310509823,0.3051528429702636,0.7697278601984164,0.236890350934221,0.19294230844244498,0.22050735284557071,0.5130608901428964,0.3072332236799335,0.10335591413228624,0.07826132182189342,0.2851291786396911,0.2521031348736819,0.17733945311992094,0.4173633774980822,0.6277418767634478,0.43569673250204793,0.33323798255080683,0.09308403437829126,0.15185478942646508,0.2648454667204099,0.04900596809216086,0.1604363598538533,0.09581453405973296,0.25158303969626444,0.19554278432953232,0.31919541276053526,0.44102770807057695,0.053426777100209336,0.20633475926094474,0.07124003692675761,0.18878154702310523,0.09087362987426699,0.35989286039345203,0.43049578072787326,0.508380033546139,0.49069679751394507,0.282268655163895,0.4211340675343587,0.5402358631629589,0.3977297845505728,0.4792547036107608,0.5589592895499877,0.2721267992042544,0.6198104253078315,0.5927654760821232,0.5731318831346137,0.09191382022910193,0.2856492738171086,0.21816692454719216,0.11492803182982488,0.380436619901442,0.6520563263077145,0.5527181474209781,0.15471531290226115,0.30619303332509856,0.32140581726455947,0.6807915848600296,0.5419261724895656,0.38108673887321387,0.3526115279096075,0.17928981003523647,0.2714766802324826,0.18501085698682862,0.44882913573183897,0.16940800166430459,0.4606613010180864,0.3370086725870835,0.3384389343249815,0.23246954192617253,0.2701764422889389,0.38771795238528656,0.32335617417987494,0.12650014952736355,0.19112197532148384,0.3787463105748352,0.1747389772328336,0.7693377888153534,0.5086400811348477,0.19281228464809064,0.4640419196712999,0.30151217672834135,0.3736753825950149,0.2987816770468996,0.6677892054245929,0.37107490670792764,0.45780077754229026,0.2885097972929046,0.33427817290564177,0.44505844569556235,0.47145327594949876,0.1939824987972799,0.1488642421563146,0.5982264754450065,0.26939629952281274,0.2786279889219727,0.48068496534865884,0.4552003016552029,0.5469971004693861,0.36860445461519464,0.35898269383297143,0.24378161203500243,0.25483363455512364,0.39057847586108263,0.5901650001950358,0.8152361882224449,0.6800114420939033,0.6116189262635064,0.4818551794978481,0.7026355823115631,0.1893016422005227,0.4753539897801298,0.3243963645347099,0.6107087597030257,0.5759924066104098,0.8096451650652071,0.5189119608888428,0.3337580777282243,0.426855114485951,0.6563471115214086,0.3357084346435398,0.5278836026992941,0.469762966622892,0.6010869989208026,0.30125212913963256,0.45585042062697473,0.549077481179056,0.47509394219142104,0.7311107932751695,0.18670116631343536,0.5407559583403765,0.37354535880066053,0.464431991054363,0.3583325748611996,0.7762290499161348,0.7736285740290475,0.46079132481244073,0.627091757791676,0.5743020972838031,0.5211223653928669,0.5941957378200212,0.511890675993707,0.6645386105657337,0.11648831736207728,0.5450467435540705,0.5489474573847015,0.5320443641186339,0.5778127397313709,0.704715963021233,0.4286754476069122,0.5373753396871628,0.4438882315463731,0.8788178236617302,0.5473871718524491,0.6023872368643463,0.41866361544162584,0.3682143832321315,0.5315242689412163,0.4377771132117178,0.5341247448283037,0.6134392593844674,0.5077299145743672,0.33037745907501076,0.26822608537362336,0.6120089976465695,0.19957352195451766,0.4272451858690141,1.0000000000000002,0.4100820450142377,0.37263519224018,0.4628717055221106,0.9816666449960343,0.36834440702648585,0.63346292371504],\"z\":[0.48610121168923714,0.5010691375623664,0.50392017106201,0.533856022808268,0.6642908054169634,0.48610121168923714,0.4483250178189595,0.47897362794012843,0.5951532430506059,0.6236635780470421,0.43620812544547394,0.40698503207412684,0.405559515324305,0.3749109052031361,0.34497505345687807,0.5010691375623664,0.5367070563079117,0.6300784034212399,0.5958660014255168,0.29864575908766944,0.3556664290805418,0.38346400570206707,0.6250890947968639,0.21810406272273686,0.4383464005702067,0.5637918745545261,0.2822523164647184,0.23235923022095517,0.42124019957234515,0.31004989308624364,0.24590163934426257,0.5281539558089807,0.3962936564504631,0.3706343549536706,0.4975053456878118,0.6094084105488238,0.594440484675695,0.7505345687811829,0.4689950106913756,0.47612259444048477,0.3749109052031361,0.3763364219529579,0.40698503207412684,0.5459729151817532,0.5930149679258732,0.37419814682822516,0.5438346400570204,0.5324305060584462,0.47113328581610836,0.4476122594440486,0.45759087669280096,0.573057733428368,0.34426229508196715,0.405559515324305,0.34426229508196715,0.4148253741981469,0.5324305060584462,0.5573770491803278,0.5623663578047042,0.28652886671418387,0.15680684248039944,0.17747683535281555,0.29365645046329303,0.3136136849607982,0.2822523164647184,0.34853884533143265,0.39914468995010677,0.3763364219529579,0.37277263007840333,0.1796151104775483,0.6635780470420525,0.6086956521739129,0.6870990734141127,0.9265858873841768,0.6101211689237351,0.5759087669280116,0.5509622238061296,0.8439059158945119,0.719173200285103,0.667141838916607,0.5965787598004277,0.8745545260156808,0.8795438346400568,0.8139700641482535,0.83464005702067,0.727726300784034,0.8082679971489661,0.7412687099073414,1.0000000000000002,0.9992872416250889,0.8232359230220954,0.8310762651461154,0.757662152530292,0.8766928011404131,0.6094084105488238,0.5937277263007841,0.8410548823948683,0.6571632216678547,0.6286528866714185,0.7512473271560942,0.63791874554526,0.7583749109052029,0.899501069137562,0.7491090520313615,0.8018531717747683,0.8239486813970063,0.8382038488952246,0.6721311475409835,0.8075552387740557,0.7441197434069851,0.8118317890235212,0.8275124732715609,0.9066286528866716,0.7890235210263719,0.9700641482537418,0.7761938702779758,0.9030648610121166,0.8446186742694224,0.8118317890235212,0.8745545260156808,0.9493941553813257,0.6650035637918748,0.5395580898075554,0.8132573057733425,0.6785459729151817,0.8831076265146114,0.6870990734141127,0.7533856022808265,0.8146828225231648,0.7555238774055593,0.8018531717747683,0.8517462580185315,0.4547398431931573,0.5452601568068427,0.5545260156806842,0.5951532430506059,0.6728439059158944,0.42836778332145387,0.4675694939415538,0.6001425516749823,0.2594440484675695,0.31575196008553097,0.3164647184604419,0.24019957234497524,0.10477548111190327,0.040627227369921526,0.0634354953670706,0.24019957234497524,0.2002851033499644,0.012829650748396482,0.1496792587312903,0.10406272273699213,0.14468995010691388,0.04490377761938724,0.08909479686386312,0.03207412687099076,0.15609408410548853,0.08196721311475441,0.03421240199572351,0.04632929436920885,0.17747683535281555,0.12829650748396326,0.1546685673556667,0.24091233071988616,0.11689237348538861,0.22166785459729144,0.1903064861012116,0.14754098360655754,0.027084818246614573,0.06058446186742694,0.05060584461867457,0.15324305060584487,0.09479686386315045,0.09479686386315045,0.007840342124020072,0.13613684960798333,0.057020669992872586,0.008553100498930988,0.09123307198859609,0.18745545260156793,0.10334996436208144,0.27583749109052014,0.19885958660014258,0.15680684248039944,0.2822523164647184,0.037776193870278085,0.06129722024233808,0.03207412687099076,0.13613684960798333,0.1119030648610122,0.062009978617248995,0.12401995723449755,0.23022095509622242,0.0,0.24590163934426257,0.35352815395580905,0.30220955096222357,0.3549536707056309,0.2002851033499644,0.37419814682822516,0.25588025659301494,0.35994297933000685,0.12829650748396326,0.32858161083392745,0.23521026372059883,0.2501781895937276,0.11760513186029953,0.4290805416963652,0.14682822523164663,0.24518888096935165],\"type\":\"scatter3d\"}],                        {\"template\":{\"data\":{\"histogram2dcontour\":[{\"type\":\"histogram2dcontour\",\"colorbar\":{\"outlinewidth\":0,\"ticks\":\"\"},\"colorscale\":[[0.0,\"#0d0887\"],[0.1111111111111111,\"#46039f\"],[0.2222222222222222,\"#7201a8\"],[0.3333333333333333,\"#9c179e\"],[0.4444444444444444,\"#bd3786\"],[0.5555555555555556,\"#d8576b\"],[0.6666666666666666,\"#ed7953\"],[0.7777777777777778,\"#fb9f3a\"],[0.8888888888888888,\"#fdca26\"],[1.0,\"#f0f921\"]]}],\"choropleth\":[{\"type\":\"choropleth\",\"colorbar\":{\"outlinewidth\":0,\"ticks\":\"\"}}],\"histogram2d\":[{\"type\":\"histogram2d\",\"colorbar\":{\"outlinewidth\":0,\"ticks\":\"\"},\"colorscale\":[[0.0,\"#0d0887\"],[0.1111111111111111,\"#46039f\"],[0.2222222222222222,\"#7201a8\"],[0.3333333333333333,\"#9c179e\"],[0.4444444444444444,\"#bd3786\"],[0.5555555555555556,\"#d8576b\"],[0.6666666666666666,\"#ed7953\"],[0.7777777777777778,\"#fb9f3a\"],[0.8888888888888888,\"#fdca26\"],[1.0,\"#f0f921\"]]}],\"heatmap\":[{\"type\":\"heatmap\",\"colorbar\":{\"outlinewidth\":0,\"ticks\":\"\"},\"colorscale\":[[0.0,\"#0d0887\"],[0.1111111111111111,\"#46039f\"],[0.2222222222222222,\"#7201a8\"],[0.3333333333333333,\"#9c179e\"],[0.4444444444444444,\"#bd3786\"],[0.5555555555555556,\"#d8576b\"],[0.6666666666666666,\"#ed7953\"],[0.7777777777777778,\"#fb9f3a\"],[0.8888888888888888,\"#fdca26\"],[1.0,\"#f0f921\"]]}],\"heatmapgl\":[{\"type\":\"heatmapgl\",\"colorbar\":{\"outlinewidth\":0,\"ticks\":\"\"},\"colorscale\":[[0.0,\"#0d0887\"],[0.1111111111111111,\"#46039f\"],[0.2222222222222222,\"#7201a8\"],[0.3333333333333333,\"#9c179e\"],[0.4444444444444444,\"#bd3786\"],[0.5555555555555556,\"#d8576b\"],[0.6666666666666666,\"#ed7953\"],[0.7777777777777778,\"#fb9f3a\"],[0.8888888888888888,\"#fdca26\"],[1.0,\"#f0f921\"]]}],\"contourcarpet\":[{\"type\":\"contourcarpet\",\"colorbar\":{\"outlinewidth\":0,\"ticks\":\"\"}}],\"contour\":[{\"type\":\"contour\",\"colorbar\":{\"outlinewidth\":0,\"ticks\":\"\"},\"colorscale\":[[0.0,\"#0d0887\"],[0.1111111111111111,\"#46039f\"],[0.2222222222222222,\"#7201a8\"],[0.3333333333333333,\"#9c179e\"],[0.4444444444444444,\"#bd3786\"],[0.5555555555555556,\"#d8576b\"],[0.6666666666666666,\"#ed7953\"],[0.7777777777777778,\"#fb9f3a\"],[0.8888888888888888,\"#fdca26\"],[1.0,\"#f0f921\"]]}],\"surface\":[{\"type\":\"surface\",\"colorbar\":{\"outlinewidth\":0,\"ticks\":\"\"},\"colorscale\":[[0.0,\"#0d0887\"],[0.1111111111111111,\"#46039f\"],[0.2222222222222222,\"#7201a8\"],[0.3333333333333333,\"#9c179e\"],[0.4444444444444444,\"#bd3786\"],[0.5555555555555556,\"#d8576b\"],[0.6666666666666666,\"#ed7953\"],[0.7777777777777778,\"#fb9f3a\"],[0.8888888888888888,\"#fdca26\"],[1.0,\"#f0f921\"]]}],\"mesh3d\":[{\"type\":\"mesh3d\",\"colorbar\":{\"outlinewidth\":0,\"ticks\":\"\"}}],\"scatter\":[{\"fillpattern\":{\"fillmode\":\"overlay\",\"size\":10,\"solidity\":0.2},\"type\":\"scatter\"}],\"parcoords\":[{\"type\":\"parcoords\",\"line\":{\"colorbar\":{\"outlinewidth\":0,\"ticks\":\"\"}}}],\"scatterpolargl\":[{\"type\":\"scatterpolargl\",\"marker\":{\"colorbar\":{\"outlinewidth\":0,\"ticks\":\"\"}}}],\"bar\":[{\"error_x\":{\"color\":\"#2a3f5f\"},\"error_y\":{\"color\":\"#2a3f5f\"},\"marker\":{\"line\":{\"color\":\"#E5ECF6\",\"width\":0.5},\"pattern\":{\"fillmode\":\"overlay\",\"size\":10,\"solidity\":0.2}},\"type\":\"bar\"}],\"scattergeo\":[{\"type\":\"scattergeo\",\"marker\":{\"colorbar\":{\"outlinewidth\":0,\"ticks\":\"\"}}}],\"scatterpolar\":[{\"type\":\"scatterpolar\",\"marker\":{\"colorbar\":{\"outlinewidth\":0,\"ticks\":\"\"}}}],\"histogram\":[{\"marker\":{\"pattern\":{\"fillmode\":\"overlay\",\"size\":10,\"solidity\":0.2}},\"type\":\"histogram\"}],\"scattergl\":[{\"type\":\"scattergl\",\"marker\":{\"colorbar\":{\"outlinewidth\":0,\"ticks\":\"\"}}}],\"scatter3d\":[{\"type\":\"scatter3d\",\"line\":{\"colorbar\":{\"outlinewidth\":0,\"ticks\":\"\"}},\"marker\":{\"colorbar\":{\"outlinewidth\":0,\"ticks\":\"\"}}}],\"scattermapbox\":[{\"type\":\"scattermapbox\",\"marker\":{\"colorbar\":{\"outlinewidth\":0,\"ticks\":\"\"}}}],\"scatterternary\":[{\"type\":\"scatterternary\",\"marker\":{\"colorbar\":{\"outlinewidth\":0,\"ticks\":\"\"}}}],\"scattercarpet\":[{\"type\":\"scattercarpet\",\"marker\":{\"colorbar\":{\"outlinewidth\":0,\"ticks\":\"\"}}}],\"carpet\":[{\"aaxis\":{\"endlinecolor\":\"#2a3f5f\",\"gridcolor\":\"white\",\"linecolor\":\"white\",\"minorgridcolor\":\"white\",\"startlinecolor\":\"#2a3f5f\"},\"baxis\":{\"endlinecolor\":\"#2a3f5f\",\"gridcolor\":\"white\",\"linecolor\":\"white\",\"minorgridcolor\":\"white\",\"startlinecolor\":\"#2a3f5f\"},\"type\":\"carpet\"}],\"table\":[{\"cells\":{\"fill\":{\"color\":\"#EBF0F8\"},\"line\":{\"color\":\"white\"}},\"header\":{\"fill\":{\"color\":\"#C8D4E3\"},\"line\":{\"color\":\"white\"}},\"type\":\"table\"}],\"barpolar\":[{\"marker\":{\"line\":{\"color\":\"#E5ECF6\",\"width\":0.5},\"pattern\":{\"fillmode\":\"overlay\",\"size\":10,\"solidity\":0.2}},\"type\":\"barpolar\"}],\"pie\":[{\"automargin\":true,\"type\":\"pie\"}]},\"layout\":{\"autotypenumbers\":\"strict\",\"colorway\":[\"#636efa\",\"#EF553B\",\"#00cc96\",\"#ab63fa\",\"#FFA15A\",\"#19d3f3\",\"#FF6692\",\"#B6E880\",\"#FF97FF\",\"#FECB52\"],\"font\":{\"color\":\"#2a3f5f\"},\"hovermode\":\"closest\",\"hoverlabel\":{\"align\":\"left\"},\"paper_bgcolor\":\"white\",\"plot_bgcolor\":\"#E5ECF6\",\"polar\":{\"bgcolor\":\"#E5ECF6\",\"angularaxis\":{\"gridcolor\":\"white\",\"linecolor\":\"white\",\"ticks\":\"\"},\"radialaxis\":{\"gridcolor\":\"white\",\"linecolor\":\"white\",\"ticks\":\"\"}},\"ternary\":{\"bgcolor\":\"#E5ECF6\",\"aaxis\":{\"gridcolor\":\"white\",\"linecolor\":\"white\",\"ticks\":\"\"},\"baxis\":{\"gridcolor\":\"white\",\"linecolor\":\"white\",\"ticks\":\"\"},\"caxis\":{\"gridcolor\":\"white\",\"linecolor\":\"white\",\"ticks\":\"\"}},\"coloraxis\":{\"colorbar\":{\"outlinewidth\":0,\"ticks\":\"\"}},\"colorscale\":{\"sequential\":[[0.0,\"#0d0887\"],[0.1111111111111111,\"#46039f\"],[0.2222222222222222,\"#7201a8\"],[0.3333333333333333,\"#9c179e\"],[0.4444444444444444,\"#bd3786\"],[0.5555555555555556,\"#d8576b\"],[0.6666666666666666,\"#ed7953\"],[0.7777777777777778,\"#fb9f3a\"],[0.8888888888888888,\"#fdca26\"],[1.0,\"#f0f921\"]],\"sequentialminus\":[[0.0,\"#0d0887\"],[0.1111111111111111,\"#46039f\"],[0.2222222222222222,\"#7201a8\"],[0.3333333333333333,\"#9c179e\"],[0.4444444444444444,\"#bd3786\"],[0.5555555555555556,\"#d8576b\"],[0.6666666666666666,\"#ed7953\"],[0.7777777777777778,\"#fb9f3a\"],[0.8888888888888888,\"#fdca26\"],[1.0,\"#f0f921\"]],\"diverging\":[[0,\"#8e0152\"],[0.1,\"#c51b7d\"],[0.2,\"#de77ae\"],[0.3,\"#f1b6da\"],[0.4,\"#fde0ef\"],[0.5,\"#f7f7f7\"],[0.6,\"#e6f5d0\"],[0.7,\"#b8e186\"],[0.8,\"#7fbc41\"],[0.9,\"#4d9221\"],[1,\"#276419\"]]},\"xaxis\":{\"gridcolor\":\"white\",\"linecolor\":\"white\",\"ticks\":\"\",\"title\":{\"standoff\":15},\"zerolinecolor\":\"white\",\"automargin\":true,\"zerolinewidth\":2},\"yaxis\":{\"gridcolor\":\"white\",\"linecolor\":\"white\",\"ticks\":\"\",\"title\":{\"standoff\":15},\"zerolinecolor\":\"white\",\"automargin\":true,\"zerolinewidth\":2},\"scene\":{\"xaxis\":{\"backgroundcolor\":\"#E5ECF6\",\"gridcolor\":\"white\",\"linecolor\":\"white\",\"showbackground\":true,\"ticks\":\"\",\"zerolinecolor\":\"white\",\"gridwidth\":2},\"yaxis\":{\"backgroundcolor\":\"#E5ECF6\",\"gridcolor\":\"white\",\"linecolor\":\"white\",\"showbackground\":true,\"ticks\":\"\",\"zerolinecolor\":\"white\",\"gridwidth\":2},\"zaxis\":{\"backgroundcolor\":\"#E5ECF6\",\"gridcolor\":\"white\",\"linecolor\":\"white\",\"showbackground\":true,\"ticks\":\"\",\"zerolinecolor\":\"white\",\"gridwidth\":2}},\"shapedefaults\":{\"line\":{\"color\":\"#2a3f5f\"}},\"annotationdefaults\":{\"arrowcolor\":\"#2a3f5f\",\"arrowhead\":0,\"arrowwidth\":1},\"geo\":{\"bgcolor\":\"white\",\"landcolor\":\"#E5ECF6\",\"subunitcolor\":\"white\",\"showland\":true,\"showlakes\":true,\"lakecolor\":\"white\"},\"title\":{\"x\":0.05},\"mapbox\":{\"style\":\"light\"}}}},                        {\"responsive\": true}                    ).then(function(){\n",
       "                            \n",
       "var gd = document.getElementById('b65d8f46-e693-4beb-872e-267d38141419');\n",
       "var x = new MutationObserver(function (mutations, observer) {{\n",
       "        var display = window.getComputedStyle(gd).display;\n",
       "        if (!display || display === 'none') {{\n",
       "            console.log([gd, 'removed!']);\n",
       "            Plotly.purge(gd);\n",
       "            observer.disconnect();\n",
       "        }}\n",
       "}});\n",
       "\n",
       "// Listen for the removal of the full notebook cells\n",
       "var notebookContainer = gd.closest('#notebook-container');\n",
       "if (notebookContainer) {{\n",
       "    x.observe(notebookContainer, {childList: true});\n",
       "}}\n",
       "\n",
       "// Listen for the clearing of the current output cell\n",
       "var outputEl = gd.closest('.output');\n",
       "if (outputEl) {{\n",
       "    x.observe(outputEl, {childList: true});\n",
       "}}\n",
       "\n",
       "                        })                };                });            </script>        </div>"
      ]
     },
     "metadata": {},
     "output_type": "display_data"
    }
   ],
   "source": [
    "fig = go.Figure(data=[go.Scatter3d(x=datanus['KernelLength'], y=datanus['AsymCoeff'],\n",
    "                                  z=datanus['KernelWidth'], mode='markers',\n",
    "                                   marker_color=clustering.labels_, marker_size=5)])\n",
    "fig.show()"
   ]
  },
  {
   "cell_type": "code",
   "execution_count": 78,
   "id": "e4272809",
   "metadata": {},
   "outputs": [
    {
     "data": {
      "text/plain": [
       "0.002505064010620117"
      ]
     },
     "execution_count": 78,
     "metadata": {},
     "output_type": "execute_result"
    }
   ],
   "source": [
    "timer = time.time()\n",
    "model3 = DBSCAN(eps=0.35, min_samples=5).fit(datanus)\n",
    "kek =  (time.time() - timer)\n",
    "kek"
   ]
  },
  {
   "cell_type": "code",
   "execution_count": 79,
   "id": "0c0673b9",
   "metadata": {},
   "outputs": [
    {
     "data": {
      "application/vnd.plotly.v1+json": {
       "config": {
        "plotlyServerURL": "https://plot.ly"
       },
       "data": [
        {
         "marker": {
          "color": [
           0,
           0,
           1,
           1,
           0,
           1,
           0,
           1,
           2,
           2,
           0,
           1,
           1,
           1,
           1,
           1,
           1,
           0,
           1,
           3,
           0,
           0,
           0,
           1,
           0,
           0,
           1,
           1,
           0,
           1,
           1,
           0,
           0,
           0,
           0,
           0,
           2,
           2,
           0,
           3,
           1,
           1,
           1,
           2,
           0,
           1,
           0,
           0,
           0,
           0,
           0,
           2,
           0,
           0,
           0,
           0,
           0,
           0,
           0,
           1,
           1,
           1,
           1,
           3,
           1,
           1,
           0,
           0,
           0,
           4,
           2,
           2,
           2,
           5,
           2,
           2,
           2,
           5,
           5,
           2,
           2,
           5,
           5,
           5,
           5,
           5,
           5,
           5,
           5,
           5,
           5,
           5,
           5,
           5,
           5,
           2,
           5,
           5,
           5,
           5,
           2,
           5,
           5,
           5,
           5,
           5,
           5,
           2,
           5,
           5,
           5,
           5,
           5,
           5,
           5,
           5,
           5,
           5,
           5,
           5,
           5,
           5,
           2,
           5,
           0,
           5,
           5,
           5,
           5,
           2,
           5,
           5,
           2,
           2,
           2,
           0,
           2,
           2,
           2,
           2,
           3,
           3,
           3,
           3,
           4,
           4,
           4,
           3,
           4,
           4,
           4,
           4,
           4,
           4,
           4,
           4,
           3,
           4,
           4,
           4,
           4,
           4,
           4,
           3,
           3,
           1,
           4,
           4,
           4,
           4,
           4,
           3,
           4,
           4,
           4,
           3,
           4,
           4,
           4,
           4,
           3,
           3,
           3,
           3,
           3,
           4,
           4,
           4,
           3,
           3,
           4,
           4,
           3,
           4,
           3,
           3,
           3,
           3,
           4,
           1,
           3,
           1,
           3,
           -1,
           3,
           1,
           4,
           -1,
           4,
           3
          ],
          "size": 5
         },
         "mode": "markers",
         "type": "scatter3d",
         "x": [
          0.4864864864864864,
          0.3688063063063063,
          0.2207207207207209,
          0.2393018018018016,
          0.4273648648648649,
          0.274211711711712,
          0.37387387387387383,
          0.293355855855856,
          0.6497747747747749,
          0.5546171171171173,
          0.4588963963963968,
          0.30349099099099064,
          0.30405405405405395,
          0.32657657657657646,
          0.32826576576576594,
          0.2545045045045047,
          0.12387387387387383,
          0.35360360360360366,
          0.17229729729729737,
          0.1841216216216215,
          0.4273648648648649,
          0.34966216216216184,
          0.4048423423423424,
          0.11261261261261257,
          0.5011261261261262,
          0.525900900900901,
          0.2792792792792791,
          0.2792792792792791,
          0.36148648648648685,
          0.34740990990990994,
          0.3125,
          0.4831081081081079,
          0.4605855855855854,
          0.38626126126126126,
          0.4577702702702702,
          0.4560810810810807,
          0.5219594594594592,
          0.5253378378378377,
          0.42623873873873874,
          0.2804054054054057,
          0.2528153153153152,
          0.2545045045045047,
          0.13457207207207222,
          0.5506756756756754,
          0.38288288288288275,
          0.26858108108108114,
          0.45157657657657646,
          0.37781531531531565,
          0.36373873873873874,
          0.43862612612612617,
          0.38626126126126126,
          0.4363738738738743,
          0.4594594594594592,
          0.3406531531531529,
          0.474099099099099,
          0.45213963963963977,
          0.2753378378378377,
          0.2730855855855858,
          0.42961711711711725,
          0.14639639639639634,
          0.06137387387387383,
          0.0016891891891894772,
          0.09966216216216184,
          0.2792792792792791,
          0.20439189189189166,
          0.1351351351351351,
          0.411599099099099,
          0.39977477477477485,
          0.37725225225225234,
          0.2888513513513513,
          0.7274774774774775,
          0.6188063063063063,
          0.607545045045045,
          0.706644144144144,
          0.6295045045045047,
          0.5788288288288288,
          0.6559684684684686,
          0.945945945945946,
          0.8704954954954958,
          0.5354729729729728,
          0.5495495495495497,
          0.623310810810811,
          0.7804054054054057,
          0.8361486486486487,
          0.8260135135135132,
          0.7173423423423424,
          0.6672297297297294,
          0.9290540540540544,
          0.942567567567568,
          0.873310810810811,
          0.9470720720720722,
          0.7167792792792791,
          0.7730855855855858,
          0.6407657657657659,
          0.9949324324324329,
          0.6981981981981984,
          0.8119369369369371,
          0.8727477477477477,
          0.7725225225225225,
          0.7432432432432434,
          0.4611486486486487,
          0.5579954954954953,
          0.6835585585585586,
          0.8277027027027026,
          0.7595720720720722,
          0.6407657657657659,
          0.7055180180180183,
          0.6385135135135136,
          1,
          0.7060810810810807,
          0.6801801801801801,
          0.7905405405405403,
          0.7229729729729728,
          0.7657657657657659,
          0.9369369369369367,
          0.854166666666667,
          0.6486486486486487,
          0.7578828828828832,
          0.7477477477477481,
          0.897522522522523,
          0.7972972972972974,
          0.6531531531531534,
          0.4859234234234231,
          0.6086711711711716,
          0.2612612612612617,
          0.6824324324324325,
          0.7804054054054057,
          0.6081081081081083,
          0.9087837837837838,
          0.5022522522522523,
          0.6081081081081083,
          0.7010135135135136,
          0.5546171171171173,
          0.5326576576576576,
          0.4938063063063063,
          0.32545045045045073,
          0.7015765765765765,
          0.5748873873873874,
          0.5253378378378377,
          0.5478603603603602,
          0.32263513513513553,
          0.36148648648648685,
          0.275900900900901,
          0.18299549549549576,
          0.2336711711711712,
          0.2139639639639639,
          0.15596846846846857,
          0.2072072072072073,
          0.274211711711712,
          0.23536036036036068,
          0.20495495495495497,
          0.28490990990990994,
          0.2865990990990994,
          0.18074324324324298,
          0.15540540540540526,
          0.1976351351351351,
          0.08671171171171155,
          0.27871621621621623,
          0.30686936936936915,
          0.2280405405405408,
          0.3108108108108105,
          0.2539414414414414,
          0.2072072072072073,
          0.2443693693693696,
          0.06306306306306331,
          0.11599099099099108,
          0.2364864864864864,
          0.2916666666666665,
          0.15596846846846857,
          0.10754504504504503,
          0.2398648648648649,
          0.15090090090090058,
          0.10641891891891886,
          0.13344594594594605,
          0.21340090090090058,
          0.0461711711711712,
          0.16159909909909898,
          0.13851351351351315,
          0.15822072072072046,
          0.2578828828828832,
          0.10754504504504503,
          0.18975225225225234,
          0.19200450450450468,
          0.11768018018018012,
          0.3355855855855858,
          0.2612612612612617,
          0.2894144144144146,
          0.10641891891891886,
          0.10698198198198217,
          0,
          0.08277027027027062,
          0.10810810810810834,
          0.1311936936936937,
          0.15822072072072046,
          0.18975225225225234,
          0.14695945945945965,
          0.18299549549549576,
          0.2370495495495497,
          0.28772522522522515,
          0.09797297297297325,
          0.18018018018018056,
          0.04786036036036023,
          0.06193693693693714,
          0.15990990990990994,
          0.17173423423423406,
          0.13400900900900892,
          0.13569819819819795,
          0.18975225225225234,
          0.15540540540540526,
          0.1936936936936937
         ],
         "y": [
          0.1893016422005227,
          0.032883017592219385,
          0.25145301590191005,
          0.19424254638598865,
          0.07670103628964102,
          0.22063737663992516,
          0.36678412149423345,
          0.25158303969626444,
          0.1657673354223823,
          0.15653564602322229,
          0.49121689269136265,
          0.12376964984592183,
          0.4187936392359803,
          0.30827341403476843,
          0.2817485599864775,
          0.4446683743124992,
          0.5810633345902302,
          0.10842684211210653,
          0.13027083956364016,
          0.43387639938108685,
          0.29995189119608895,
          0.25002275416401204,
          0,
          0.08450246395090304,
          0.13339141062814497,
          0.0179302812414672,
          0.3390890532967534,
          0.22609837600280852,
          0.25860432459140026,
          0.35963281280474335,
          0.011702141491893012,
          0.34415998127657366,
          0.410212068808592,
          0.17668933414814914,
          0.17733945311992094,
          0.1956728081238867,
          0.26757596640185155,
          0.2848691310509823,
          0.3051528429702636,
          0.7697278601984164,
          0.236890350934221,
          0.19294230844244498,
          0.22050735284557071,
          0.5130608901428964,
          0.3072332236799335,
          0.10335591413228624,
          0.07826132182189342,
          0.2851291786396911,
          0.2521031348736819,
          0.17733945311992094,
          0.4173633774980822,
          0.6277418767634478,
          0.43569673250204793,
          0.33323798255080683,
          0.09308403437829126,
          0.15185478942646508,
          0.2648454667204099,
          0.04900596809216086,
          0.1604363598538533,
          0.09581453405973296,
          0.25158303969626444,
          0.19554278432953232,
          0.31919541276053526,
          0.44102770807057695,
          0.053426777100209336,
          0.20633475926094474,
          0.07124003692675761,
          0.18878154702310523,
          0.09087362987426699,
          0.35989286039345203,
          0.43049578072787326,
          0.508380033546139,
          0.49069679751394507,
          0.282268655163895,
          0.4211340675343587,
          0.5402358631629589,
          0.3977297845505728,
          0.4792547036107608,
          0.5589592895499877,
          0.2721267992042544,
          0.6198104253078315,
          0.5927654760821232,
          0.5731318831346137,
          0.09191382022910193,
          0.2856492738171086,
          0.21816692454719216,
          0.11492803182982488,
          0.380436619901442,
          0.6520563263077145,
          0.5527181474209781,
          0.15471531290226115,
          0.30619303332509856,
          0.32140581726455947,
          0.6807915848600296,
          0.5419261724895656,
          0.38108673887321387,
          0.3526115279096075,
          0.17928981003523647,
          0.2714766802324826,
          0.18501085698682862,
          0.44882913573183897,
          0.16940800166430459,
          0.4606613010180864,
          0.3370086725870835,
          0.3384389343249815,
          0.23246954192617253,
          0.2701764422889389,
          0.38771795238528656,
          0.32335617417987494,
          0.12650014952736355,
          0.19112197532148384,
          0.3787463105748352,
          0.1747389772328336,
          0.7693377888153534,
          0.5086400811348477,
          0.19281228464809064,
          0.4640419196712999,
          0.30151217672834135,
          0.3736753825950149,
          0.2987816770468996,
          0.6677892054245929,
          0.37107490670792764,
          0.45780077754229026,
          0.2885097972929046,
          0.33427817290564177,
          0.44505844569556235,
          0.47145327594949876,
          0.1939824987972799,
          0.1488642421563146,
          0.5982264754450065,
          0.26939629952281274,
          0.2786279889219727,
          0.48068496534865884,
          0.4552003016552029,
          0.5469971004693861,
          0.36860445461519464,
          0.35898269383297143,
          0.24378161203500243,
          0.25483363455512364,
          0.39057847586108263,
          0.5901650001950358,
          0.8152361882224449,
          0.6800114420939033,
          0.6116189262635064,
          0.4818551794978481,
          0.7026355823115631,
          0.1893016422005227,
          0.4753539897801298,
          0.3243963645347099,
          0.6107087597030257,
          0.5759924066104098,
          0.8096451650652071,
          0.5189119608888428,
          0.3337580777282243,
          0.426855114485951,
          0.6563471115214086,
          0.3357084346435398,
          0.5278836026992941,
          0.469762966622892,
          0.6010869989208026,
          0.30125212913963256,
          0.45585042062697473,
          0.549077481179056,
          0.47509394219142104,
          0.7311107932751695,
          0.18670116631343536,
          0.5407559583403765,
          0.37354535880066053,
          0.464431991054363,
          0.3583325748611996,
          0.7762290499161348,
          0.7736285740290475,
          0.46079132481244073,
          0.627091757791676,
          0.5743020972838031,
          0.5211223653928669,
          0.5941957378200212,
          0.511890675993707,
          0.6645386105657337,
          0.11648831736207728,
          0.5450467435540705,
          0.5489474573847015,
          0.5320443641186339,
          0.5778127397313709,
          0.704715963021233,
          0.4286754476069122,
          0.5373753396871628,
          0.4438882315463731,
          0.8788178236617302,
          0.5473871718524491,
          0.6023872368643463,
          0.41866361544162584,
          0.3682143832321315,
          0.5315242689412163,
          0.4377771132117178,
          0.5341247448283037,
          0.6134392593844674,
          0.5077299145743672,
          0.33037745907501076,
          0.26822608537362336,
          0.6120089976465695,
          0.19957352195451766,
          0.4272451858690141,
          1.0000000000000002,
          0.4100820450142377,
          0.37263519224018,
          0.4628717055221106,
          0.9816666449960343,
          0.36834440702648585,
          0.63346292371504
         ],
         "z": [
          0.48610121168923714,
          0.5010691375623664,
          0.50392017106201,
          0.533856022808268,
          0.6642908054169634,
          0.48610121168923714,
          0.4483250178189595,
          0.47897362794012843,
          0.5951532430506059,
          0.6236635780470421,
          0.43620812544547394,
          0.40698503207412684,
          0.405559515324305,
          0.3749109052031361,
          0.34497505345687807,
          0.5010691375623664,
          0.5367070563079117,
          0.6300784034212399,
          0.5958660014255168,
          0.29864575908766944,
          0.3556664290805418,
          0.38346400570206707,
          0.6250890947968639,
          0.21810406272273686,
          0.4383464005702067,
          0.5637918745545261,
          0.2822523164647184,
          0.23235923022095517,
          0.42124019957234515,
          0.31004989308624364,
          0.24590163934426257,
          0.5281539558089807,
          0.3962936564504631,
          0.3706343549536706,
          0.4975053456878118,
          0.6094084105488238,
          0.594440484675695,
          0.7505345687811829,
          0.4689950106913756,
          0.47612259444048477,
          0.3749109052031361,
          0.3763364219529579,
          0.40698503207412684,
          0.5459729151817532,
          0.5930149679258732,
          0.37419814682822516,
          0.5438346400570204,
          0.5324305060584462,
          0.47113328581610836,
          0.4476122594440486,
          0.45759087669280096,
          0.573057733428368,
          0.34426229508196715,
          0.405559515324305,
          0.34426229508196715,
          0.4148253741981469,
          0.5324305060584462,
          0.5573770491803278,
          0.5623663578047042,
          0.28652886671418387,
          0.15680684248039944,
          0.17747683535281555,
          0.29365645046329303,
          0.3136136849607982,
          0.2822523164647184,
          0.34853884533143265,
          0.39914468995010677,
          0.3763364219529579,
          0.37277263007840333,
          0.1796151104775483,
          0.6635780470420525,
          0.6086956521739129,
          0.6870990734141127,
          0.9265858873841768,
          0.6101211689237351,
          0.5759087669280116,
          0.5509622238061296,
          0.8439059158945119,
          0.719173200285103,
          0.667141838916607,
          0.5965787598004277,
          0.8745545260156808,
          0.8795438346400568,
          0.8139700641482535,
          0.83464005702067,
          0.727726300784034,
          0.8082679971489661,
          0.7412687099073414,
          1.0000000000000002,
          0.9992872416250889,
          0.8232359230220954,
          0.8310762651461154,
          0.757662152530292,
          0.8766928011404131,
          0.6094084105488238,
          0.5937277263007841,
          0.8410548823948683,
          0.6571632216678547,
          0.6286528866714185,
          0.7512473271560942,
          0.63791874554526,
          0.7583749109052029,
          0.899501069137562,
          0.7491090520313615,
          0.8018531717747683,
          0.8239486813970063,
          0.8382038488952246,
          0.6721311475409835,
          0.8075552387740557,
          0.7441197434069851,
          0.8118317890235212,
          0.8275124732715609,
          0.9066286528866716,
          0.7890235210263719,
          0.9700641482537418,
          0.7761938702779758,
          0.9030648610121166,
          0.8446186742694224,
          0.8118317890235212,
          0.8745545260156808,
          0.9493941553813257,
          0.6650035637918748,
          0.5395580898075554,
          0.8132573057733425,
          0.6785459729151817,
          0.8831076265146114,
          0.6870990734141127,
          0.7533856022808265,
          0.8146828225231648,
          0.7555238774055593,
          0.8018531717747683,
          0.8517462580185315,
          0.4547398431931573,
          0.5452601568068427,
          0.5545260156806842,
          0.5951532430506059,
          0.6728439059158944,
          0.42836778332145387,
          0.4675694939415538,
          0.6001425516749823,
          0.2594440484675695,
          0.31575196008553097,
          0.3164647184604419,
          0.24019957234497524,
          0.10477548111190327,
          0.040627227369921526,
          0.0634354953670706,
          0.24019957234497524,
          0.2002851033499644,
          0.012829650748396482,
          0.1496792587312903,
          0.10406272273699213,
          0.14468995010691388,
          0.04490377761938724,
          0.08909479686386312,
          0.03207412687099076,
          0.15609408410548853,
          0.08196721311475441,
          0.03421240199572351,
          0.04632929436920885,
          0.17747683535281555,
          0.12829650748396326,
          0.1546685673556667,
          0.24091233071988616,
          0.11689237348538861,
          0.22166785459729144,
          0.1903064861012116,
          0.14754098360655754,
          0.027084818246614573,
          0.06058446186742694,
          0.05060584461867457,
          0.15324305060584487,
          0.09479686386315045,
          0.09479686386315045,
          0.007840342124020072,
          0.13613684960798333,
          0.057020669992872586,
          0.008553100498930988,
          0.09123307198859609,
          0.18745545260156793,
          0.10334996436208144,
          0.27583749109052014,
          0.19885958660014258,
          0.15680684248039944,
          0.2822523164647184,
          0.037776193870278085,
          0.06129722024233808,
          0.03207412687099076,
          0.13613684960798333,
          0.1119030648610122,
          0.062009978617248995,
          0.12401995723449755,
          0.23022095509622242,
          0,
          0.24590163934426257,
          0.35352815395580905,
          0.30220955096222357,
          0.3549536707056309,
          0.2002851033499644,
          0.37419814682822516,
          0.25588025659301494,
          0.35994297933000685,
          0.12829650748396326,
          0.32858161083392745,
          0.23521026372059883,
          0.2501781895937276,
          0.11760513186029953,
          0.4290805416963652,
          0.14682822523164663,
          0.24518888096935165
         ]
        }
       ],
       "layout": {
        "template": {
         "data": {
          "bar": [
           {
            "error_x": {
             "color": "#2a3f5f"
            },
            "error_y": {
             "color": "#2a3f5f"
            },
            "marker": {
             "line": {
              "color": "#E5ECF6",
              "width": 0.5
             },
             "pattern": {
              "fillmode": "overlay",
              "size": 10,
              "solidity": 0.2
             }
            },
            "type": "bar"
           }
          ],
          "barpolar": [
           {
            "marker": {
             "line": {
              "color": "#E5ECF6",
              "width": 0.5
             },
             "pattern": {
              "fillmode": "overlay",
              "size": 10,
              "solidity": 0.2
             }
            },
            "type": "barpolar"
           }
          ],
          "carpet": [
           {
            "aaxis": {
             "endlinecolor": "#2a3f5f",
             "gridcolor": "white",
             "linecolor": "white",
             "minorgridcolor": "white",
             "startlinecolor": "#2a3f5f"
            },
            "baxis": {
             "endlinecolor": "#2a3f5f",
             "gridcolor": "white",
             "linecolor": "white",
             "minorgridcolor": "white",
             "startlinecolor": "#2a3f5f"
            },
            "type": "carpet"
           }
          ],
          "choropleth": [
           {
            "colorbar": {
             "outlinewidth": 0,
             "ticks": ""
            },
            "type": "choropleth"
           }
          ],
          "contour": [
           {
            "colorbar": {
             "outlinewidth": 0,
             "ticks": ""
            },
            "colorscale": [
             [
              0,
              "#0d0887"
             ],
             [
              0.1111111111111111,
              "#46039f"
             ],
             [
              0.2222222222222222,
              "#7201a8"
             ],
             [
              0.3333333333333333,
              "#9c179e"
             ],
             [
              0.4444444444444444,
              "#bd3786"
             ],
             [
              0.5555555555555556,
              "#d8576b"
             ],
             [
              0.6666666666666666,
              "#ed7953"
             ],
             [
              0.7777777777777778,
              "#fb9f3a"
             ],
             [
              0.8888888888888888,
              "#fdca26"
             ],
             [
              1,
              "#f0f921"
             ]
            ],
            "type": "contour"
           }
          ],
          "contourcarpet": [
           {
            "colorbar": {
             "outlinewidth": 0,
             "ticks": ""
            },
            "type": "contourcarpet"
           }
          ],
          "heatmap": [
           {
            "colorbar": {
             "outlinewidth": 0,
             "ticks": ""
            },
            "colorscale": [
             [
              0,
              "#0d0887"
             ],
             [
              0.1111111111111111,
              "#46039f"
             ],
             [
              0.2222222222222222,
              "#7201a8"
             ],
             [
              0.3333333333333333,
              "#9c179e"
             ],
             [
              0.4444444444444444,
              "#bd3786"
             ],
             [
              0.5555555555555556,
              "#d8576b"
             ],
             [
              0.6666666666666666,
              "#ed7953"
             ],
             [
              0.7777777777777778,
              "#fb9f3a"
             ],
             [
              0.8888888888888888,
              "#fdca26"
             ],
             [
              1,
              "#f0f921"
             ]
            ],
            "type": "heatmap"
           }
          ],
          "heatmapgl": [
           {
            "colorbar": {
             "outlinewidth": 0,
             "ticks": ""
            },
            "colorscale": [
             [
              0,
              "#0d0887"
             ],
             [
              0.1111111111111111,
              "#46039f"
             ],
             [
              0.2222222222222222,
              "#7201a8"
             ],
             [
              0.3333333333333333,
              "#9c179e"
             ],
             [
              0.4444444444444444,
              "#bd3786"
             ],
             [
              0.5555555555555556,
              "#d8576b"
             ],
             [
              0.6666666666666666,
              "#ed7953"
             ],
             [
              0.7777777777777778,
              "#fb9f3a"
             ],
             [
              0.8888888888888888,
              "#fdca26"
             ],
             [
              1,
              "#f0f921"
             ]
            ],
            "type": "heatmapgl"
           }
          ],
          "histogram": [
           {
            "marker": {
             "pattern": {
              "fillmode": "overlay",
              "size": 10,
              "solidity": 0.2
             }
            },
            "type": "histogram"
           }
          ],
          "histogram2d": [
           {
            "colorbar": {
             "outlinewidth": 0,
             "ticks": ""
            },
            "colorscale": [
             [
              0,
              "#0d0887"
             ],
             [
              0.1111111111111111,
              "#46039f"
             ],
             [
              0.2222222222222222,
              "#7201a8"
             ],
             [
              0.3333333333333333,
              "#9c179e"
             ],
             [
              0.4444444444444444,
              "#bd3786"
             ],
             [
              0.5555555555555556,
              "#d8576b"
             ],
             [
              0.6666666666666666,
              "#ed7953"
             ],
             [
              0.7777777777777778,
              "#fb9f3a"
             ],
             [
              0.8888888888888888,
              "#fdca26"
             ],
             [
              1,
              "#f0f921"
             ]
            ],
            "type": "histogram2d"
           }
          ],
          "histogram2dcontour": [
           {
            "colorbar": {
             "outlinewidth": 0,
             "ticks": ""
            },
            "colorscale": [
             [
              0,
              "#0d0887"
             ],
             [
              0.1111111111111111,
              "#46039f"
             ],
             [
              0.2222222222222222,
              "#7201a8"
             ],
             [
              0.3333333333333333,
              "#9c179e"
             ],
             [
              0.4444444444444444,
              "#bd3786"
             ],
             [
              0.5555555555555556,
              "#d8576b"
             ],
             [
              0.6666666666666666,
              "#ed7953"
             ],
             [
              0.7777777777777778,
              "#fb9f3a"
             ],
             [
              0.8888888888888888,
              "#fdca26"
             ],
             [
              1,
              "#f0f921"
             ]
            ],
            "type": "histogram2dcontour"
           }
          ],
          "mesh3d": [
           {
            "colorbar": {
             "outlinewidth": 0,
             "ticks": ""
            },
            "type": "mesh3d"
           }
          ],
          "parcoords": [
           {
            "line": {
             "colorbar": {
              "outlinewidth": 0,
              "ticks": ""
             }
            },
            "type": "parcoords"
           }
          ],
          "pie": [
           {
            "automargin": true,
            "type": "pie"
           }
          ],
          "scatter": [
           {
            "fillpattern": {
             "fillmode": "overlay",
             "size": 10,
             "solidity": 0.2
            },
            "type": "scatter"
           }
          ],
          "scatter3d": [
           {
            "line": {
             "colorbar": {
              "outlinewidth": 0,
              "ticks": ""
             }
            },
            "marker": {
             "colorbar": {
              "outlinewidth": 0,
              "ticks": ""
             }
            },
            "type": "scatter3d"
           }
          ],
          "scattercarpet": [
           {
            "marker": {
             "colorbar": {
              "outlinewidth": 0,
              "ticks": ""
             }
            },
            "type": "scattercarpet"
           }
          ],
          "scattergeo": [
           {
            "marker": {
             "colorbar": {
              "outlinewidth": 0,
              "ticks": ""
             }
            },
            "type": "scattergeo"
           }
          ],
          "scattergl": [
           {
            "marker": {
             "colorbar": {
              "outlinewidth": 0,
              "ticks": ""
             }
            },
            "type": "scattergl"
           }
          ],
          "scattermapbox": [
           {
            "marker": {
             "colorbar": {
              "outlinewidth": 0,
              "ticks": ""
             }
            },
            "type": "scattermapbox"
           }
          ],
          "scatterpolar": [
           {
            "marker": {
             "colorbar": {
              "outlinewidth": 0,
              "ticks": ""
             }
            },
            "type": "scatterpolar"
           }
          ],
          "scatterpolargl": [
           {
            "marker": {
             "colorbar": {
              "outlinewidth": 0,
              "ticks": ""
             }
            },
            "type": "scatterpolargl"
           }
          ],
          "scatterternary": [
           {
            "marker": {
             "colorbar": {
              "outlinewidth": 0,
              "ticks": ""
             }
            },
            "type": "scatterternary"
           }
          ],
          "surface": [
           {
            "colorbar": {
             "outlinewidth": 0,
             "ticks": ""
            },
            "colorscale": [
             [
              0,
              "#0d0887"
             ],
             [
              0.1111111111111111,
              "#46039f"
             ],
             [
              0.2222222222222222,
              "#7201a8"
             ],
             [
              0.3333333333333333,
              "#9c179e"
             ],
             [
              0.4444444444444444,
              "#bd3786"
             ],
             [
              0.5555555555555556,
              "#d8576b"
             ],
             [
              0.6666666666666666,
              "#ed7953"
             ],
             [
              0.7777777777777778,
              "#fb9f3a"
             ],
             [
              0.8888888888888888,
              "#fdca26"
             ],
             [
              1,
              "#f0f921"
             ]
            ],
            "type": "surface"
           }
          ],
          "table": [
           {
            "cells": {
             "fill": {
              "color": "#EBF0F8"
             },
             "line": {
              "color": "white"
             }
            },
            "header": {
             "fill": {
              "color": "#C8D4E3"
             },
             "line": {
              "color": "white"
             }
            },
            "type": "table"
           }
          ]
         },
         "layout": {
          "annotationdefaults": {
           "arrowcolor": "#2a3f5f",
           "arrowhead": 0,
           "arrowwidth": 1
          },
          "autotypenumbers": "strict",
          "coloraxis": {
           "colorbar": {
            "outlinewidth": 0,
            "ticks": ""
           }
          },
          "colorscale": {
           "diverging": [
            [
             0,
             "#8e0152"
            ],
            [
             0.1,
             "#c51b7d"
            ],
            [
             0.2,
             "#de77ae"
            ],
            [
             0.3,
             "#f1b6da"
            ],
            [
             0.4,
             "#fde0ef"
            ],
            [
             0.5,
             "#f7f7f7"
            ],
            [
             0.6,
             "#e6f5d0"
            ],
            [
             0.7,
             "#b8e186"
            ],
            [
             0.8,
             "#7fbc41"
            ],
            [
             0.9,
             "#4d9221"
            ],
            [
             1,
             "#276419"
            ]
           ],
           "sequential": [
            [
             0,
             "#0d0887"
            ],
            [
             0.1111111111111111,
             "#46039f"
            ],
            [
             0.2222222222222222,
             "#7201a8"
            ],
            [
             0.3333333333333333,
             "#9c179e"
            ],
            [
             0.4444444444444444,
             "#bd3786"
            ],
            [
             0.5555555555555556,
             "#d8576b"
            ],
            [
             0.6666666666666666,
             "#ed7953"
            ],
            [
             0.7777777777777778,
             "#fb9f3a"
            ],
            [
             0.8888888888888888,
             "#fdca26"
            ],
            [
             1,
             "#f0f921"
            ]
           ],
           "sequentialminus": [
            [
             0,
             "#0d0887"
            ],
            [
             0.1111111111111111,
             "#46039f"
            ],
            [
             0.2222222222222222,
             "#7201a8"
            ],
            [
             0.3333333333333333,
             "#9c179e"
            ],
            [
             0.4444444444444444,
             "#bd3786"
            ],
            [
             0.5555555555555556,
             "#d8576b"
            ],
            [
             0.6666666666666666,
             "#ed7953"
            ],
            [
             0.7777777777777778,
             "#fb9f3a"
            ],
            [
             0.8888888888888888,
             "#fdca26"
            ],
            [
             1,
             "#f0f921"
            ]
           ]
          },
          "colorway": [
           "#636efa",
           "#EF553B",
           "#00cc96",
           "#ab63fa",
           "#FFA15A",
           "#19d3f3",
           "#FF6692",
           "#B6E880",
           "#FF97FF",
           "#FECB52"
          ],
          "font": {
           "color": "#2a3f5f"
          },
          "geo": {
           "bgcolor": "white",
           "lakecolor": "white",
           "landcolor": "#E5ECF6",
           "showlakes": true,
           "showland": true,
           "subunitcolor": "white"
          },
          "hoverlabel": {
           "align": "left"
          },
          "hovermode": "closest",
          "mapbox": {
           "style": "light"
          },
          "paper_bgcolor": "white",
          "plot_bgcolor": "#E5ECF6",
          "polar": {
           "angularaxis": {
            "gridcolor": "white",
            "linecolor": "white",
            "ticks": ""
           },
           "bgcolor": "#E5ECF6",
           "radialaxis": {
            "gridcolor": "white",
            "linecolor": "white",
            "ticks": ""
           }
          },
          "scene": {
           "xaxis": {
            "backgroundcolor": "#E5ECF6",
            "gridcolor": "white",
            "gridwidth": 2,
            "linecolor": "white",
            "showbackground": true,
            "ticks": "",
            "zerolinecolor": "white"
           },
           "yaxis": {
            "backgroundcolor": "#E5ECF6",
            "gridcolor": "white",
            "gridwidth": 2,
            "linecolor": "white",
            "showbackground": true,
            "ticks": "",
            "zerolinecolor": "white"
           },
           "zaxis": {
            "backgroundcolor": "#E5ECF6",
            "gridcolor": "white",
            "gridwidth": 2,
            "linecolor": "white",
            "showbackground": true,
            "ticks": "",
            "zerolinecolor": "white"
           }
          },
          "shapedefaults": {
           "line": {
            "color": "#2a3f5f"
           }
          },
          "ternary": {
           "aaxis": {
            "gridcolor": "white",
            "linecolor": "white",
            "ticks": ""
           },
           "baxis": {
            "gridcolor": "white",
            "linecolor": "white",
            "ticks": ""
           },
           "bgcolor": "#E5ECF6",
           "caxis": {
            "gridcolor": "white",
            "linecolor": "white",
            "ticks": ""
           }
          },
          "title": {
           "x": 0.05
          },
          "xaxis": {
           "automargin": true,
           "gridcolor": "white",
           "linecolor": "white",
           "ticks": "",
           "title": {
            "standoff": 15
           },
           "zerolinecolor": "white",
           "zerolinewidth": 2
          },
          "yaxis": {
           "automargin": true,
           "gridcolor": "white",
           "linecolor": "white",
           "ticks": "",
           "title": {
            "standoff": 15
           },
           "zerolinecolor": "white",
           "zerolinewidth": 2
          }
         }
        }
       }
      },
      "text/html": [
       "<div>                            <div id=\"74969e3b-c57e-4dd2-8855-6335b9d8e8f4\" class=\"plotly-graph-div\" style=\"height:525px; width:100%;\"></div>            <script type=\"text/javascript\">                require([\"plotly\"], function(Plotly) {                    window.PLOTLYENV=window.PLOTLYENV || {};                                    if (document.getElementById(\"74969e3b-c57e-4dd2-8855-6335b9d8e8f4\")) {                    Plotly.newPlot(                        \"74969e3b-c57e-4dd2-8855-6335b9d8e8f4\",                        [{\"marker\":{\"color\":[0,0,1,1,0,1,0,1,2,2,0,1,1,1,1,1,1,0,1,3,0,0,0,1,0,0,1,1,0,1,1,0,0,0,0,0,2,2,0,3,1,1,1,2,0,1,0,0,0,0,0,2,0,0,0,0,0,0,0,1,1,1,1,3,1,1,0,0,0,4,2,2,2,5,2,2,2,5,5,2,2,5,5,5,5,5,5,5,5,5,5,5,5,5,5,2,5,5,5,5,2,5,5,5,5,5,5,2,5,5,5,5,5,5,5,5,5,5,5,5,5,5,2,5,0,5,5,5,5,2,5,5,2,2,2,0,2,2,2,2,3,3,3,3,4,4,4,3,4,4,4,4,4,4,4,4,3,4,4,4,4,4,4,3,3,1,4,4,4,4,4,3,4,4,4,3,4,4,4,4,3,3,3,3,3,4,4,4,3,3,4,4,3,4,3,3,3,3,4,1,3,1,3,-1,3,1,4,-1,4,3],\"size\":5},\"mode\":\"markers\",\"x\":[0.4864864864864864,0.3688063063063063,0.2207207207207209,0.2393018018018016,0.4273648648648649,0.274211711711712,0.37387387387387383,0.293355855855856,0.6497747747747749,0.5546171171171173,0.4588963963963968,0.30349099099099064,0.30405405405405395,0.32657657657657646,0.32826576576576594,0.2545045045045047,0.12387387387387383,0.35360360360360366,0.17229729729729737,0.1841216216216215,0.4273648648648649,0.34966216216216184,0.4048423423423424,0.11261261261261257,0.5011261261261262,0.525900900900901,0.2792792792792791,0.2792792792792791,0.36148648648648685,0.34740990990990994,0.3125,0.4831081081081079,0.4605855855855854,0.38626126126126126,0.4577702702702702,0.4560810810810807,0.5219594594594592,0.5253378378378377,0.42623873873873874,0.2804054054054057,0.2528153153153152,0.2545045045045047,0.13457207207207222,0.5506756756756754,0.38288288288288275,0.26858108108108114,0.45157657657657646,0.37781531531531565,0.36373873873873874,0.43862612612612617,0.38626126126126126,0.4363738738738743,0.4594594594594592,0.3406531531531529,0.474099099099099,0.45213963963963977,0.2753378378378377,0.2730855855855858,0.42961711711711725,0.14639639639639634,0.06137387387387383,0.0016891891891894772,0.09966216216216184,0.2792792792792791,0.20439189189189166,0.1351351351351351,0.411599099099099,0.39977477477477485,0.37725225225225234,0.2888513513513513,0.7274774774774775,0.6188063063063063,0.607545045045045,0.706644144144144,0.6295045045045047,0.5788288288288288,0.6559684684684686,0.945945945945946,0.8704954954954958,0.5354729729729728,0.5495495495495497,0.623310810810811,0.7804054054054057,0.8361486486486487,0.8260135135135132,0.7173423423423424,0.6672297297297294,0.9290540540540544,0.942567567567568,0.873310810810811,0.9470720720720722,0.7167792792792791,0.7730855855855858,0.6407657657657659,0.9949324324324329,0.6981981981981984,0.8119369369369371,0.8727477477477477,0.7725225225225225,0.7432432432432434,0.4611486486486487,0.5579954954954953,0.6835585585585586,0.8277027027027026,0.7595720720720722,0.6407657657657659,0.7055180180180183,0.6385135135135136,1.0,0.7060810810810807,0.6801801801801801,0.7905405405405403,0.7229729729729728,0.7657657657657659,0.9369369369369367,0.854166666666667,0.6486486486486487,0.7578828828828832,0.7477477477477481,0.897522522522523,0.7972972972972974,0.6531531531531534,0.4859234234234231,0.6086711711711716,0.2612612612612617,0.6824324324324325,0.7804054054054057,0.6081081081081083,0.9087837837837838,0.5022522522522523,0.6081081081081083,0.7010135135135136,0.5546171171171173,0.5326576576576576,0.4938063063063063,0.32545045045045073,0.7015765765765765,0.5748873873873874,0.5253378378378377,0.5478603603603602,0.32263513513513553,0.36148648648648685,0.275900900900901,0.18299549549549576,0.2336711711711712,0.2139639639639639,0.15596846846846857,0.2072072072072073,0.274211711711712,0.23536036036036068,0.20495495495495497,0.28490990990990994,0.2865990990990994,0.18074324324324298,0.15540540540540526,0.1976351351351351,0.08671171171171155,0.27871621621621623,0.30686936936936915,0.2280405405405408,0.3108108108108105,0.2539414414414414,0.2072072072072073,0.2443693693693696,0.06306306306306331,0.11599099099099108,0.2364864864864864,0.2916666666666665,0.15596846846846857,0.10754504504504503,0.2398648648648649,0.15090090090090058,0.10641891891891886,0.13344594594594605,0.21340090090090058,0.0461711711711712,0.16159909909909898,0.13851351351351315,0.15822072072072046,0.2578828828828832,0.10754504504504503,0.18975225225225234,0.19200450450450468,0.11768018018018012,0.3355855855855858,0.2612612612612617,0.2894144144144146,0.10641891891891886,0.10698198198198217,0.0,0.08277027027027062,0.10810810810810834,0.1311936936936937,0.15822072072072046,0.18975225225225234,0.14695945945945965,0.18299549549549576,0.2370495495495497,0.28772522522522515,0.09797297297297325,0.18018018018018056,0.04786036036036023,0.06193693693693714,0.15990990990990994,0.17173423423423406,0.13400900900900892,0.13569819819819795,0.18975225225225234,0.15540540540540526,0.1936936936936937],\"y\":[0.1893016422005227,0.032883017592219385,0.25145301590191005,0.19424254638598865,0.07670103628964102,0.22063737663992516,0.36678412149423345,0.25158303969626444,0.1657673354223823,0.15653564602322229,0.49121689269136265,0.12376964984592183,0.4187936392359803,0.30827341403476843,0.2817485599864775,0.4446683743124992,0.5810633345902302,0.10842684211210653,0.13027083956364016,0.43387639938108685,0.29995189119608895,0.25002275416401204,0.0,0.08450246395090304,0.13339141062814497,0.0179302812414672,0.3390890532967534,0.22609837600280852,0.25860432459140026,0.35963281280474335,0.011702141491893012,0.34415998127657366,0.410212068808592,0.17668933414814914,0.17733945311992094,0.1956728081238867,0.26757596640185155,0.2848691310509823,0.3051528429702636,0.7697278601984164,0.236890350934221,0.19294230844244498,0.22050735284557071,0.5130608901428964,0.3072332236799335,0.10335591413228624,0.07826132182189342,0.2851291786396911,0.2521031348736819,0.17733945311992094,0.4173633774980822,0.6277418767634478,0.43569673250204793,0.33323798255080683,0.09308403437829126,0.15185478942646508,0.2648454667204099,0.04900596809216086,0.1604363598538533,0.09581453405973296,0.25158303969626444,0.19554278432953232,0.31919541276053526,0.44102770807057695,0.053426777100209336,0.20633475926094474,0.07124003692675761,0.18878154702310523,0.09087362987426699,0.35989286039345203,0.43049578072787326,0.508380033546139,0.49069679751394507,0.282268655163895,0.4211340675343587,0.5402358631629589,0.3977297845505728,0.4792547036107608,0.5589592895499877,0.2721267992042544,0.6198104253078315,0.5927654760821232,0.5731318831346137,0.09191382022910193,0.2856492738171086,0.21816692454719216,0.11492803182982488,0.380436619901442,0.6520563263077145,0.5527181474209781,0.15471531290226115,0.30619303332509856,0.32140581726455947,0.6807915848600296,0.5419261724895656,0.38108673887321387,0.3526115279096075,0.17928981003523647,0.2714766802324826,0.18501085698682862,0.44882913573183897,0.16940800166430459,0.4606613010180864,0.3370086725870835,0.3384389343249815,0.23246954192617253,0.2701764422889389,0.38771795238528656,0.32335617417987494,0.12650014952736355,0.19112197532148384,0.3787463105748352,0.1747389772328336,0.7693377888153534,0.5086400811348477,0.19281228464809064,0.4640419196712999,0.30151217672834135,0.3736753825950149,0.2987816770468996,0.6677892054245929,0.37107490670792764,0.45780077754229026,0.2885097972929046,0.33427817290564177,0.44505844569556235,0.47145327594949876,0.1939824987972799,0.1488642421563146,0.5982264754450065,0.26939629952281274,0.2786279889219727,0.48068496534865884,0.4552003016552029,0.5469971004693861,0.36860445461519464,0.35898269383297143,0.24378161203500243,0.25483363455512364,0.39057847586108263,0.5901650001950358,0.8152361882224449,0.6800114420939033,0.6116189262635064,0.4818551794978481,0.7026355823115631,0.1893016422005227,0.4753539897801298,0.3243963645347099,0.6107087597030257,0.5759924066104098,0.8096451650652071,0.5189119608888428,0.3337580777282243,0.426855114485951,0.6563471115214086,0.3357084346435398,0.5278836026992941,0.469762966622892,0.6010869989208026,0.30125212913963256,0.45585042062697473,0.549077481179056,0.47509394219142104,0.7311107932751695,0.18670116631343536,0.5407559583403765,0.37354535880066053,0.464431991054363,0.3583325748611996,0.7762290499161348,0.7736285740290475,0.46079132481244073,0.627091757791676,0.5743020972838031,0.5211223653928669,0.5941957378200212,0.511890675993707,0.6645386105657337,0.11648831736207728,0.5450467435540705,0.5489474573847015,0.5320443641186339,0.5778127397313709,0.704715963021233,0.4286754476069122,0.5373753396871628,0.4438882315463731,0.8788178236617302,0.5473871718524491,0.6023872368643463,0.41866361544162584,0.3682143832321315,0.5315242689412163,0.4377771132117178,0.5341247448283037,0.6134392593844674,0.5077299145743672,0.33037745907501076,0.26822608537362336,0.6120089976465695,0.19957352195451766,0.4272451858690141,1.0000000000000002,0.4100820450142377,0.37263519224018,0.4628717055221106,0.9816666449960343,0.36834440702648585,0.63346292371504],\"z\":[0.48610121168923714,0.5010691375623664,0.50392017106201,0.533856022808268,0.6642908054169634,0.48610121168923714,0.4483250178189595,0.47897362794012843,0.5951532430506059,0.6236635780470421,0.43620812544547394,0.40698503207412684,0.405559515324305,0.3749109052031361,0.34497505345687807,0.5010691375623664,0.5367070563079117,0.6300784034212399,0.5958660014255168,0.29864575908766944,0.3556664290805418,0.38346400570206707,0.6250890947968639,0.21810406272273686,0.4383464005702067,0.5637918745545261,0.2822523164647184,0.23235923022095517,0.42124019957234515,0.31004989308624364,0.24590163934426257,0.5281539558089807,0.3962936564504631,0.3706343549536706,0.4975053456878118,0.6094084105488238,0.594440484675695,0.7505345687811829,0.4689950106913756,0.47612259444048477,0.3749109052031361,0.3763364219529579,0.40698503207412684,0.5459729151817532,0.5930149679258732,0.37419814682822516,0.5438346400570204,0.5324305060584462,0.47113328581610836,0.4476122594440486,0.45759087669280096,0.573057733428368,0.34426229508196715,0.405559515324305,0.34426229508196715,0.4148253741981469,0.5324305060584462,0.5573770491803278,0.5623663578047042,0.28652886671418387,0.15680684248039944,0.17747683535281555,0.29365645046329303,0.3136136849607982,0.2822523164647184,0.34853884533143265,0.39914468995010677,0.3763364219529579,0.37277263007840333,0.1796151104775483,0.6635780470420525,0.6086956521739129,0.6870990734141127,0.9265858873841768,0.6101211689237351,0.5759087669280116,0.5509622238061296,0.8439059158945119,0.719173200285103,0.667141838916607,0.5965787598004277,0.8745545260156808,0.8795438346400568,0.8139700641482535,0.83464005702067,0.727726300784034,0.8082679971489661,0.7412687099073414,1.0000000000000002,0.9992872416250889,0.8232359230220954,0.8310762651461154,0.757662152530292,0.8766928011404131,0.6094084105488238,0.5937277263007841,0.8410548823948683,0.6571632216678547,0.6286528866714185,0.7512473271560942,0.63791874554526,0.7583749109052029,0.899501069137562,0.7491090520313615,0.8018531717747683,0.8239486813970063,0.8382038488952246,0.6721311475409835,0.8075552387740557,0.7441197434069851,0.8118317890235212,0.8275124732715609,0.9066286528866716,0.7890235210263719,0.9700641482537418,0.7761938702779758,0.9030648610121166,0.8446186742694224,0.8118317890235212,0.8745545260156808,0.9493941553813257,0.6650035637918748,0.5395580898075554,0.8132573057733425,0.6785459729151817,0.8831076265146114,0.6870990734141127,0.7533856022808265,0.8146828225231648,0.7555238774055593,0.8018531717747683,0.8517462580185315,0.4547398431931573,0.5452601568068427,0.5545260156806842,0.5951532430506059,0.6728439059158944,0.42836778332145387,0.4675694939415538,0.6001425516749823,0.2594440484675695,0.31575196008553097,0.3164647184604419,0.24019957234497524,0.10477548111190327,0.040627227369921526,0.0634354953670706,0.24019957234497524,0.2002851033499644,0.012829650748396482,0.1496792587312903,0.10406272273699213,0.14468995010691388,0.04490377761938724,0.08909479686386312,0.03207412687099076,0.15609408410548853,0.08196721311475441,0.03421240199572351,0.04632929436920885,0.17747683535281555,0.12829650748396326,0.1546685673556667,0.24091233071988616,0.11689237348538861,0.22166785459729144,0.1903064861012116,0.14754098360655754,0.027084818246614573,0.06058446186742694,0.05060584461867457,0.15324305060584487,0.09479686386315045,0.09479686386315045,0.007840342124020072,0.13613684960798333,0.057020669992872586,0.008553100498930988,0.09123307198859609,0.18745545260156793,0.10334996436208144,0.27583749109052014,0.19885958660014258,0.15680684248039944,0.2822523164647184,0.037776193870278085,0.06129722024233808,0.03207412687099076,0.13613684960798333,0.1119030648610122,0.062009978617248995,0.12401995723449755,0.23022095509622242,0.0,0.24590163934426257,0.35352815395580905,0.30220955096222357,0.3549536707056309,0.2002851033499644,0.37419814682822516,0.25588025659301494,0.35994297933000685,0.12829650748396326,0.32858161083392745,0.23521026372059883,0.2501781895937276,0.11760513186029953,0.4290805416963652,0.14682822523164663,0.24518888096935165],\"type\":\"scatter3d\"}],                        {\"template\":{\"data\":{\"histogram2dcontour\":[{\"type\":\"histogram2dcontour\",\"colorbar\":{\"outlinewidth\":0,\"ticks\":\"\"},\"colorscale\":[[0.0,\"#0d0887\"],[0.1111111111111111,\"#46039f\"],[0.2222222222222222,\"#7201a8\"],[0.3333333333333333,\"#9c179e\"],[0.4444444444444444,\"#bd3786\"],[0.5555555555555556,\"#d8576b\"],[0.6666666666666666,\"#ed7953\"],[0.7777777777777778,\"#fb9f3a\"],[0.8888888888888888,\"#fdca26\"],[1.0,\"#f0f921\"]]}],\"choropleth\":[{\"type\":\"choropleth\",\"colorbar\":{\"outlinewidth\":0,\"ticks\":\"\"}}],\"histogram2d\":[{\"type\":\"histogram2d\",\"colorbar\":{\"outlinewidth\":0,\"ticks\":\"\"},\"colorscale\":[[0.0,\"#0d0887\"],[0.1111111111111111,\"#46039f\"],[0.2222222222222222,\"#7201a8\"],[0.3333333333333333,\"#9c179e\"],[0.4444444444444444,\"#bd3786\"],[0.5555555555555556,\"#d8576b\"],[0.6666666666666666,\"#ed7953\"],[0.7777777777777778,\"#fb9f3a\"],[0.8888888888888888,\"#fdca26\"],[1.0,\"#f0f921\"]]}],\"heatmap\":[{\"type\":\"heatmap\",\"colorbar\":{\"outlinewidth\":0,\"ticks\":\"\"},\"colorscale\":[[0.0,\"#0d0887\"],[0.1111111111111111,\"#46039f\"],[0.2222222222222222,\"#7201a8\"],[0.3333333333333333,\"#9c179e\"],[0.4444444444444444,\"#bd3786\"],[0.5555555555555556,\"#d8576b\"],[0.6666666666666666,\"#ed7953\"],[0.7777777777777778,\"#fb9f3a\"],[0.8888888888888888,\"#fdca26\"],[1.0,\"#f0f921\"]]}],\"heatmapgl\":[{\"type\":\"heatmapgl\",\"colorbar\":{\"outlinewidth\":0,\"ticks\":\"\"},\"colorscale\":[[0.0,\"#0d0887\"],[0.1111111111111111,\"#46039f\"],[0.2222222222222222,\"#7201a8\"],[0.3333333333333333,\"#9c179e\"],[0.4444444444444444,\"#bd3786\"],[0.5555555555555556,\"#d8576b\"],[0.6666666666666666,\"#ed7953\"],[0.7777777777777778,\"#fb9f3a\"],[0.8888888888888888,\"#fdca26\"],[1.0,\"#f0f921\"]]}],\"contourcarpet\":[{\"type\":\"contourcarpet\",\"colorbar\":{\"outlinewidth\":0,\"ticks\":\"\"}}],\"contour\":[{\"type\":\"contour\",\"colorbar\":{\"outlinewidth\":0,\"ticks\":\"\"},\"colorscale\":[[0.0,\"#0d0887\"],[0.1111111111111111,\"#46039f\"],[0.2222222222222222,\"#7201a8\"],[0.3333333333333333,\"#9c179e\"],[0.4444444444444444,\"#bd3786\"],[0.5555555555555556,\"#d8576b\"],[0.6666666666666666,\"#ed7953\"],[0.7777777777777778,\"#fb9f3a\"],[0.8888888888888888,\"#fdca26\"],[1.0,\"#f0f921\"]]}],\"surface\":[{\"type\":\"surface\",\"colorbar\":{\"outlinewidth\":0,\"ticks\":\"\"},\"colorscale\":[[0.0,\"#0d0887\"],[0.1111111111111111,\"#46039f\"],[0.2222222222222222,\"#7201a8\"],[0.3333333333333333,\"#9c179e\"],[0.4444444444444444,\"#bd3786\"],[0.5555555555555556,\"#d8576b\"],[0.6666666666666666,\"#ed7953\"],[0.7777777777777778,\"#fb9f3a\"],[0.8888888888888888,\"#fdca26\"],[1.0,\"#f0f921\"]]}],\"mesh3d\":[{\"type\":\"mesh3d\",\"colorbar\":{\"outlinewidth\":0,\"ticks\":\"\"}}],\"scatter\":[{\"fillpattern\":{\"fillmode\":\"overlay\",\"size\":10,\"solidity\":0.2},\"type\":\"scatter\"}],\"parcoords\":[{\"type\":\"parcoords\",\"line\":{\"colorbar\":{\"outlinewidth\":0,\"ticks\":\"\"}}}],\"scatterpolargl\":[{\"type\":\"scatterpolargl\",\"marker\":{\"colorbar\":{\"outlinewidth\":0,\"ticks\":\"\"}}}],\"bar\":[{\"error_x\":{\"color\":\"#2a3f5f\"},\"error_y\":{\"color\":\"#2a3f5f\"},\"marker\":{\"line\":{\"color\":\"#E5ECF6\",\"width\":0.5},\"pattern\":{\"fillmode\":\"overlay\",\"size\":10,\"solidity\":0.2}},\"type\":\"bar\"}],\"scattergeo\":[{\"type\":\"scattergeo\",\"marker\":{\"colorbar\":{\"outlinewidth\":0,\"ticks\":\"\"}}}],\"scatterpolar\":[{\"type\":\"scatterpolar\",\"marker\":{\"colorbar\":{\"outlinewidth\":0,\"ticks\":\"\"}}}],\"histogram\":[{\"marker\":{\"pattern\":{\"fillmode\":\"overlay\",\"size\":10,\"solidity\":0.2}},\"type\":\"histogram\"}],\"scattergl\":[{\"type\":\"scattergl\",\"marker\":{\"colorbar\":{\"outlinewidth\":0,\"ticks\":\"\"}}}],\"scatter3d\":[{\"type\":\"scatter3d\",\"line\":{\"colorbar\":{\"outlinewidth\":0,\"ticks\":\"\"}},\"marker\":{\"colorbar\":{\"outlinewidth\":0,\"ticks\":\"\"}}}],\"scattermapbox\":[{\"type\":\"scattermapbox\",\"marker\":{\"colorbar\":{\"outlinewidth\":0,\"ticks\":\"\"}}}],\"scatterternary\":[{\"type\":\"scatterternary\",\"marker\":{\"colorbar\":{\"outlinewidth\":0,\"ticks\":\"\"}}}],\"scattercarpet\":[{\"type\":\"scattercarpet\",\"marker\":{\"colorbar\":{\"outlinewidth\":0,\"ticks\":\"\"}}}],\"carpet\":[{\"aaxis\":{\"endlinecolor\":\"#2a3f5f\",\"gridcolor\":\"white\",\"linecolor\":\"white\",\"minorgridcolor\":\"white\",\"startlinecolor\":\"#2a3f5f\"},\"baxis\":{\"endlinecolor\":\"#2a3f5f\",\"gridcolor\":\"white\",\"linecolor\":\"white\",\"minorgridcolor\":\"white\",\"startlinecolor\":\"#2a3f5f\"},\"type\":\"carpet\"}],\"table\":[{\"cells\":{\"fill\":{\"color\":\"#EBF0F8\"},\"line\":{\"color\":\"white\"}},\"header\":{\"fill\":{\"color\":\"#C8D4E3\"},\"line\":{\"color\":\"white\"}},\"type\":\"table\"}],\"barpolar\":[{\"marker\":{\"line\":{\"color\":\"#E5ECF6\",\"width\":0.5},\"pattern\":{\"fillmode\":\"overlay\",\"size\":10,\"solidity\":0.2}},\"type\":\"barpolar\"}],\"pie\":[{\"automargin\":true,\"type\":\"pie\"}]},\"layout\":{\"autotypenumbers\":\"strict\",\"colorway\":[\"#636efa\",\"#EF553B\",\"#00cc96\",\"#ab63fa\",\"#FFA15A\",\"#19d3f3\",\"#FF6692\",\"#B6E880\",\"#FF97FF\",\"#FECB52\"],\"font\":{\"color\":\"#2a3f5f\"},\"hovermode\":\"closest\",\"hoverlabel\":{\"align\":\"left\"},\"paper_bgcolor\":\"white\",\"plot_bgcolor\":\"#E5ECF6\",\"polar\":{\"bgcolor\":\"#E5ECF6\",\"angularaxis\":{\"gridcolor\":\"white\",\"linecolor\":\"white\",\"ticks\":\"\"},\"radialaxis\":{\"gridcolor\":\"white\",\"linecolor\":\"white\",\"ticks\":\"\"}},\"ternary\":{\"bgcolor\":\"#E5ECF6\",\"aaxis\":{\"gridcolor\":\"white\",\"linecolor\":\"white\",\"ticks\":\"\"},\"baxis\":{\"gridcolor\":\"white\",\"linecolor\":\"white\",\"ticks\":\"\"},\"caxis\":{\"gridcolor\":\"white\",\"linecolor\":\"white\",\"ticks\":\"\"}},\"coloraxis\":{\"colorbar\":{\"outlinewidth\":0,\"ticks\":\"\"}},\"colorscale\":{\"sequential\":[[0.0,\"#0d0887\"],[0.1111111111111111,\"#46039f\"],[0.2222222222222222,\"#7201a8\"],[0.3333333333333333,\"#9c179e\"],[0.4444444444444444,\"#bd3786\"],[0.5555555555555556,\"#d8576b\"],[0.6666666666666666,\"#ed7953\"],[0.7777777777777778,\"#fb9f3a\"],[0.8888888888888888,\"#fdca26\"],[1.0,\"#f0f921\"]],\"sequentialminus\":[[0.0,\"#0d0887\"],[0.1111111111111111,\"#46039f\"],[0.2222222222222222,\"#7201a8\"],[0.3333333333333333,\"#9c179e\"],[0.4444444444444444,\"#bd3786\"],[0.5555555555555556,\"#d8576b\"],[0.6666666666666666,\"#ed7953\"],[0.7777777777777778,\"#fb9f3a\"],[0.8888888888888888,\"#fdca26\"],[1.0,\"#f0f921\"]],\"diverging\":[[0,\"#8e0152\"],[0.1,\"#c51b7d\"],[0.2,\"#de77ae\"],[0.3,\"#f1b6da\"],[0.4,\"#fde0ef\"],[0.5,\"#f7f7f7\"],[0.6,\"#e6f5d0\"],[0.7,\"#b8e186\"],[0.8,\"#7fbc41\"],[0.9,\"#4d9221\"],[1,\"#276419\"]]},\"xaxis\":{\"gridcolor\":\"white\",\"linecolor\":\"white\",\"ticks\":\"\",\"title\":{\"standoff\":15},\"zerolinecolor\":\"white\",\"automargin\":true,\"zerolinewidth\":2},\"yaxis\":{\"gridcolor\":\"white\",\"linecolor\":\"white\",\"ticks\":\"\",\"title\":{\"standoff\":15},\"zerolinecolor\":\"white\",\"automargin\":true,\"zerolinewidth\":2},\"scene\":{\"xaxis\":{\"backgroundcolor\":\"#E5ECF6\",\"gridcolor\":\"white\",\"linecolor\":\"white\",\"showbackground\":true,\"ticks\":\"\",\"zerolinecolor\":\"white\",\"gridwidth\":2},\"yaxis\":{\"backgroundcolor\":\"#E5ECF6\",\"gridcolor\":\"white\",\"linecolor\":\"white\",\"showbackground\":true,\"ticks\":\"\",\"zerolinecolor\":\"white\",\"gridwidth\":2},\"zaxis\":{\"backgroundcolor\":\"#E5ECF6\",\"gridcolor\":\"white\",\"linecolor\":\"white\",\"showbackground\":true,\"ticks\":\"\",\"zerolinecolor\":\"white\",\"gridwidth\":2}},\"shapedefaults\":{\"line\":{\"color\":\"#2a3f5f\"}},\"annotationdefaults\":{\"arrowcolor\":\"#2a3f5f\",\"arrowhead\":0,\"arrowwidth\":1},\"geo\":{\"bgcolor\":\"white\",\"landcolor\":\"#E5ECF6\",\"subunitcolor\":\"white\",\"showland\":true,\"showlakes\":true,\"lakecolor\":\"white\"},\"title\":{\"x\":0.05},\"mapbox\":{\"style\":\"light\"}}}},                        {\"responsive\": true}                    ).then(function(){\n",
       "                            \n",
       "var gd = document.getElementById('74969e3b-c57e-4dd2-8855-6335b9d8e8f4');\n",
       "var x = new MutationObserver(function (mutations, observer) {{\n",
       "        var display = window.getComputedStyle(gd).display;\n",
       "        if (!display || display === 'none') {{\n",
       "            console.log([gd, 'removed!']);\n",
       "            Plotly.purge(gd);\n",
       "            observer.disconnect();\n",
       "        }}\n",
       "}});\n",
       "\n",
       "// Listen for the removal of the full notebook cells\n",
       "var notebookContainer = gd.closest('#notebook-container');\n",
       "if (notebookContainer) {{\n",
       "    x.observe(notebookContainer, {childList: true});\n",
       "}}\n",
       "\n",
       "// Listen for the clearing of the current output cell\n",
       "var outputEl = gd.closest('.output');\n",
       "if (outputEl) {{\n",
       "    x.observe(outputEl, {childList: true});\n",
       "}}\n",
       "\n",
       "                        })                };                });            </script>        </div>"
      ]
     },
     "metadata": {},
     "output_type": "display_data"
    }
   ],
   "source": [
    "fig = go.Figure(data=[go.Scatter3d(x=datanus['KernelLength'], y=datanus['AsymCoeff'],\n",
    "                                  z=datanus['KernelWidth'], mode='markers',\n",
    "                                   marker_color=model3.labels_, marker_size=5)])\n",
    "fig.show()"
   ]
  },
  {
   "cell_type": "code",
   "execution_count": null,
   "id": "9bf6ed83",
   "metadata": {},
   "outputs": [],
   "source": []
  }
 ],
 "metadata": {
  "kernelspec": {
   "display_name": "Python 3 (ipykernel)",
   "language": "python",
   "name": "python3"
  },
  "language_info": {
   "codemirror_mode": {
    "name": "ipython",
    "version": 3
   },
   "file_extension": ".py",
   "mimetype": "text/x-python",
   "name": "python",
   "nbconvert_exporter": "python",
   "pygments_lexer": "ipython3",
   "version": "3.9.13"
  }
 },
 "nbformat": 4,
 "nbformat_minor": 5
}
